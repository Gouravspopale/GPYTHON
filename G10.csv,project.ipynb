{
 "cells": [
  {
   "attachments": {},
   "cell_type": "markdown",
   "metadata": {},
   "source": [
    "PYTHON PROGRAM ON CSV FILE TO FECTH THE DATA THROUGH THE EXCEL SHEET TO FIND THE PATICULAR PARAMETER"
   ]
  },
  {
   "cell_type": "code",
   "execution_count": 21,
   "metadata": {},
   "outputs": [
    {
     "name": "stdout",
     "output_type": "stream",
     "text": [
      "Boondi : Rajasthan sweet\n"
     ]
    }
   ],
   "source": [
    "'''This is the excel sheet of indianfood like Sweets and Spicy form Diffrent State's \n",
    " condition is to find there paticular (parameters)'''\n",
    "\n",
    "# INDIAN FOOD \n",
    "import csv\n",
    "\n",
    "with open(\"C:/Users/User7/Desktop/csv.file/indian_food.csv\",\"r\") as file:\n",
    "    data=csv.reader(file)\n",
    "    # i=0\n",
    "    for line in data:\n",
    "        # i=i+1\n",
    "        # if i==1:\n",
    "            \n",
    "     # Finding paticular food from which state it is and it's sweet or spicy\n",
    "    \n",
    "      if line[0] == \"Boondi\":\n",
    "        print(line[0],\":\",line[7],line[5])\n",
    "              \n",
    "      #   # Finding all the food like Sweet and spicy\n",
    "       \n",
    "      #   if line[7] == \"Karnataka\":\n",
    "      #     print(line[7],line[0])\n",
    "\n",
    "      #     # paticular igredent used for sweet or spicy\n",
    "          \n",
    "      #     if line[0]==\"Lassi\":\n",
    "      #       print(line[0],line[1])\n",
    "\n",
    "      #       # to chack it is veg or non veg food\n",
    "            \n",
    "      #       if line[0]==\"Biryani\":\n",
    "      #           print(line[0],\"is\",line[2])\n",
    "               \n",
    "      #           # to check it is sweet or spicy,\n",
    "                \n",
    "      #           if line[0]==\"Obbattu holige\":\n",
    "      #             print(line[0],\"is\",line[5])\n"
   ]
  },
  {
   "cell_type": "markdown",
   "metadata": {},
   "source": [
    "The program to print all the food from paticular (STATE)"
   ]
  },
  {
   "cell_type": "code",
   "execution_count": 20,
   "metadata": {},
   "outputs": [
    {
     "name": "stdout",
     "output_type": "stream",
     "text": [
      "Karnataka : Dharwad pedha\n",
      "Karnataka : Mysore pak\n",
      "Karnataka : Obbattu holige\n",
      "Karnataka : Bisi bele bath\n",
      "Karnataka : Koshambri\n",
      "Karnataka : Sandige\n"
     ]
    }
   ],
   "source": [
    "import csv\n",
    "\n",
    "with open(\"C:/Users/User7/Desktop/csv.file/indian_food.csv\",\"r\") as file:\n",
    "    data=csv.reader(file)\n",
    "    # i=0\n",
    "    for line in data:\n",
    "\n",
    "# Finding all the food like Sweet and spicy from paticular state\n",
    "\n",
    "        if line[7] == \"Karnataka\":\n",
    "            print(line[7],\":\",line[0])"
   ]
  },
  {
   "cell_type": "markdown",
   "metadata": {},
   "source": [
    "This  is the program to print all ingredents of a specific food"
   ]
  },
  {
   "cell_type": "code",
   "execution_count": 19,
   "metadata": {},
   "outputs": [
    {
     "name": "stdout",
     "output_type": "stream",
     "text": [
      "Dharwad pedha : Milk, Sugar, Dharwadi buffalo milk\n"
     ]
    }
   ],
   "source": [
    "import csv\n",
    "\n",
    "with open(\"C:/Users/User7/Desktop/csv.file/indian_food.csv\",\"r\") as file:\n",
    "    data=csv.reader(file)\n",
    "    # i=0\n",
    "    for line in data:\n",
    "\n",
    " \n",
    "# paticular ingredent used for sweet or spicy\n",
    "          \n",
    "        if line[0]==\"Dharwad pedha\":\n",
    "            print(line[0],\":\",line[1])"
   ]
  },
  {
   "cell_type": "markdown",
   "metadata": {},
   "source": [
    "The program to know wether the food is (Veg or Non-Veg)"
   ]
  },
  {
   "cell_type": "code",
   "execution_count": 22,
   "metadata": {},
   "outputs": [
    {
     "name": "stdout",
     "output_type": "stream",
     "text": [
      "Biryani is non vegetarian\n"
     ]
    }
   ],
   "source": [
    "import csv\n",
    "\n",
    "with open(\"C:/Users/User7/Desktop/csv.file/indian_food.csv\",\"r\") as file:\n",
    "    data=csv.reader(file)\n",
    "    # i=0\n",
    "    for line in data:\n",
    "\n",
    "# to chack it is veg or non veg food\n",
    "            \n",
    "            if line[0]==\"Biryani\":\n",
    "                print(line[0],\"is\",line[2])"
   ]
  }
 ],
 "metadata": {
  "kernelspec": {
   "display_name": "Python 3",
   "language": "python",
   "name": "python3"
  },
  "language_info": {
   "codemirror_mode": {
    "name": "ipython",
    "version": 3
   },
   "file_extension": ".py",
   "mimetype": "text/x-python",
   "name": "python",
   "nbconvert_exporter": "python",
   "pygments_lexer": "ipython3",
   "version": "3.11.2"
  },
  "orig_nbformat": 4
 },
 "nbformat": 4,
 "nbformat_minor": 2
}
