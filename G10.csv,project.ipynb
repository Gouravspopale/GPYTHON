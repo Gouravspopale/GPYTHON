{
 "cells": [
  {
   "attachments": {},
   "cell_type": "markdown",
   "metadata": {},
   "source": [
    "PYTHON PROGRAM ON CSV FILE TO FECTH THE DATA THROUGH THE EXCEL SHEET TO FIND THE PATICULAR PARAMETER"
   ]
  },
  {
   "cell_type": "code",
   "execution_count": 2,
   "metadata": {},
   "outputs": [
    {
     "name": "stdout",
     "output_type": "stream",
     "text": [
      "Karnataka Dharwad pedha\n",
      "Karnataka Mysore pak\n",
      "Karnataka Obbattu holige\n",
      "Karnataka Bisi bele bath\n",
      "Karnataka Koshambri\n",
      "Karnataka Sandige\n"
     ]
    }
   ],
   "source": [
    "# This is the excel sheet of indianfood like Sweets and Spicy form Diffrent State's \n",
    "\n",
    "# INDIAN FOOD \n",
    "import csv\n",
    "\n",
    "with open(\"C:/Users/User7/Desktop/csv.file/indian_food.csv\",\"r\") as file:\n",
    "    data=csv.reader(file)\n",
    "    # i=0\n",
    "    for line in data:\n",
    "        # i=i+1\n",
    "        # if i==1:\n",
    "            \n",
    "     # paticular sweet and it state\n",
    "      if line[0] == \"Boondi\":\n",
    "        print(line[0],line[7],line[5])\n",
    "              \n",
    "        # sweets made by paticular state\n",
    "        if line[7] == \"Karnataka\":\n",
    "          print(line[7],line[0])\n",
    "\n",
    "          #paticular igredent used for sweet\n",
    "          if line[0]==\"Lassi\":\n",
    "            print(line[0],line[1])\n",
    "\n",
    "            # to chack it is veg or non veg dish\n",
    "            if line[0]==\"Biryani\":\n",
    "                print(line[0],\"is\",line[2])\n",
    "               \n",
    "                # to check it is sweet or spicy,\n",
    "                if line[0]==\"Obbattu holige\":\n",
    "                  print(line[0],\"is\",line[5])\n"
   ]
  }
 ],
 "metadata": {
  "kernelspec": {
   "display_name": "Python 3",
   "language": "python",
   "name": "python3"
  },
  "language_info": {
   "codemirror_mode": {
    "name": "ipython",
    "version": 3
   },
   "file_extension": ".py",
   "mimetype": "text/x-python",
   "name": "python",
   "nbconvert_exporter": "python",
   "pygments_lexer": "ipython3",
   "version": "3.11.2"
  },
  "orig_nbformat": 4
 },
 "nbformat": 4,
 "nbformat_minor": 2
}
