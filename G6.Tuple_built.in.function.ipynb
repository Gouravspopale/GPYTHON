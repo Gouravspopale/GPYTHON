{
 "cells": [
  {
   "attachments": {},
   "cell_type": "markdown",
   "metadata": {},
   "source": [
    "PROGRAM ON TUPLE BY USING IT'S BUILT IN FUNCTION"
   ]
  },
  {
   "cell_type": "code",
   "execution_count": 1,
   "metadata": {},
   "outputs": [
    {
     "name": "stdout",
     "output_type": "stream",
     "text": [
      "<class 'tuple'>\n"
     ]
    }
   ],
   "source": [
    "#  cerating a empty tuple\n",
    "\n",
    "Tuple1=()\n",
    "print(type(Tuple1))"
   ]
  },
  {
   "cell_type": "code",
   "execution_count": 2,
   "metadata": {},
   "outputs": [
    {
     "name": "stdout",
     "output_type": "stream",
     "text": [
      "\n",
      "Tuple using List: \n",
      "(1, 2, 4, 5, 6)\n"
     ]
    }
   ],
   "source": [
    "# Creating a Tuple with the use of list\n",
    "\n",
    "list1 = [1, 2, 4, 5, 6]\n",
    "print(\"\\nTuple using List: \")\n",
    "print(tuple(list1))"
   ]
  },
  {
   "cell_type": "code",
   "execution_count": 3,
   "metadata": {},
   "outputs": [
    {
     "name": "stdout",
     "output_type": "stream",
     "text": [
      "\n",
      "Tuple with the use of function: \n",
      "('G', 'e', 'e', 'k', 's')\n"
     ]
    }
   ],
   "source": [
    "# Creating a Tuple with the use of built-in function\n",
    "\n",
    "Tuple1 = tuple('Geeks')\n",
    "print(\"\\nTuple with the use of function: \")\n",
    "print(Tuple1)"
   ]
  },
  {
   "cell_type": "code",
   "execution_count": 4,
   "metadata": {},
   "outputs": [
    {
     "name": "stdout",
     "output_type": "stream",
     "text": [
      "\n",
      "Tuple with nested tuples: \n",
      "((0, 1, 2, 3), ('python', 'geek'))\n"
     ]
    }
   ],
   "source": [
    "# Creating a Tuple\n",
    "# with nested tuples\n",
    "\n",
    "Tuple1 = (0, 1, 2, 3)\n",
    "Tuple2 = ('python', 'geek')\n",
    "Tuple3 = (Tuple1,Tuple2)\n",
    "print(\"\\nTuple with nested tuples: \")\n",
    "print(Tuple3)"
   ]
  },
  {
   "cell_type": "code",
   "execution_count": 5,
   "metadata": {},
   "outputs": [
    {
     "name": "stdout",
     "output_type": "stream",
     "text": [
      "\n",
      "First element of Tuple: \n",
      "G\n"
     ]
    }
   ],
   "source": [
    "# Accessing Tuple with Indexing\n",
    "\n",
    "Tuple1 = tuple(\"Geeks\")\n",
    "print(\"\\nFirst element of Tuple: \")\n",
    "print(Tuple1[0])"
   ]
  },
  {
   "cell_type": "code",
   "execution_count": 6,
   "metadata": {},
   "outputs": [
    {
     "name": "stdout",
     "output_type": "stream",
     "text": [
      "g\n",
      "v\n"
     ]
    }
   ],
   "source": [
    "# Accessing the lement using positive indexing\n",
    "t1 = (\"g\",\"o\",\"r\",\"a\",\"v\")\n",
    "print(t1[0])    #print \"g\"\n",
    "print(t1[4])    #print \"v\""
   ]
  },
  {
   "cell_type": "code",
   "execution_count": 7,
   "metadata": {},
   "outputs": [
    {
     "name": "stdout",
     "output_type": "stream",
     "text": [
      "a\n",
      "o\n"
     ]
    }
   ],
   "source": [
    "# Accessing the lement using negative indexing\n",
    "\n",
    "t1 = (\"g\",\"o\",\"r\",\"a\",\"v\")\n",
    "print(t1[-2])    #print \"a\"\n",
    "print(t1[-4])    #print \"o\""
   ]
  },
  {
   "cell_type": "code",
   "execution_count": 8,
   "metadata": {},
   "outputs": [
    {
     "name": "stdout",
     "output_type": "stream",
     "text": [
      "(2, 3, 4, 5)\n",
      "(1, 2)\n",
      "(8, 9)\n",
      "(1, 2, 3, 4, 5, 6, 7, 8, 9)\n"
     ]
    }
   ],
   "source": [
    "# Accessing tuple element using slicing\n",
    "my_tuple = (1,2,3,4,5,6,7,8,9)\n",
    "print(my_tuple[1:5])    #(2,3,4,5)\n",
    "print(my_tuple[:-7])    #(1,2)\n",
    "print(my_tuple[7:])     #(8,9)\n",
    "print(my_tuple[:])      # returns all the tuples items"
   ]
  },
  {
   "cell_type": "code",
   "execution_count": 9,
   "metadata": {},
   "outputs": [
    {
     "name": "stdout",
     "output_type": "stream",
     "text": [
      "2\n",
      "1\n",
      "5\n"
     ]
    }
   ],
   "source": [
    "# Using count and index in tuple\n",
    "my_tuple = (\"h\",\"u\",\"b\",\"l\",\"i\",\"k\",\"e\",\"o\",\"n\",\"i\",\"c\",\"s\")\n",
    "print(my_tuple.count(\"i\"))   #2\n",
    "print(my_tuple.count(\"n\"))   #1\n",
    "print(my_tuple.index(\"k\"))   #5"
   ]
  },
  {
   "cell_type": "code",
   "execution_count": 10,
   "metadata": {},
   "outputs": [
    {
     "name": "stdout",
     "output_type": "stream",
     "text": [
      "False\n",
      "True\n"
     ]
    }
   ],
   "source": [
    "# Check if an item exists in the python Tuple\n",
    "\n",
    "my_tuple = (\"Gourav\",\"keonics\",\"student\")\n",
    "print(\"hubli\" in my_tuple)   #FALSE\n",
    "print(\"Gourav\" in my_tuple)  #TRUE"
   ]
  },
  {
   "cell_type": "code",
   "execution_count": 11,
   "metadata": {},
   "outputs": [
    {
     "name": "stdout",
     "output_type": "stream",
     "text": [
      "\n",
      "Values after unpacking: \n",
      "Geeks\n",
      "For\n",
      "Geeks\n"
     ]
    }
   ],
   "source": [
    "# Tuple unpacking\n",
    "Tuple1 = (\"Geeks\", \"For\", \"Geeks\")\n",
    " \n",
    "# This line unpack\n",
    "# values of Tuple1\n",
    "a, b, c = Tuple1\n",
    "print(\"\\nValues after unpacking: \")\n",
    "print(a)\n",
    "print(b)\n",
    "print(c)"
   ]
  },
  {
   "cell_type": "code",
   "execution_count": 12,
   "metadata": {},
   "outputs": [
    {
     "ename": "NameError",
     "evalue": "name 'Tuple1' is not defined",
     "output_type": "error",
     "traceback": [
      "\u001b[1;31m---------------------------------------------------------------------------\u001b[0m",
      "\u001b[1;31mNameError\u001b[0m                                 Traceback (most recent call last)",
      "Cell \u001b[1;32mIn[12], line 6\u001b[0m\n\u001b[0;32m      3\u001b[0m Tuple1 \u001b[39m=\u001b[39m (\u001b[39m0\u001b[39m, \u001b[39m1\u001b[39m, \u001b[39m2\u001b[39m, \u001b[39m3\u001b[39m, \u001b[39m4\u001b[39m)\n\u001b[0;32m      4\u001b[0m \u001b[39mdel\u001b[39;00m Tuple1\n\u001b[1;32m----> 6\u001b[0m \u001b[39mprint\u001b[39m(Tuple1)\n",
      "\u001b[1;31mNameError\u001b[0m: name 'Tuple1' is not defined"
     ]
    }
   ],
   "source": [
    "# Deleting a Tuple\n",
    " \n",
    "Tuple1 = (0, 1, 2, 3, 4)\n",
    "del Tuple1\n",
    " \n",
    "print(Tuple1)"
   ]
  }
 ],
 "metadata": {
  "kernelspec": {
   "display_name": "Python 3",
   "language": "python",
   "name": "python3"
  },
  "language_info": {
   "codemirror_mode": {
    "name": "ipython",
    "version": 3
   },
   "file_extension": ".py",
   "mimetype": "text/x-python",
   "name": "python",
   "nbconvert_exporter": "python",
   "pygments_lexer": "ipython3",
   "version": "3.11.2"
  },
  "orig_nbformat": 4
 },
 "nbformat": 4,
 "nbformat_minor": 2
}
