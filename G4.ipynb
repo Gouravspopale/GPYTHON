{
 "cells": [
  {
   "attachments": {},
   "cell_type": "markdown",
   "metadata": {},
   "source": [
    "ASSIGNMENT ON CSV FILE"
   ]
  },
  {
   "attachments": {},
   "cell_type": "markdown",
   "metadata": {},
   "source": [
    "PROGRAM ON CSV FILE TO FETCH DATA FROM EXCEL DATASET"
   ]
  },
  {
   "cell_type": "code",
   "execution_count": 1,
   "metadata": {},
   "outputs": [
    {
     "name": "stdout",
     "output_type": "stream",
     "text": [
      "['Surname', 'First name', 'Email address', 'Grade/30.00', '', '']\n",
      "['Khan', 'Muneeb Hassan', 'cosc18131128@kfueit.edu.pk', '23', '', '']\n",
      "['Ali', 'Usama', 'cosc19231030@kfueit.edu.pk', '21', '', '']\n",
      "['.', 'Zulqarnane', 'cs171203@kfueit.edu.pk', '26', '', '']\n",
      "['Ali', 'Mohammad Muneeb', 'cs171137@kfueit.edu.pk', '26', '', '']\n",
      "['Rafiq', 'Zainab Shakir', 'cs172076@kfueit.edu.pk', '16', '', '']\n",
      "['Shahid', 'Muhammad Hamza', 'cs171198@kfueit.edu.pk', '26', '', '']\n",
      "['Ahmad', 'Ahmad Bilal', 'cs171185@kfueit.edu.pk', '25', '', 'VIVA']\n",
      "['NAEEM', 'NAJAF', 'cosc19131003@kfueit.edu.pk', '21', '', '']\n",
      "['Ijaz', 'Aman', 'cs181029@kfueit.edu.pk', '24', '', '']\n",
      "['Sajjad', 'Mian Talha', 'cs172126@kfueit.edu.pk', '23', '', '']\n",
      "['Ahmad', 'Usama', 'cs181053@kfueit.edu.pk', '15', '', '']\n",
      "['ALI', 'MAISIM', 'cosc19131015@kfueit.edu.pk', '15', '', '']\n",
      "['ALI', 'QADIR', 'cosc19131007@kfueit.edu.pk', '27', '', '']\n",
      "['Ali', 'Mohammad Haseeb', 'cs171194@kfueit.edu.pk', '26', '', '']\n",
      "['AHMED', 'JAM', 'cosc19131052@kfueit.edu.pk', '18', '', '']\n",
      "['Imtiaz', 'Sikandar', 'cs171009@kfueit.edu.pk', '27', '', '']\n",
      "['KUMAR', 'DALEEP', 'cosc19131029@kfueit.edu.pk', '28', '', '']\n",
      "['FAROOQ', 'JUNAID', 'cosc19131001@kfueit.edu.pk', '27', '', '']\n",
      "['Almas', 'Mah Jabeen', 'cosc19231016@kfueit.edu.pk', '15', '', '']\n",
      "['IRFAN', 'KHANSA', 'cosc19231014@kfueit.edu.pk', '12', '', '']\n",
      "['ASHRAF', 'REHMAN', 'cosc19131035@kfueit.edu.pk', '14', '', '']\n",
      "['.', 'Hina Murtaza', 'cosc19231034@kfueit.edu.pk', '7', '', '']\n",
      "['FATIMA', 'GHULAM', 'cosc19131032@kfueit.edu.pk', '11', '', '']\n",
      "['IKRAM', 'HAMZA', 'cosc19131018@kfueit.edu.pk', '28', '', '']\n",
      "['HAMZA', 'MUHAMMAD ALI', 'cosc19131043@kfueit.edu.pk', '28', '', '']\n",
      "['KUMAR', 'VIJAY', 'cosc19131030@kfueit.edu.pk', '27', '', '']\n",
      "['SALEEM', 'SANA', 'cosc19131005@kfueit.edu.pk', '16', '', '']\n",
      "['ALI', 'ARSLAN', 'cosc19131034@kfueit.edu.pk', '28', '', '']\n",
      "['SAKHAWAT', 'MARIA', 'cosc19131045@kfueit.edu.pk', '11', '', '']\n",
      "['ASGHAR', 'ALI', 'cosc19131036@kfueit.edu.pk', '27', '', '']\n",
      "['LIAQAT', 'USMAN', 'cosc19131008@kfueit.edu.pk', '17', '', '']\n",
      "['Saeed', 'Iqra', 'cosc19231011@kfueit.edu.pk', '12', '', '']\n",
      "['Bilal', 'Muhammad', 'cs181048@kfueit.edu.pk', '11', '', '']\n",
      "['RAHEEL', 'MUHAMMAD', 'cosc19131022@kfueit.edu.pk', '24', '', '']\n",
      "['SATTAR', 'FAREEHA', 'cosc19131017@kfueit.edu.pk', '24', '', '']\n",
      "['Farooq', 'Saim', 'cosc18131073@kfueit.edu.pk', '22', '', '']\n",
      "['.', 'MUHAMMAD NAZIM', 'cosc19131026@kfueit.edu.pk', '15', '', '']\n",
      "['Azhar', 'Hamza', 'cs172167@kfueit.edu.pk', '24', '', '']\n",
      "['QASIM', 'HINA', 'cosc19131013@kfueit.edu.pk', '16', '', '']\n",
      "['IRSHAD', 'KANWAL', 'cosc19131012@kfueit.edu.pk', '17', '', '']\n",
      "['HUSSAIN', 'ALI', 'cosc19131044@kfueit.edu.pk', '18', '', '']\n",
      "['KOMAL', 'KAINAT', 'cosc19131011@kfueit.edu.pk', '14', '', '']\n",
      "['ABID', 'MUHAMMAD TALHA', 'cosc19131024@kfueit.edu.pk', '23', '', '']\n",
      "['IFTIKHAR', 'SHIZA', 'cosc19131014@kfueit.edu.pk', '16', '', '']\n",
      "['KFUEIT', 'cosc19131051', 'cosc19131051@kfueit.edu.pk', '23', '', '']\n",
      "['BILAL', 'MUHAMMAD', 'cosc19131033@kfueit.edu.pk', '19', '', '']\n",
      "['ZIA', 'KASHAF', 'cosc19131040@kfueit.edu.pk', '18', '', '']\n",
      "['JAVAID', 'ASAD', 'cosc19131039@kfueit.edu.pk', '18', '', '']\n",
      "['FAROOQ', 'KHANSA', 'cosc19131049@kfueit.edu.pk', '26', '', '']\n",
      "['ARSHAD', 'MUHAMMAD', 'cosc19131002@kfueit.edu.pk', '17', '', '']\n",
      "['TALIB', 'KIRAN', 'cosc19131028@kfueit.edu.pk', '14', '', '']\n",
      "['RAUF', 'FAIZA ABDUL', 'cosc19131048@kfueit.edu.pk', '15', '', '']\n",
      "['AFZAL', 'MOAZAM', 'cosc19131041@kfueit.edu.pk', '18', '', '']\n",
      "['SHOUKAT', 'AYESHA', 'cosc19131004@kfueit.edu.pk', '20', '', '']\n",
      "['Ghous', 'Muhammad Safdar', 'cs181021@kfueit.edu.pk', '12', '', '']\n",
      "['Afzal', 'Abu Nasar', 'cosc18131111@kfueit.edu.pk', '21', '', '']\n",
      "['Shoaib', 'Syed Muhammad', 'cs181039@kfueit.edu.pk', '23', '', '']\n",
      "['IMRAN', 'MUHAMMAD', 'cosc19131019@kfueit.edu.pk', '19', '', '']\n",
      "['BIBI', 'SUMAIRA', 'cosc19131031@kfueit.edu.pk', '15', '', '']\n",
      "['Javed', 'Arbaz', 'cs181042@kfueit.edu.pk', '14', '', '']\n",
      "['AFZAL', 'MINAHIL', 'cosc19131009@kfueit.edu.pk', '12', '', '']\n",
      "['Arshad', 'Kiran', 'cosc18131106@kfueit.edu.pk', '18', '', '']\n",
      "['ASLAM', 'SAMINA', 'cosc19131027@kfueit.edu.pk', '17', '', '']\n",
      "['ILYAS', 'MUHAMMAD', 'cosc19131037@kfueit.edu.pk', '30', '', '']\n",
      "['Kamiii', 'KAMRAN AKBAR', 'cosc19131042@kfueit.edu.pk', '30', '', '']\n",
      "['Ejaz', 'Zawar', 'cs181043@kfueit.edu.pk', '12', '', '']\n",
      "['ATTIQ', 'RIZWAN', 'cosc19131021@kfueit.edu.pk', '22', '', '']\n",
      "['ASHIQ', 'AYESHA', 'cosc19131023@kfueit.edu.pk', '11', '', '']\n",
      "['Khan', 'Sallar', 'cs171128@kfueit.edu.pk', '13', '', '']\n",
      "['.', 'ESHA AMJAD', 'cosc19131038@kfueit.edu.pk', '12', '', '']\n",
      "['AMANAT', 'KAINAT', 'cosc19131010@kfueit.edu.pk', '5', '', '']\n",
      "['NAWAZ', 'RIMSHA', 'cosc19131046@kfueit.edu.pk', '5', '', '']\n",
      "['Salar', ' Khan', 'cs171128@kfueit.edu.pk', '10', '', '']\n",
      "['Hafiz', 'Fahad', 'cs171135', '12', '', '']\n"
     ]
    }
   ],
   "source": [
    "import csv\n",
    "\n",
    "#  this csv file have 4 data\n",
    "# ([0],surname).([1]firstname).([2],email.id).([3],grade)\n",
    "with open(\"C:/Users/User7/Desktop/csv.file/MCS-3A-MID-1.csv\",\"r\") as file:\n",
    "    # copy the path were the excel(csv) file  is saved\n",
    "   \n",
    "    i=0\n",
    "    data = csv.reader(file)\n",
    "    for line in data:\n",
    "       \n",
    "       i=i+1\n",
    "       if i==2: # to skip paticular (row)\n",
    "        continue\n",
    "       print(line)\n",
    "    if (line[3]>str(20)):   #to find student who scored above(20)marks.\n",
    "        \n",
    "      print(line[3])  #[] by using index i can get only that paticular data."
   ]
  },
  {
   "cell_type": "code",
   "execution_count": 4,
   "metadata": {},
   "outputs": [
    {
     "name": "stdout",
     "output_type": "stream",
     "text": [
      "HP 5148468\n",
      "HP 6GB\n",
      "HP 7166952\n",
      "HP 8GB\n",
      "HP 16965936\n",
      "HP 8GB\n",
      "HP 0.97kg\n",
      "HP 4437108\n",
      "HP 11995308\n",
      "HP 8GB\n",
      "HP 1.11kg\n",
      "HP 18575388\n",
      "HP 8GB\n",
      "HP 1.48kg\n",
      "HP 10572588\n",
      "HP 8GB\n",
      "HP 1.34kg\n",
      "HP 6926868\n",
      "HP 9781111.08\n",
      "HP 10714860\n",
      "HP 12884508\n",
      "HP 8GB\n",
      "HP 1.43kg\n",
      "HP 9330019.92\n",
      "HP 8GB\n",
      "HP 1.64kg\n",
      "HP 6082128\n",
      "HP 13684788\n",
      "HP 14138280\n",
      "HP 16781071.32\n",
      "HP 8GB\n",
      "HP 1.54kg\n",
      "HP 7113600\n",
      "HP 6846751.08\n",
      "HP 19820268\n",
      "HP 8GB\n",
      "HP 1.43kg\n",
      "HP 10216908\n",
      "HP 8GB\n",
      "HP 1.11kg\n",
      "HP 10540843.56\n",
      "HP 8GB\n",
      "HP 1.64kg\n",
      "HP 13862628\n",
      "HP 10572588\n",
      "HP 9425520\n",
      "HP 9603360\n",
      "HP 8GB\n",
      "HP 8651916\n",
      "HP 10625940\n",
      "HP 8GB\n",
      "HP 1.95kg\n",
      "HP 10928179.08\n",
      "HP 8GB\n",
      "HP 1.84kg\n",
      "HP 11995308\n",
      "HP 8GB\n",
      "HP 1.26kg\n",
      "HP 6597864\n",
      "HP 8985454.92\n",
      "HP 8GB\n",
      "HP 1.64kg\n",
      "HP 8892000\n",
      "HP 18702899.28\n",
      "HP 8GB\n",
      "HP 1.84kg\n",
      "HP 13062348\n",
      "HP 8GB\n",
      "HP 1.43kg\n",
      "HP 8705268\n",
      "HP 8GB\n",
      "HP 1.91kg\n",
      "HP 8705268\n",
      "HP 6270193.8\n",
      "HP 4437108\n",
      "HP 9514440\n",
      "HP 8GB\n",
      "HP 10661508\n",
      "HP 10661508\n",
      "HP 8GB\n",
      "HP 1.26kg\n",
      "HP 9692280\n",
      "HP 8GB\n",
      "HP 1.49kg\n",
      "HP 8358480\n",
      "HP 18219708\n",
      "HP 9167563.08\n",
      "HP 13293540\n",
      "HP 8GB\n",
      "HP 1.9kg\n",
      "HP 5468580\n",
      "HP 3076543.08\n",
      "HP 14218308\n",
      "HP 4446000\n",
      "HP 25777908\n",
      "HP 8GB\n",
      "HP 3539016\n",
      "HP 15107508\n",
      "HP 8GB\n",
      "HP 1.16kg\n",
      "HP 17508348\n",
      "HP 8GB\n",
      "HP 1.16kg\n",
      "HP 15027480\n",
      "HP 8GB\n",
      "HP 1.16kg\n",
      "HP 13453596\n",
      "HP 8GB\n",
      "HP 1.43kg\n",
      "HP 16850340\n",
      "HP 8GB\n",
      "HP 1.26kg\n",
      "HP 10039068\n",
      "HP 8GB\n",
      "HP 5593068\n",
      "HP 8GB\n",
      "HP 6686784\n",
      "HP 8GB\n",
      "HP 1.84kg\n",
      "HP 35118064.8\n",
      "HP 8GB\n",
      "HP 19310934.24\n",
      "HP 8GB\n",
      "HP 1.88kg\n",
      "HP 14485068\n",
      "HP 8GB\n",
      "HP 1.48kg\n",
      "HP 19820268\n",
      "HP 8GB\n",
      "HP 15996708\n",
      "HP 8GB\n",
      "HP 1.48kg\n",
      "HP 16885908\n",
      "HP 8GB\n",
      "HP 20424479.4\n",
      "HP 8GB\n",
      "HP 1.26kg\n",
      "HP 14040468\n",
      "HP 8GB\n",
      "HP 1.88kg\n",
      "HP 2640924\n",
      "HP 4258289.88\n",
      "HP 18148572\n",
      "HP 8GB\n",
      "HP 1.48kg\n",
      "HP 7993908\n",
      "HP 8GB\n",
      "HP 4241395.08\n",
      "HP 2214108\n",
      "HP 6037668\n",
      "HP 8GB\n",
      "HP 1.96kg\n",
      "HP 10305828\n",
      "HP 5779800\n",
      "HP 7104708\n",
      "HP 6GB\n",
      "HP 4312620\n",
      "HP 11799684\n",
      "HP 5148468\n",
      "HP 8GB\n",
      "HP 1.91kg\n",
      "HP 4703868\n",
      "HP 6GB\n",
      "HP 4250376\n",
      "HP 19546305.48\n",
      "HP 8GB\n",
      "HP 1.54kg\n",
      "HP 9781111.08\n",
      "HP 3547908\n",
      "HP 4890511.08\n",
      "HP 6GB\n",
      "HP 1858428\n",
      "HP 6793488\n",
      "HP 6GB\n",
      "HP 4890511.08\n",
      "HP 6GB\n",
      "HP 1858428\n",
      "HP 6793488\n",
      "HP 6GB\n",
      "HP 4890511.08\n",
      "HP 6GB\n",
      "HP 1858428\n",
      "HP 6793488\n",
      "HP 6GB\n"
     ]
    }
   ],
   "source": [
    "import csv\n",
    "\n",
    "with open(\"C:/Users/User7/Desktop/csv.file/laptops_test.csv\",\"r\") as file:\n",
    "    data=csv.reader(file)\n",
    "    # i=0\n",
    "    for line1 in data:\n",
    "    #  print(line1[0]) it prints all manufacture company of laptop,\n",
    "        # i=i+1\n",
    "        \n",
    "        if line1[0]==\"HP\" :# SEARCHING A PATICULAR LAPTOP COMPANY,\n",
    "            # continue\n",
    "            print(line1[0],line1[12])          #LAPTOP WITH ITS PRICE,\n",
    "            \n",
    "            if line1[6]>=\"6\": \n",
    "                print(line1[0],line1[6])       #laptop and it storage data,\n",
    "\n",
    "                if line1[11]<=\"2\":\n",
    "                    print(line1[0],line1[11])  # weight of laptop of paticular company"
   ]
  },
  {
   "cell_type": "code",
   "execution_count": 1,
   "metadata": {},
   "outputs": [
    {
     "name": "stdout",
     "output_type": "stream",
     "text": [
      "32 Software Engineer\n",
      "90000\n",
      "5\n",
      "32 Account Manager\n",
      "75000\n",
      "5\n",
      "32 Senior Software Engineer\n",
      "32 Senior Business Analyst\n",
      "90000\n",
      "6\n",
      "32 Marketing Coordinator\n",
      "32 Junior Financial Analyst\n",
      "32 Junior Account Manager\n",
      "55000\n",
      "5\n",
      "32 Junior Sales Representative\n",
      "32 Junior Marketing Manager\n",
      "60000\n",
      "32 Junior Product Manager\n",
      "65000\n",
      "32 Junior Financial Advisor\n",
      "65000\n",
      "32 Junior Marketing Coordinator\n",
      "55000\n"
     ]
    }
   ],
   "source": [
    "import csv\n",
    "\n",
    "with open(\"C:/Users/User7/Desktop/csv.file/Salary Data.csv\",\"r\") as file:\n",
    "    data=csv.reader(file)\n",
    "    \n",
    "    for line2 in data:\n",
    "        \n",
    "        # print(line2[0])  # prints all information, of employee salary.data\n",
    "        # and also we can paticular row and coloum \n",
    "        if line2[0] == \"32\":# it picks employee age equale to 32,\n",
    "            print(line2[0],line2[3]) #[3] JOB TITTLE\n",
    "            \n",
    "            if line2[5]>str(50000):\n",
    "            # the employee who takes above 50000: salary\n",
    "                print(line2[5])\n",
    "                \n",
    "                if line2[4]>=str(5):\n",
    "                    print(line2[4])\n",
    "\n",
    "                    if line2[]"
   ]
  },
  {
   "cell_type": "code",
   "execution_count": 1,
   "metadata": {},
   "outputs": [
    {
     "name": "stdout",
     "output_type": "stream",
     "text": [
      "Royal Enfield Thunderbird X 350cc 145000 Royal Enfield\n",
      "3 9190 Bangalore\n",
      "Royal Enfield Thunderbird X 350cc 150000 Royal Enfield\n",
      "3 15000 Bangalore\n",
      "Royal Enfield Thunderbird X 350cc 160000 Royal Enfield\n",
      "3 5800 Hyderabad\n",
      "Royal Enfield Thunderbird X 350cc 148000 Royal Enfield\n",
      "3 3000 Jalandhar\n",
      "Royal Enfield Thunderbird X 350cc 160000 Royal Enfield\n",
      "3 4200 Hyderabad\n",
      "Royal Enfield Thunderbird X 350cc 148000 Royal Enfield\n",
      "3 3000 Jalandhar\n",
      "Royal Enfield Thunderbird X 350cc 138000 Royal Enfield\n",
      "3 6500 Kasargode\n",
      "Royal Enfield Thunderbird X 350cc 137000 Royal Enfield\n",
      "3 7500 Satara\n",
      "Royal Enfield Thunderbird X 350cc 150000 Royal Enfield\n",
      "3 2900 Pune\n",
      "Royal Enfield Thunderbird X 350cc 150900 Royal Enfield\n",
      "3 11850 Bangalore\n",
      "Royal Enfield Thunderbird X 350cc 141800 Royal Enfield\n",
      "3 9200 Bhopal\n",
      "Royal Enfield Thunderbird X 350cc 141800 Royal Enfield\n",
      "3 9200 Bhopal\n",
      "Royal Enfield Thunderbird X 350cc 150000 Royal Enfield\n",
      "3 27356 Bangalore\n"
     ]
    }
   ],
   "source": [
    "import csv\n",
    "# [0] bike name/ [1]price/ [2]city/ [3]km drived / [4]owner/[5] age/[6] / [7]brand\n",
    "with open(\"C:/Users/User7/Desktop/csv.file/Used_Bikes.csv\",\"r\")as file:\n",
    "    data=csv.reader(file)\n",
    "    \n",
    "    for line in data:\n",
    "        # to cheack how many same bikes r there and with (price),(brand)\n",
    "        if line[0] == \"Royal Enfield Thunderbird X 350cc\":\n",
    "          print(line[0],line[1],line[7])\n",
    "          \n",
    "          if line[5]<=\"3\":  # to check how many years bike is used (k/m runned by that bike)(in which city) \n",
    "            print(line[5],line[3],line[2])"
   ]
  },
  {
   "cell_type": "code",
   "execution_count": 6,
   "metadata": {},
   "outputs": [
    {
     "name": "stdout",
     "output_type": "stream",
     "text": [
      "Karnataka Dharwad pedha\n",
      "Karnataka Mysore pak\n",
      "Karnataka Obbattu holige\n",
      "Karnataka Bisi bele bath\n",
      "Karnataka Koshambri\n",
      "Karnataka Sandige\n"
     ]
    }
   ],
   "source": [
    "import csv\n",
    "\n",
    "with open(\"C:/Users/User7/Desktop/csv.file/indian_food.csv\",\"r\") as file:\n",
    "    data=csv.reader(file)\n",
    "    # i=0\n",
    "    for line in data:\n",
    "        # i=i+1\n",
    "        # if i==1:\n",
    "            \n",
    "            # paticular sweet and it state\n",
    "              # if line[0] == \"Boondi\":\n",
    "              #   print(line[0],line[7],line[5])\n",
    "              \n",
    "              # sweets made by paticular state\n",
    "              if line[7] == \"Karnataka\":\n",
    "                print(line[7],line[0])\n",
    "\n",
    "              # paticular igredent used for sweet\n",
    "              # if line[0]==\"Lassi\":\n",
    "              #   print(line[0],line[1])\n",
    "\n",
    "              # to chack it is veg or non veg dish\n",
    "              # if line[0]==\"Biryani\":\n",
    "              #   print(line[0],\"is\",line[2])\n",
    "               \n",
    "              # to check it is sweet or spicy\n",
    "              # if line[0]==\"Obbattu holige\":\n",
    "              #   print(line[0],\"is\",line[5])\n"
   ]
  },
  {
   "attachments": {},
   "cell_type": "markdown",
   "metadata": {},
   "source": [
    "ASSIGMENT ON FILE HANDLING"
   ]
  },
  {
   "cell_type": "code",
   "execution_count": 1,
   "metadata": {},
   "outputs": [
    {
     "name": "stdout",
     "output_type": "stream",
     "text": [
      "finally back\n"
     ]
    }
   ],
   "source": [
    "#  using try,except, and finally in txt.file\n",
    "def funct():\n",
    "    try:\n",
    "       file=open(\"filehand.txt/a.txt\",\"w\")\n",
    "       file.write(\"hello gourav\")\n",
    "    except:\n",
    "        print(\"Exception raised\")\n",
    "    finally:\n",
    "        print(\"finally back\")\n",
    "        file.close()\n",
    "funct()\n"
   ]
  },
  {
   "cell_type": "code",
   "execution_count": 31,
   "metadata": {},
   "outputs": [
    {
     "name": "stdout",
     "output_type": "stream",
     "text": [
      "[9, 11, 26, 28]\n"
     ]
    }
   ],
   "source": [
    "# write a program to find the intersection of two list\n",
    "\n",
    "def intersection(lst1, lst2):\n",
    "    lst3 = [value for value in lst1 if value in lst2]\n",
    "    return lst3\n",
    " \n",
    "# Driver Code\n",
    "lst1 = [4, 9, 1, 17, 11, 26, 28, 54, 69]\n",
    "lst2 = [9, 9, 74, 21, 45, 11, 63, 28, 26]\n",
    "print(intersection(lst1, lst2))"
   ]
  },
  {
   "cell_type": "code",
   "execution_count": 33,
   "metadata": {},
   "outputs": [
    {
     "name": "stdout",
     "output_type": "stream",
     "text": [
      "THE CHARACTER g IS FOUND 2 TIMES IN THE TEXT FILE\n"
     ]
    }
   ],
   "source": [
    "#  PROGRAM TO COUNT THE OCCURENCE OF A SPECIFIC CHARACTER IN A FILE \n",
    "\n",
    "# count = 0  # the value assigned is ,0,\n",
    "char = input(\"ENTER CHARACTER : \")\n",
    "count = 0\n",
    "with open(\"filehand.txt/a.txt\",\"r\") as file:\n",
    "  for i in file:\n",
    "   for c in i:  # c=character in (i):\n",
    "    if c == char:\n",
    "      count = count + 1\n",
    "print(\"THE CHARACTER {} IS FOUND {} TIMES IN THE TEXT FILE\".format(char,count))"
   ]
  },
  {
   "cell_type": "code",
   "execution_count": 1,
   "metadata": {},
   "outputs": [],
   "source": [
    "\n",
    "import csv\n",
    "data=[\"NAME\",\"ROLL NUMBER\",\"MARKS\",\"GRADE\"]\n",
    "\n",
    "rows=    [['GOURAV', '111', '80', 'A'], \n",
    "         ['SHANKER', '222', '95', 'A+'], \n",
    "         ['SAMARTH', '333', '96', 'A+'], \n",
    "         ['VINAYAK', '444', '90', 'A+'], \n",
    "         ['HEMANTH', '555', '85', 'A'], \n",
    "         ['RAJ', '666', '90', 'A']]\n",
    "\n",
    "\n",
    "with open(\"filehand.txt/A.csv\", 'w') as csvfile:\n",
    "   csvwriter = csv.writer(csvfile)\n",
    "   csvwriter.writerow(data)\n",
    "   csvwriter.writerows(rows)"
   ]
  },
  {
   "attachments": {},
   "cell_type": "markdown",
   "metadata": {},
   "source": [
    "ASSSIGNMENT ON SET"
   ]
  },
  {
   "cell_type": "code",
   "execution_count": 8,
   "metadata": {},
   "outputs": [
    {
     "name": "stdout",
     "output_type": "stream",
     "text": [
      "{50, 51, 52, 53, 54, 55, 56, 57, 58, 59}\n"
     ]
    }
   ],
   "source": [
    "#  ASSIGMENT ON SET TO DISPLAY INTERSECTION MARKS BETWEEN THREE CLASS STUDENT USING SET OPREATION\n",
    "SET1=set()\n",
    "SET2=set()\n",
    "SET3=set()\n",
    "for i in range(35,60) :\n",
    "    SET1.add(i)\n",
    "for j in range(40,75):\n",
    "    SET2.add(j)\n",
    "for k in range(50,99):\n",
    "     SET3.add(k)\n",
    "     SET4=SET1.intersection(SET2)\n",
    "     TOTAL=SET4.intersection(SET3)\n",
    "print(TOTAL)\n"
   ]
  },
  {
   "attachments": {},
   "cell_type": "markdown",
   "metadata": {},
   "source": [
    "ASSIGNMENT ON MATRIX"
   ]
  },
  {
   "cell_type": "code",
   "execution_count": 3,
   "metadata": {},
   "outputs": [
    {
     "data": {
      "text/plain": [
       "[[1, 3, 5, 7, 9, 11],\n",
       " [1, 3, 5, 7, 9, 11],\n",
       " [1, 3, 5, 7, 9, 11],\n",
       " [1, 3, 5, 7, 9, 11],\n",
       " [1, 3, 5, 7, 9, 11],\n",
       " [1, 3, 5, 7, 9, 11]]"
      ]
     },
     "execution_count": 3,
     "metadata": {},
     "output_type": "execute_result"
    }
   ],
   "source": [
    "# CREAT A 6X6 ORDER MATRIX USING LIST COMPREHENSION METHOD AND ALL MATRIX VALUES MUST BE ODD NUMBERS REPETATION ALLOWED\n",
    "\n",
    "M1= [[ i for i in range(12) if(i% 2 !=0)] for j in range(6)]\n",
    "M1"
   ]
  },
  {
   "cell_type": "code",
   "execution_count": 1,
   "metadata": {},
   "outputs": [
    {
     "data": {
      "text/plain": [
       "[[1, 3, 5, 7, 9, 11, 13, 15, 17, 19, 21, 23, 25, 27, 29, 31],\n",
       " [1, 3, 5, 7, 9, 11, 13, 15, 17, 19, 21, 23, 25, 27, 29, 31],\n",
       " [1, 3, 5, 7, 9, 11, 13, 15, 17, 19, 21, 23, 25, 27, 29, 31],\n",
       " [1, 3, 5, 7, 9, 11, 13, 15, 17, 19, 21, 23, 25, 27, 29, 31],\n",
       " [1, 3, 5, 7, 9, 11, 13, 15, 17, 19, 21, 23, 25, 27, 29, 31],\n",
       " [1, 3, 5, 7, 9, 11, 13, 15, 17, 19, 21, 23, 25, 27, 29, 31],\n",
       " [1, 3, 5, 7, 9, 11, 13, 15, 17, 19, 21, 23, 25, 27, 29, 31],\n",
       " [1, 3, 5, 7, 9, 11, 13, 15, 17, 19, 21, 23, 25, 27, 29, 31],\n",
       " [1, 3, 5, 7, 9, 11, 13, 15, 17, 19, 21, 23, 25, 27, 29, 31],\n",
       " [1, 3, 5, 7, 9, 11, 13, 15, 17, 19, 21, 23, 25, 27, 29, 31],\n",
       " [1, 3, 5, 7, 9, 11, 13, 15, 17, 19, 21, 23, 25, 27, 29, 31],\n",
       " [1, 3, 5, 7, 9, 11, 13, 15, 17, 19, 21, 23, 25, 27, 29, 31],\n",
       " [1, 3, 5, 7, 9, 11, 13, 15, 17, 19, 21, 23, 25, 27, 29, 31],\n",
       " [1, 3, 5, 7, 9, 11, 13, 15, 17, 19, 21, 23, 25, 27, 29, 31],\n",
       " [1, 3, 5, 7, 9, 11, 13, 15, 17, 19, 21, 23, 25, 27, 29, 31],\n",
       " [1, 3, 5, 7, 9, 11, 13, 15, 17, 19, 21, 23, 25, 27, 29, 31]]"
      ]
     },
     "execution_count": 1,
     "metadata": {},
     "output_type": "execute_result"
    }
   ],
   "source": [
    "# CREAT A 16X16 ORDER MATRIX USING LIST COMPREHENSION METHOD AND ALL MATRIX VALUES MUST BE ODD NUMBERS REPETATION ALLOWED\n",
    "\n",
    "M2=[[i for i in range(32) if(i%2!=0)]for j in range(16)]\n",
    "M2"
   ]
  },
  {
   "attachments": {},
   "cell_type": "markdown",
   "metadata": {},
   "source": [
    "ASSIGNMENT "
   ]
  },
  {
   "cell_type": "code",
   "execution_count": null,
   "metadata": {},
   "outputs": [],
   "source": [
    "#  WRITE A PROGRAM TO FIND THE ELDEST AMOUNG THREE PERSON AGE RECEVIED FROM THE USER\n",
    "AGE1=int(input(\"Enter the age1\" ))\n",
    "AGE2=int(input(\"Enter the age1\" ))\n",
    "AGE3=int(input(\"Enter the age1\" ))\n",
    "if  AGE1>AGE2 and AGE1>AGE3:\n",
    "     print(\"AGE1 is eldest\")\n",
    "elif AGE2>AGE1 and AGE2>AGE3:\n",
    "    print(\"AGE2 is eldest\")\n",
    "else:\n",
    "    print(\"AGE3 is eldest\")\n"
   ]
  },
  {
   "cell_type": "code",
   "execution_count": null,
   "metadata": {},
   "outputs": [],
   "source": [
    "2# WRITE A PROGRAM TO PRINT CHECK THE NUMBER RECORDED FROM USER IS POSITIVE OR NEGATIVE\n",
    "\n",
    "num=int(input(\"ENTER THE VALUE\"))\n",
    "if (num>0):\n",
    "    print(\"ENTER THE VALUE IS POSITIVE\",num)\n",
    "else:\n",
    "    print(\"ENTER THE VALUE IS NEGATIVE\",num)"
   ]
  },
  {
   "cell_type": "code",
   "execution_count": null,
   "metadata": {},
   "outputs": [],
   "source": [
    "4#  WRITE A PROGRAM TO ACCEPT TWO NUMBERS AND MATHEMATICAL OPREATORS AND PERFORM OPERATIONS ACORDINGLY\n",
    "A=int(input(\"ENTER THE VALUE  A \"))\n",
    "B=int(input(\"ENTER THE VALUE  B \"))\n",
    "print(\" ADDITION OF NUMBER IS\" ,A+B)\n",
    "print(\" SUBTACTION OF NUMBER IS\" ,A-B)\n",
    "print(\" MULTIPLICATION OF NUMBER IS\" ,A*B)\n",
    "print(\" DIVISION OF NUMBER IS\" ,A/B)\n",
    "print(\" MOUDUL OF NUMBER IS\" ,A%B)\n",
    "print(\" SQUARE OF NUMBER\" ,A**B)\n",
    "print(\" FLOOR DIVISION OF NUMBER\",A//B)\n",
    "print(\" CAP OF NUMBER\",A^B)"
   ]
  },
  {
   "cell_type": "code",
   "execution_count": null,
   "metadata": {},
   "outputs": [],
   "source": [
    "#  WRITE A PROGRAM IF YOU HAVE WRITTEN AN EXAM FOR A TOTAL SCORE OF 100 AND IF YOU SCORE IS ABOVE OR EQUAL TO 60 THEN YOU WILL BE CONSIDERED AS PASSS IN EXAM\n",
    "T=int(input(\"Enter the total score\"))\n",
    "print(T)\n",
    "result=int(input(\"ENTER THE RESULT\"))\n",
    "print(\"SCORED MARKS IS\",result)\n",
    "if(result<=59):\n",
    "    print(\"FAIL\")\n",
    "else:\n",
    "    print(\"PASS\")\n"
   ]
  },
  {
   "cell_type": "code",
   "execution_count": 1,
   "metadata": {},
   "outputs": [
    {
     "name": "stdout",
     "output_type": "stream",
     "text": [
      "[('gourav', 1), ('shanker', 2), ('samarth', 3), ('raju', 4)]\n"
     ]
    }
   ],
   "source": [
    "# ZIP METHOD\n",
    "name  = ('gourav','shanker','samarth','raju')\n",
    "roll_no = (1,2,3,4)\n",
    "added = zip(name,roll_no)\n",
    " \n",
    "print(list(added))\n"
   ]
  },
  {
   "cell_type": "code",
   "execution_count": 10,
   "metadata": {},
   "outputs": [
    {
     "name": "stdout",
     "output_type": "stream",
     "text": [
      "s ur ans is 2\n"
     ]
    }
   ],
   "source": [
    "\n",
    "def divided(x,y):\n",
    "    try:\n",
    "           result=x//y\n",
    "           print(\"s ur ans is\",result)\n",
    "    except :\n",
    "            print(\"sorry ur is not corect\")    \n",
    "divided(4,2)"
   ]
  },
  {
   "cell_type": "code",
   "execution_count": 9,
   "metadata": {},
   "outputs": [
    {
     "name": "stdout",
     "output_type": "stream",
     "text": [
      "second number%d 3\n",
      " u get an erreor\n"
     ]
    }
   ],
   "source": [
    "a=[1,2,3]\n",
    "try:\n",
    "    print(\"second number%d\",a[2])\n",
    "    print(\"fourth index%d\",a[3])\n",
    "except :\n",
    "    print(\" u get an erreor\")"
   ]
  },
  {
   "cell_type": "code",
   "execution_count": 47,
   "metadata": {},
   "outputs": [
    {
     "name": "stdout",
     "output_type": "stream",
     "text": [
      "value error\n"
     ]
    }
   ],
   "source": [
    "a={1:\"gourav\",2:\"a\",3:\"s\",4:\"none\"}\n",
    "try:\n",
    "    print(a.keys(1))\n",
    "except  :\n",
    "    print(\"value error\")"
   ]
  }
 ],
 "metadata": {
  "kernelspec": {
   "display_name": "base",
   "language": "python",
   "name": "python3"
  },
  "language_info": {
   "codemirror_mode": {
    "name": "ipython",
    "version": 3
   },
   "file_extension": ".py",
   "mimetype": "text/x-python",
   "name": "python",
   "nbconvert_exporter": "python",
   "pygments_lexer": "ipython3",
   "version": "3.11.2"
  },
  "orig_nbformat": 4
 },
 "nbformat": 4,
 "nbformat_minor": 2
}
