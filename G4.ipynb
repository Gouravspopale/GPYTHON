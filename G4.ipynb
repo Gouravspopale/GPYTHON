{
 "cells": [
  {
   "attachments": {},
   "cell_type": "markdown",
   "metadata": {},
   "source": [
    "ASSIGNMENT ON CSV FILE HANDLING"
   ]
  },
  {
   "cell_type": "code",
   "execution_count": 11,
   "metadata": {},
   "outputs": [
    {
     "name": "stdout",
     "output_type": "stream",
     "text": [
      "Grade/30.00\n",
      "23.00\n",
      "21.00\n",
      "26.00\n",
      "26.00\n",
      "26.00\n",
      "25.00\n",
      "21.00\n",
      "24.00\n",
      "23.00\n",
      "27.00\n",
      "26.00\n",
      "27.00\n",
      "28.00\n",
      "27.00\n",
      "7.00\n",
      "28.00\n",
      "28.00\n",
      "27.00\n",
      "28.00\n",
      "27.00\n",
      "24.00\n",
      "24.00\n",
      "22.00\n",
      "24.00\n",
      "23.00\n",
      "23.00\n",
      "26.00\n",
      "20.00\n",
      "21.00\n",
      "23.00\n",
      "30.00\n",
      "30.00\n",
      "22.00\n",
      "5.00\n",
      "5.00\n"
     ]
    }
   ],
   "source": [
    "import csv\n",
    "\n",
    "#  this csv file have 4 data\n",
    "# ([0],surname).([1]firstname).([2],email.id).([3],grade)\n",
    "\n",
    "with open(\"C:/Users/User7/Desktop/csv.file/MCS-3A-MID-1.csv\",\"r\") as file:\n",
    "    # copy the path were the excel(csv) file  is saved\n",
    "    \n",
    "    data = csv.reader(file)\n",
    "    for line in data:\n",
    "      # if (line[3]>str(20)): to find student who scored above(20)marks.\n",
    "        print(line[3]) # [] by using index i can get only that paticular part\n",
    "    "
   ]
  },
  {
   "attachments": {},
   "cell_type": "markdown",
   "metadata": {},
   "source": [
    "ASSIGMENT ON FILE HANDLING"
   ]
  },
  {
   "cell_type": "code",
   "execution_count": 1,
   "metadata": {},
   "outputs": [
    {
     "name": "stdout",
     "output_type": "stream",
     "text": [
      "finally back\n"
     ]
    }
   ],
   "source": [
    "#  using try,except, and finally in txt.file\n",
    "def funct():\n",
    "    try:\n",
    "       file=open(\"filehand.txt/a.txt\",\"w\")\n",
    "       file.write(\"hello gourav\")\n",
    "    except:\n",
    "        print(\"Exception raised\")\n",
    "    finally:\n",
    "        print(\"finally back\")\n",
    "        file.close()\n",
    "funct()\n"
   ]
  },
  {
   "cell_type": "code",
   "execution_count": 31,
   "metadata": {},
   "outputs": [
    {
     "name": "stdout",
     "output_type": "stream",
     "text": [
      "[9, 11, 26, 28]\n"
     ]
    }
   ],
   "source": [
    "# write a program to find the intersection of two list\n",
    "\n",
    "def intersection(lst1, lst2):\n",
    "    lst3 = [value for value in lst1 if value in lst2]\n",
    "    return lst3\n",
    " \n",
    "# Driver Code\n",
    "lst1 = [4, 9, 1, 17, 11, 26, 28, 54, 69]\n",
    "lst2 = [9, 9, 74, 21, 45, 11, 63, 28, 26]\n",
    "print(intersection(lst1, lst2))"
   ]
  },
  {
   "cell_type": "code",
   "execution_count": 33,
   "metadata": {},
   "outputs": [
    {
     "name": "stdout",
     "output_type": "stream",
     "text": [
      "THE CHARACTER g IS FOUND 2 TIMES IN THE TEXT FILE\n"
     ]
    }
   ],
   "source": [
    "#  PROGRAM TO COUNT THE OCCURENCE OF A SPECIFIC CHARACTER IN A FILE \n",
    "\n",
    "# count = 0  # the value assigned is ,0,\n",
    "char = input(\"ENTER CHARACTER : \")\n",
    "count = 0\n",
    "with open(\"filehand.txt/a.txt\",\"r\") as file:\n",
    "  for i in file:\n",
    "   for c in i:  # c=character in (i):\n",
    "    if c == char:\n",
    "      count = count + 1\n",
    "print(\"THE CHARACTER {} IS FOUND {} TIMES IN THE TEXT FILE\".format(char,count))"
   ]
  },
  {
   "cell_type": "code",
   "execution_count": 30,
   "metadata": {},
   "outputs": [],
   "source": [
    "\n",
    "import csv\n",
    "data=[\"NAME\",\"ROLL NUMBER\",\"MARKS\",\"GRADE\"]\n",
    "\n",
    "rows=    [['GOURAV', '111', '80', 'A'], \n",
    "         ['SHANKER', '222', '95', 'A+'], \n",
    "         ['SAMARTH', '333', '96', 'A+'], \n",
    "         ['VINAYAK', '444', '90', 'A+'], \n",
    "         ['HEMANTH', '555', '85', 'A'], \n",
    "         ['RAJ', '666', '90', 'A']]\n",
    "\n",
    "\n",
    "with open(\"filehand.txt/A.csv\", 'w') as csvfile:\n",
    "   csvwriter = csv.writer(csvfile)\n",
    "   csvwriter.writerow(data)\n",
    "   csvwriter.writerows(rows)"
   ]
  },
  {
   "attachments": {},
   "cell_type": "markdown",
   "metadata": {},
   "source": [
    "ASSSIGNMENT ON SET"
   ]
  },
  {
   "cell_type": "code",
   "execution_count": 8,
   "metadata": {},
   "outputs": [
    {
     "name": "stdout",
     "output_type": "stream",
     "text": [
      "{50, 51, 52, 53, 54, 55, 56, 57, 58, 59}\n"
     ]
    }
   ],
   "source": [
    "#  ASSIGMENT ON SET TO DISPLAY INTERSECTION MARKS BETWEEN THREE CLASS STUDENT USING SET OPREATION\n",
    "SET1=set()\n",
    "SET2=set()\n",
    "SET3=set()\n",
    "for i in range(35,60) :\n",
    "    SET1.add(i)\n",
    "for j in range(40,75):\n",
    "    SET2.add(j)\n",
    "for k in range(50,99):\n",
    "     SET3.add(k)\n",
    "     SET4=SET1.intersection(SET2)\n",
    "     TOTAL=SET4.intersection(SET3)\n",
    "print(TOTAL)\n"
   ]
  },
  {
   "attachments": {},
   "cell_type": "markdown",
   "metadata": {},
   "source": [
    "ASSIGNMENT ON MATRIX"
   ]
  },
  {
   "cell_type": "code",
   "execution_count": 3,
   "metadata": {},
   "outputs": [
    {
     "data": {
      "text/plain": [
       "[[1, 3, 5, 7, 9, 11],\n",
       " [1, 3, 5, 7, 9, 11],\n",
       " [1, 3, 5, 7, 9, 11],\n",
       " [1, 3, 5, 7, 9, 11],\n",
       " [1, 3, 5, 7, 9, 11],\n",
       " [1, 3, 5, 7, 9, 11]]"
      ]
     },
     "execution_count": 3,
     "metadata": {},
     "output_type": "execute_result"
    }
   ],
   "source": [
    "# CREAT A 6X6 ORDER MATRIX USING LIST COMPREHENSION METHOD AND ALL MATRIX VALUES MUST BE ODD NUMBERS REPETATION ALLOWED\n",
    "\n",
    "M1= [[ i for i in range(12) if(i% 2 !=0)] for j in range(6)]\n",
    "M1"
   ]
  },
  {
   "cell_type": "code",
   "execution_count": 1,
   "metadata": {},
   "outputs": [
    {
     "data": {
      "text/plain": [
       "[[1, 3, 5, 7, 9, 11, 13, 15, 17, 19, 21, 23, 25, 27, 29, 31],\n",
       " [1, 3, 5, 7, 9, 11, 13, 15, 17, 19, 21, 23, 25, 27, 29, 31],\n",
       " [1, 3, 5, 7, 9, 11, 13, 15, 17, 19, 21, 23, 25, 27, 29, 31],\n",
       " [1, 3, 5, 7, 9, 11, 13, 15, 17, 19, 21, 23, 25, 27, 29, 31],\n",
       " [1, 3, 5, 7, 9, 11, 13, 15, 17, 19, 21, 23, 25, 27, 29, 31],\n",
       " [1, 3, 5, 7, 9, 11, 13, 15, 17, 19, 21, 23, 25, 27, 29, 31],\n",
       " [1, 3, 5, 7, 9, 11, 13, 15, 17, 19, 21, 23, 25, 27, 29, 31],\n",
       " [1, 3, 5, 7, 9, 11, 13, 15, 17, 19, 21, 23, 25, 27, 29, 31],\n",
       " [1, 3, 5, 7, 9, 11, 13, 15, 17, 19, 21, 23, 25, 27, 29, 31],\n",
       " [1, 3, 5, 7, 9, 11, 13, 15, 17, 19, 21, 23, 25, 27, 29, 31],\n",
       " [1, 3, 5, 7, 9, 11, 13, 15, 17, 19, 21, 23, 25, 27, 29, 31],\n",
       " [1, 3, 5, 7, 9, 11, 13, 15, 17, 19, 21, 23, 25, 27, 29, 31],\n",
       " [1, 3, 5, 7, 9, 11, 13, 15, 17, 19, 21, 23, 25, 27, 29, 31],\n",
       " [1, 3, 5, 7, 9, 11, 13, 15, 17, 19, 21, 23, 25, 27, 29, 31],\n",
       " [1, 3, 5, 7, 9, 11, 13, 15, 17, 19, 21, 23, 25, 27, 29, 31],\n",
       " [1, 3, 5, 7, 9, 11, 13, 15, 17, 19, 21, 23, 25, 27, 29, 31]]"
      ]
     },
     "execution_count": 1,
     "metadata": {},
     "output_type": "execute_result"
    }
   ],
   "source": [
    "# CREAT A 16X16 ORDER MATRIX USING LIST COMPREHENSION METHOD AND ALL MATRIX VALUES MUST BE ODD NUMBERS REPETATION ALLOWED\n",
    "\n",
    "M2=[[i for i in range(32) if(i%2!=0)]for j in range(16)]\n",
    "M2"
   ]
  },
  {
   "attachments": {},
   "cell_type": "markdown",
   "metadata": {},
   "source": [
    "ASSIGNMENT "
   ]
  },
  {
   "cell_type": "code",
   "execution_count": null,
   "metadata": {},
   "outputs": [],
   "source": [
    "#  WRITE A PROGRAM TO FIND THE ELDEST AMOUNG THREE PERSON AGE RECEVIED FROM THE USER\n",
    "AGE1=int(input(\"Enter the age1\" ))\n",
    "AGE2=int(input(\"Enter the age1\" ))\n",
    "AGE3=int(input(\"Enter the age1\" ))\n",
    "if  AGE1>AGE2 and AGE1>AGE3:\n",
    "     print(\"AGE1 is eldest\")\n",
    "elif AGE2>AGE1 and AGE2>AGE3:\n",
    "    print(\"AGE2 is eldest\")\n",
    "else:\n",
    "    print(\"AGE3 is eldest\")\n"
   ]
  },
  {
   "cell_type": "code",
   "execution_count": null,
   "metadata": {},
   "outputs": [],
   "source": [
    "2# WRITE A PROGRAM TO PRINT CHECK THE NUMBER RECORDED FROM USER IS POSITIVE OR NEGATIVE\n",
    "\n",
    "num=int(input(\"ENTER THE VALUE\"))\n",
    "if (num>0):\n",
    "    print(\"ENTER THE VALUE IS POSITIVE\",num)\n",
    "else:\n",
    "    print(\"ENTER THE VALUE IS NEGATIVE\",num)"
   ]
  },
  {
   "cell_type": "code",
   "execution_count": null,
   "metadata": {},
   "outputs": [],
   "source": [
    "4#  WRITE A PROGRAM TO ACCEPT TWO NUMBERS AND MATHEMATICAL OPREATORS AND PERFORM OPERATIONS ACORDINGLY\n",
    "A=int(input(\"ENTER THE VALUE  A \"))\n",
    "B=int(input(\"ENTER THE VALUE  B \"))\n",
    "print(\" ADDITION OF NUMBER IS\" ,A+B)\n",
    "print(\" SUBTACTION OF NUMBER IS\" ,A-B)\n",
    "print(\" MULTIPLICATION OF NUMBER IS\" ,A*B)\n",
    "print(\" DIVISION OF NUMBER IS\" ,A/B)\n",
    "print(\" MOUDUL OF NUMBER IS\" ,A%B)\n",
    "print(\" SQUARE OF NUMBER\" ,A**B)\n",
    "print(\" FLOOR DIVISION OF NUMBER\",A//B)\n",
    "print(\" CAP OF NUMBER\",A^B)"
   ]
  },
  {
   "cell_type": "code",
   "execution_count": null,
   "metadata": {},
   "outputs": [],
   "source": [
    "#  WRITE A PROGRAM IF YOU HAVE WRITTEN AN EXAM FOR A TOTAL SCORE OF 100 AND IF YOU SCORE IS ABOVE OR EQUAL TO 60 THEN YOU WILL BE CONSIDERED AS PASSS IN EXAM\n",
    "T=int(input(\"Enter the total score\"))\n",
    "print(T)\n",
    "result=int(input(\"ENTER THE RESULT\"))\n",
    "print(\"SCORED MARKS IS\",result)\n",
    "if(result<=59):\n",
    "    print(\"FAIL\")\n",
    "else:\n",
    "    print(\"PASS\")\n"
   ]
  },
  {
   "cell_type": "code",
   "execution_count": 1,
   "metadata": {},
   "outputs": [
    {
     "name": "stdout",
     "output_type": "stream",
     "text": [
      "[('gourav', 1), ('shanker', 2), ('samarth', 3), ('raju', 4)]\n"
     ]
    }
   ],
   "source": [
    "# ZIP METHOD\n",
    "name  = ('gourav','shanker','samarth','raju')\n",
    "roll_no = (1,2,3,4)\n",
    "added = zip(name,roll_no)\n",
    " \n",
    "print(list(added))\n"
   ]
  },
  {
   "cell_type": "code",
   "execution_count": 10,
   "metadata": {},
   "outputs": [
    {
     "name": "stdout",
     "output_type": "stream",
     "text": [
      "s ur ans is 2\n"
     ]
    }
   ],
   "source": [
    "\n",
    "def divided(x,y):\n",
    "    try:\n",
    "           result=x//y\n",
    "           print(\"s ur ans is\",result)\n",
    "    except :\n",
    "            print(\"sorry ur is not corect\")    \n",
    "divided(4,2)"
   ]
  },
  {
   "cell_type": "code",
   "execution_count": 9,
   "metadata": {},
   "outputs": [
    {
     "name": "stdout",
     "output_type": "stream",
     "text": [
      "second number%d 3\n",
      " u get an erreor\n"
     ]
    }
   ],
   "source": [
    "a=[1,2,3]\n",
    "try:\n",
    "    print(\"second number%d\",a[2])\n",
    "    print(\"fourth index%d\",a[3])\n",
    "except :\n",
    "    print(\" u get an erreor\")"
   ]
  },
  {
   "cell_type": "code",
   "execution_count": 47,
   "metadata": {},
   "outputs": [
    {
     "name": "stdout",
     "output_type": "stream",
     "text": [
      "value error\n"
     ]
    }
   ],
   "source": [
    "a={1:\"gourav\",2:\"a\",3:\"s\",4:\"none\"}\n",
    "try:\n",
    "    print(a.keys(1))\n",
    "except  :\n",
    "    print(\"value error\")"
   ]
  },
  {
   "cell_type": "code",
   "execution_count": null,
   "metadata": {},
   "outputs": [],
   "source": []
  }
 ],
 "metadata": {
  "kernelspec": {
   "display_name": "base",
   "language": "python",
   "name": "python3"
  },
  "language_info": {
   "codemirror_mode": {
    "name": "ipython",
    "version": 3
   },
   "file_extension": ".py",
   "mimetype": "text/x-python",
   "name": "python",
   "nbconvert_exporter": "python",
   "pygments_lexer": "ipython3",
   "version": "3.11.2"
  },
  "orig_nbformat": 4
 },
 "nbformat": 4,
 "nbformat_minor": 2
}
