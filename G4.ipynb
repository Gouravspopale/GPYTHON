{
 "cells": [
  {
   "attachments": {},
   "cell_type": "markdown",
   "metadata": {},
   "source": [
    "21,PYTHON PROGRAM TO PRINT A SIMPLE CALCULATOR"
   ]
  },
  {
   "cell_type": "code",
   "execution_count": null,
   "metadata": {},
   "outputs": [],
   "source": [
    "#  PROGRAM OT PRINT SIMPLE CALCULATOR\n",
    "\n",
    "a=int(input(\"ENTER THE VALUE OF A\"))\n",
    "b=int(input(\"ENTER THE VALUE OF B\"))\n",
    "sum=a+b\n",
    "diff=a-b\n",
    "multi=a*b\n",
    "div=a/b\n",
    "print(sum,diff,multi,div)"
   ]
  },
  {
   "attachments": {},
   "cell_type": "markdown",
   "metadata": {},
   "source": [
    "22,PYHTON PROGRAM TO ADD TWO MATRICES"
   ]
  },
  {
   "cell_type": "code",
   "execution_count": null,
   "metadata": {},
   "outputs": [],
   "source": []
  },
  {
   "attachments": {},
   "cell_type": "markdown",
   "metadata": {},
   "source": [
    "23,PYTHON PROGRAM TO TRANSPOSE A MATRICES"
   ]
  },
  {
   "cell_type": "code",
   "execution_count": null,
   "metadata": {},
   "outputs": [],
   "source": []
  },
  {
   "attachments": {},
   "cell_type": "markdown",
   "metadata": {},
   "source": [
    "24,PYTHON PROGRAM TO MULTIPLY TWO MATRICES"
   ]
  },
  {
   "cell_type": "code",
   "execution_count": null,
   "metadata": {},
   "outputs": [],
   "source": []
  },
  {
   "attachments": {},
   "cell_type": "markdown",
   "metadata": {},
   "source": [
    "25,PYTHON PROGRAM TO CHECK WHETHER  A STRING IS PALAINDROME OR NOT"
   ]
  },
  {
   "cell_type": "code",
   "execution_count": null,
   "metadata": {},
   "outputs": [],
   "source": [
    "#  PYTHON PROGRAM TO CHECK WHETHER THE STRING IS PALINDROME OR NOT\n",
    "\n",
    "def isPalindrome(s):\n",
    "    return s == s[::-1] #I want to reverse it and found a solution like\n",
    "  \n",
    "  \n",
    "# Driver code\n",
    "s = \"malayalam\"\n",
    "ans = isPalindrome(s)\n",
    "  \n",
    "if ans:\n",
    "    print(\"Yes it is a palindrome\")\n",
    "else:\n",
    "    print(\"No it is not a palindrome\")"
   ]
  },
  {
   "attachments": {},
   "cell_type": "markdown",
   "metadata": {},
   "source": [
    "26, PYTHON PROGRAM TO CREAT PYRAMID PATTERNS BY OF NUMBER TILL 10 "
   ]
  },
  {
   "cell_type": "code",
   "execution_count": null,
   "metadata": {},
   "outputs": [],
   "source": []
  },
  {
   "attachments": {},
   "cell_type": "markdown",
   "metadata": {},
   "source": [
    "27,PYTHON PROGRAM TO MERGE TWO LIST"
   ]
  },
  {
   "cell_type": "code",
   "execution_count": 2,
   "metadata": {},
   "outputs": [
    {
     "data": {
      "text/plain": [
       "['gourav', 's', 'popale', 'is', 'student', 'of keonics center']"
      ]
     },
     "execution_count": 2,
     "metadata": {},
     "output_type": "execute_result"
    }
   ],
   "source": [
    "list1=['gourav','s','popale']\n",
    "list2=['is','student','of keonics center']\n",
    "list3=list1+list2\n",
    "\n",
    "list3"
   ]
  },
  {
   "attachments": {},
   "cell_type": "markdown",
   "metadata": {},
   "source": [
    "28,PYTHON PROGRAM TO ACCESS INDEX OF LIST USING FOR LOOP"
   ]
  },
  {
   "cell_type": "code",
   "execution_count": 10,
   "metadata": {},
   "outputs": [
    {
     "name": "stdout",
     "output_type": "stream",
     "text": [
      "S\n",
      "S\n",
      "S\n"
     ]
    }
   ],
   "source": [
    "a=['GOURAV','S','POPALE']\n",
    "for list in a:\n",
    "    print(list1[1])"
   ]
  },
  {
   "attachments": {},
   "cell_type": "markdown",
   "metadata": {},
   "source": [
    "29,PYTHON PROGRAM TO CONCATENATE TWO LIST"
   ]
  },
  {
   "cell_type": "code",
   "execution_count": null,
   "metadata": {},
   "outputs": [],
   "source": []
  },
  {
   "attachments": {},
   "cell_type": "markdown",
   "metadata": {},
   "source": [
    "30,PYTHON PROGRAM TO PRINT LAST ELEMENT FROM A LIST "
   ]
  },
  {
   "cell_type": "code",
   "execution_count": null,
   "metadata": {},
   "outputs": [],
   "source": [
    "# PROGRAM TO GET LAST ELEMENT FROM LIST\n",
    "#  BY USING INDEX NUMBER\n",
    " \n",
    "listx=[\"hubli\",'karnataka','india']\n",
    "print(listx[2])\n",
    "\n",
    "#  BY USING POP()METHOD\n",
    "listx=[\"hubli\",'karnataka','india']\n",
    "print(listx.pop())"
   ]
  },
  {
   "attachments": {},
   "cell_type": "markdown",
   "metadata": {},
   "source": [
    "31,PYTHON PROGRAM TO PRINT RANDOMALY SELECT AN ELEMENT FROM THE LIST"
   ]
  },
  {
   "cell_type": "code",
   "execution_count": 11,
   "metadata": {},
   "outputs": [
    {
     "name": "stdout",
     "output_type": "stream",
     "text": [
      "KEONICS\n"
     ]
    }
   ],
   "source": [
    "LIST1=['GOURAV','S','POPLAE','STUDENT','OF','KEONICS']\n",
    "print(LIST1[5])"
   ]
  },
  {
   "attachments": {},
   "cell_type": "markdown",
   "metadata": {},
   "source": [
    "32,PYTHON PROGRAM TO PRINT ODD NUMBER IN LIST"
   ]
  },
  {
   "cell_type": "code",
   "execution_count": 15,
   "metadata": {},
   "outputs": [
    {
     "name": "stdout",
     "output_type": "stream",
     "text": [
      "[1, 3, 5, 7, 9, 11, 13, 15]\n"
     ]
    }
   ],
   "source": [
    "LIST1=[1,2,3,4,5,6,7,8,9,10,11,12,13,14,15]\n",
    "print(LIST1[0:15:2])"
   ]
  },
  {
   "attachments": {},
   "cell_type": "markdown",
   "metadata": {},
   "source": [
    "33,PYTHON PROGRAM TO PRINT ALL EVEN NUMBER IN RANGE IN LIST"
   ]
  },
  {
   "cell_type": "code",
   "execution_count": 25,
   "metadata": {},
   "outputs": [
    {
     "name": "stdout",
     "output_type": "stream",
     "text": [
      "2\n",
      "4\n",
      "6\n",
      "8\n",
      "10\n",
      "12\n",
      "14\n"
     ]
    }
   ],
   "source": [
    "LIST1=[1,2,3,4,5,6,7,8,9,10,11,12,13,14,15]\n",
    "for i in LIST1[1:14:2]:\n",
    "    print(i)"
   ]
  }
 ],
 "metadata": {
  "kernelspec": {
   "display_name": "base",
   "language": "python",
   "name": "python3"
  },
  "language_info": {
   "codemirror_mode": {
    "name": "ipython",
    "version": 3
   },
   "file_extension": ".py",
   "mimetype": "text/x-python",
   "name": "python",
   "nbconvert_exporter": "python",
   "pygments_lexer": "ipython3",
   "version": "3.9.13"
  },
  "orig_nbformat": 4
 },
 "nbformat": 4,
 "nbformat_minor": 2
}
