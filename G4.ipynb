{
 "cells": [
  {
   "attachments": {},
   "cell_type": "markdown",
   "metadata": {},
   "source": [
    "ASSIGNMENT ON CSV FILE HANDLING"
   ]
  },
  {
   "cell_type": "code",
   "execution_count": 22,
   "metadata": {},
   "outputs": [
    {
     "name": "stdout",
     "output_type": "stream",
     "text": [
      "['Surname', 'First name', 'Email address', 'Grade/30.00', '', '']\n",
      "['Khan', 'Muneeb Hassan', 'cosc18131128@kfueit.edu.pk', '23.00', '', '']\n",
      "['Ali', 'Usama', 'cosc19231030@kfueit.edu.pk', '21.00', '', '']\n",
      "['.', 'Zulqarnane', 'cs171203@kfueit.edu.pk', '26.00', '', '']\n",
      "['Ali', 'Mohammad Muneeb', 'cs171137@kfueit.edu.pk', '26.00', '', '']\n",
      "['Rafiq', 'Zainab Shakir', 'cs172076@kfueit.edu.pk', '16.00', '', '']\n",
      "['Shahid', 'Muhammad Hamza', 'cs171198@kfueit.edu.pk', '26.00', '', '']\n",
      "['Ahmad', 'Ahmad Bilal', 'cs171185@kfueit.edu.pk', '25.00', '', 'VIVA']\n",
      "['NAEEM', 'NAJAF', 'cosc19131003@kfueit.edu.pk', '21.00', '', '']\n",
      "['Ijaz', 'Aman', 'cs181029@kfueit.edu.pk', '24.00', '', '']\n",
      "['Sajjad', 'Mian Talha', 'cs172126@kfueit.edu.pk', '23.00', '', '']\n",
      "['Ahmad', 'Usama', 'cs181053@kfueit.edu.pk', '15.00', '', '']\n",
      "['ALI', 'MAISIM', 'cosc19131015@kfueit.edu.pk', '15.00', '', '']\n",
      "['ALI', 'QADIR', 'cosc19131007@kfueit.edu.pk', '27.00', '', '']\n",
      "['Ali', 'Mohammad Haseeb', 'cs171194@kfueit.edu.pk', '26.00', '', '']\n",
      "['AHMED', 'JAM', 'cosc19131052@kfueit.edu.pk', '18.00', '', '']\n",
      "['Imtiaz', 'Sikandar', 'cs171009@kfueit.edu.pk', '27.00', '', '']\n",
      "['KUMAR', 'DALEEP', 'cosc19131029@kfueit.edu.pk', '28.00', '', '']\n",
      "['FAROOQ', 'JUNAID', 'cosc19131001@kfueit.edu.pk', '27.00', '', '']\n",
      "['Almas', 'Mah Jabeen', 'cosc19231016@kfueit.edu.pk', '15.00', '', '']\n",
      "['IRFAN', 'KHANSA', 'cosc19231014@kfueit.edu.pk', '12.00', '', '']\n",
      "['ASHRAF', 'REHMAN', 'cosc19131035@kfueit.edu.pk', '14.00', '', '']\n",
      "['.', 'Hina Murtaza', 'cosc19231034@kfueit.edu.pk', '7.00', '', '']\n",
      "['FATIMA', 'GHULAM', 'cosc19131032@kfueit.edu.pk', '11.00', '', '']\n",
      "['IKRAM', 'HAMZA', 'cosc19131018@kfueit.edu.pk', '28.00', '', '']\n",
      "['HAMZA', 'MUHAMMAD ALI', 'cosc19131043@kfueit.edu.pk', '28.00', '', '']\n",
      "['KUMAR', 'VIJAY', 'cosc19131030@kfueit.edu.pk', '27.00', '', '']\n",
      "['SALEEM', 'SANA', 'cosc19131005@kfueit.edu.pk', '16.00', '', '']\n",
      "['ALI', 'ARSLAN', 'cosc19131034@kfueit.edu.pk', '28.00', '', '']\n",
      "['SAKHAWAT', 'MARIA', 'cosc19131045@kfueit.edu.pk', '11.00', '', '']\n",
      "['ASGHAR', 'ALI', 'cosc19131036@kfueit.edu.pk', '27.00', '', '']\n",
      "['LIAQAT', 'USMAN', 'cosc19131008@kfueit.edu.pk', '17.00', '', '']\n",
      "['Saeed', 'Iqra', 'cosc19231011@kfueit.edu.pk', '12.00', '', '']\n",
      "['Bilal', 'Muhammad', 'cs181048@kfueit.edu.pk', '11.00', '', '']\n",
      "['RAHEEL', 'MUHAMMAD', 'cosc19131022@kfueit.edu.pk', '24.00', '', '']\n",
      "['SATTAR', 'FAREEHA', 'cosc19131017@kfueit.edu.pk', '24.00', '', '']\n",
      "['Farooq', 'Saim', 'cosc18131073@kfueit.edu.pk', '22.00', '', '']\n",
      "['.', 'MUHAMMAD NAZIM', 'cosc19131026@kfueit.edu.pk', '15.00', '', '']\n",
      "['Azhar', 'Hamza', 'cs172167@kfueit.edu.pk', '24.00', '', '']\n",
      "['QASIM', 'HINA', 'cosc19131013@kfueit.edu.pk', '16.00', '', '']\n",
      "['IRSHAD', 'KANWAL', 'cosc19131012@kfueit.edu.pk', '17.00', '', '']\n",
      "['HUSSAIN', 'ALI', 'cosc19131044@kfueit.edu.pk', '18.00', '', '']\n",
      "['KOMAL', 'KAINAT', 'cosc19131011@kfueit.edu.pk', '14.00', '', '']\n",
      "['ABID', 'MUHAMMAD TALHA', 'cosc19131024@kfueit.edu.pk', '23.00', '', '']\n",
      "['IFTIKHAR', 'SHIZA', 'cosc19131014@kfueit.edu.pk', '16.00', '', '']\n",
      "['KFUEIT', 'cosc19131051', 'cosc19131051@kfueit.edu.pk', '23.00', '', '']\n",
      "['BILAL', 'MUHAMMAD', 'cosc19131033@kfueit.edu.pk', '19.00', '', '']\n",
      "['ZIA', 'KASHAF', 'cosc19131040@kfueit.edu.pk', '18.00', '', '']\n",
      "['JAVAID', 'ASAD', 'cosc19131039@kfueit.edu.pk', '18.00', '', '']\n",
      "['FAROOQ', 'KHANSA', 'cosc19131049@kfueit.edu.pk', '26.00', '', '']\n",
      "['ARSHAD', 'MUHAMMAD', 'cosc19131002@kfueit.edu.pk', '17.00', '', '']\n",
      "['TALIB', 'KIRAN', 'cosc19131028@kfueit.edu.pk', '14.00', '', '']\n",
      "['RAUF', 'FAIZA ABDUL', 'cosc19131048@kfueit.edu.pk', '15.00', '', '']\n",
      "['AFZAL', 'MOAZAM', 'cosc19131041@kfueit.edu.pk', '18.00', '', '']\n",
      "['SHOUKAT', 'AYESHA', 'cosc19131004@kfueit.edu.pk', '20.00', '', '']\n",
      "['Ghous', 'Muhammad Safdar', 'cs181021@kfueit.edu.pk', '12.00', '', '']\n",
      "['Afzal', 'Abu Nasar', 'cosc18131111@kfueit.edu.pk', '21.00', '', '']\n",
      "['Shoaib', 'Syed Muhammad', 'cs181039@kfueit.edu.pk', '23.00', '', '']\n",
      "['IMRAN', 'MUHAMMAD', 'cosc19131019@kfueit.edu.pk', '19.00', '', '']\n",
      "['BIBI', 'SUMAIRA', 'cosc19131031@kfueit.edu.pk', '15.00', '', '']\n",
      "['Javed', 'Arbaz', 'cs181042@kfueit.edu.pk', '14.00', '', '']\n",
      "['AFZAL', 'MINAHIL', 'cosc19131009@kfueit.edu.pk', '12.00', '', '']\n",
      "['Arshad', 'Kiran', 'cosc18131106@kfueit.edu.pk', '18.00', '', '']\n",
      "['ASLAM', 'SAMINA', 'cosc19131027@kfueit.edu.pk', '17.00', '', '']\n",
      "['ILYAS', 'MUHAMMAD', 'cosc19131037@kfueit.edu.pk', '30.00', '', '']\n",
      "['Kamiii', 'KAMRAN AKBAR', 'cosc19131042@kfueit.edu.pk', '30.00', '', '']\n",
      "['Ejaz', 'Zawar', 'cs181043@kfueit.edu.pk', '12.00', '', '']\n",
      "['ATTIQ', 'RIZWAN', 'cosc19131021@kfueit.edu.pk', '22.00', '', '']\n",
      "['ASHIQ', 'AYESHA', 'cosc19131023@kfueit.edu.pk', '11.00', '', '']\n",
      "['Khan', 'Sallar', 'cs171128@kfueit.edu.pk', '13.00', '', '']\n",
      "['.', 'ESHA AMJAD', 'cosc19131038@kfueit.edu.pk', '12.00', '', '']\n",
      "['AMANAT', 'KAINAT', 'cosc19131010@kfueit.edu.pk', '5.00', '', '']\n",
      "['NAWAZ', 'RIMSHA', 'cosc19131046@kfueit.edu.pk', '5.00', '', '']\n",
      "['Salar', ' Khan', 'cs171128@kfueit.edu.pk', '10', '', '']\n",
      "['Hafiz', 'Fahad', 'cs171135', '12', '', '']\n"
     ]
    }
   ],
   "source": [
    "import csv\n",
    "\n",
    "#  this csv file have 4 data\n",
    "# ([0],surname).([1]firstname).([2],email.id).([3],grade)\n",
    "\n",
    "with open(\"C:/Users/User7/Desktop/csv.file/MCS-3A-MID-1.csv\",\"r\") as file:\n",
    "    # copy the path were the excel(csv) file  is saved\n",
    "    i=0\n",
    "    data = csv.reader(file)\n",
    "    for line in data:\n",
    "       \n",
    "       i=i+1\n",
    "       if i==2:# to skip paticular (row)\n",
    "        continue\n",
    "      \n",
    "      # if (line[3]>str(20)): to find student who scored above(20)marks.\n",
    "        \n",
    "        #  print(line[3])  [] by using index i can get only that paticular data\n",
    "       \n",
    "       print(line)"
   ]
  },
  {
   "attachments": {},
   "cell_type": "markdown",
   "metadata": {},
   "source": [
    "ASSIGMENT ON FILE HANDLING"
   ]
  },
  {
   "cell_type": "code",
   "execution_count": 1,
   "metadata": {},
   "outputs": [
    {
     "name": "stdout",
     "output_type": "stream",
     "text": [
      "finally back\n"
     ]
    }
   ],
   "source": [
    "#  using try,except, and finally in txt.file\n",
    "def funct():\n",
    "    try:\n",
    "       file=open(\"filehand.txt/a.txt\",\"w\")\n",
    "       file.write(\"hello gourav\")\n",
    "    except:\n",
    "        print(\"Exception raised\")\n",
    "    finally:\n",
    "        print(\"finally back\")\n",
    "        file.close()\n",
    "funct()\n"
   ]
  },
  {
   "cell_type": "code",
   "execution_count": 31,
   "metadata": {},
   "outputs": [
    {
     "name": "stdout",
     "output_type": "stream",
     "text": [
      "[9, 11, 26, 28]\n"
     ]
    }
   ],
   "source": [
    "# write a program to find the intersection of two list\n",
    "\n",
    "def intersection(lst1, lst2):\n",
    "    lst3 = [value for value in lst1 if value in lst2]\n",
    "    return lst3\n",
    " \n",
    "# Driver Code\n",
    "lst1 = [4, 9, 1, 17, 11, 26, 28, 54, 69]\n",
    "lst2 = [9, 9, 74, 21, 45, 11, 63, 28, 26]\n",
    "print(intersection(lst1, lst2))"
   ]
  },
  {
   "cell_type": "code",
   "execution_count": 33,
   "metadata": {},
   "outputs": [
    {
     "name": "stdout",
     "output_type": "stream",
     "text": [
      "THE CHARACTER g IS FOUND 2 TIMES IN THE TEXT FILE\n"
     ]
    }
   ],
   "source": [
    "#  PROGRAM TO COUNT THE OCCURENCE OF A SPECIFIC CHARACTER IN A FILE \n",
    "\n",
    "# count = 0  # the value assigned is ,0,\n",
    "char = input(\"ENTER CHARACTER : \")\n",
    "count = 0\n",
    "with open(\"filehand.txt/a.txt\",\"r\") as file:\n",
    "  for i in file:\n",
    "   for c in i:  # c=character in (i):\n",
    "    if c == char:\n",
    "      count = count + 1\n",
    "print(\"THE CHARACTER {} IS FOUND {} TIMES IN THE TEXT FILE\".format(char,count))"
   ]
  },
  {
   "cell_type": "code",
   "execution_count": 30,
   "metadata": {},
   "outputs": [],
   "source": [
    "\n",
    "import csv\n",
    "data=[\"NAME\",\"ROLL NUMBER\",\"MARKS\",\"GRADE\"]\n",
    "\n",
    "rows=    [['GOURAV', '111', '80', 'A'], \n",
    "         ['SHANKER', '222', '95', 'A+'], \n",
    "         ['SAMARTH', '333', '96', 'A+'], \n",
    "         ['VINAYAK', '444', '90', 'A+'], \n",
    "         ['HEMANTH', '555', '85', 'A'], \n",
    "         ['RAJ', '666', '90', 'A']]\n",
    "\n",
    "\n",
    "with open(\"filehand.txt/A.csv\", 'w') as csvfile:\n",
    "   csvwriter = csv.writer(csvfile)\n",
    "   csvwriter.writerow(data)\n",
    "   csvwriter.writerows(rows)"
   ]
  },
  {
   "attachments": {},
   "cell_type": "markdown",
   "metadata": {},
   "source": [
    "ASSSIGNMENT ON SET"
   ]
  },
  {
   "cell_type": "code",
   "execution_count": 8,
   "metadata": {},
   "outputs": [
    {
     "name": "stdout",
     "output_type": "stream",
     "text": [
      "{50, 51, 52, 53, 54, 55, 56, 57, 58, 59}\n"
     ]
    }
   ],
   "source": [
    "#  ASSIGMENT ON SET TO DISPLAY INTERSECTION MARKS BETWEEN THREE CLASS STUDENT USING SET OPREATION\n",
    "SET1=set()\n",
    "SET2=set()\n",
    "SET3=set()\n",
    "for i in range(35,60) :\n",
    "    SET1.add(i)\n",
    "for j in range(40,75):\n",
    "    SET2.add(j)\n",
    "for k in range(50,99):\n",
    "     SET3.add(k)\n",
    "     SET4=SET1.intersection(SET2)\n",
    "     TOTAL=SET4.intersection(SET3)\n",
    "print(TOTAL)\n"
   ]
  },
  {
   "attachments": {},
   "cell_type": "markdown",
   "metadata": {},
   "source": [
    "ASSIGNMENT ON MATRIX"
   ]
  },
  {
   "cell_type": "code",
   "execution_count": 3,
   "metadata": {},
   "outputs": [
    {
     "data": {
      "text/plain": [
       "[[1, 3, 5, 7, 9, 11],\n",
       " [1, 3, 5, 7, 9, 11],\n",
       " [1, 3, 5, 7, 9, 11],\n",
       " [1, 3, 5, 7, 9, 11],\n",
       " [1, 3, 5, 7, 9, 11],\n",
       " [1, 3, 5, 7, 9, 11]]"
      ]
     },
     "execution_count": 3,
     "metadata": {},
     "output_type": "execute_result"
    }
   ],
   "source": [
    "# CREAT A 6X6 ORDER MATRIX USING LIST COMPREHENSION METHOD AND ALL MATRIX VALUES MUST BE ODD NUMBERS REPETATION ALLOWED\n",
    "\n",
    "M1= [[ i for i in range(12) if(i% 2 !=0)] for j in range(6)]\n",
    "M1"
   ]
  },
  {
   "cell_type": "code",
   "execution_count": 1,
   "metadata": {},
   "outputs": [
    {
     "data": {
      "text/plain": [
       "[[1, 3, 5, 7, 9, 11, 13, 15, 17, 19, 21, 23, 25, 27, 29, 31],\n",
       " [1, 3, 5, 7, 9, 11, 13, 15, 17, 19, 21, 23, 25, 27, 29, 31],\n",
       " [1, 3, 5, 7, 9, 11, 13, 15, 17, 19, 21, 23, 25, 27, 29, 31],\n",
       " [1, 3, 5, 7, 9, 11, 13, 15, 17, 19, 21, 23, 25, 27, 29, 31],\n",
       " [1, 3, 5, 7, 9, 11, 13, 15, 17, 19, 21, 23, 25, 27, 29, 31],\n",
       " [1, 3, 5, 7, 9, 11, 13, 15, 17, 19, 21, 23, 25, 27, 29, 31],\n",
       " [1, 3, 5, 7, 9, 11, 13, 15, 17, 19, 21, 23, 25, 27, 29, 31],\n",
       " [1, 3, 5, 7, 9, 11, 13, 15, 17, 19, 21, 23, 25, 27, 29, 31],\n",
       " [1, 3, 5, 7, 9, 11, 13, 15, 17, 19, 21, 23, 25, 27, 29, 31],\n",
       " [1, 3, 5, 7, 9, 11, 13, 15, 17, 19, 21, 23, 25, 27, 29, 31],\n",
       " [1, 3, 5, 7, 9, 11, 13, 15, 17, 19, 21, 23, 25, 27, 29, 31],\n",
       " [1, 3, 5, 7, 9, 11, 13, 15, 17, 19, 21, 23, 25, 27, 29, 31],\n",
       " [1, 3, 5, 7, 9, 11, 13, 15, 17, 19, 21, 23, 25, 27, 29, 31],\n",
       " [1, 3, 5, 7, 9, 11, 13, 15, 17, 19, 21, 23, 25, 27, 29, 31],\n",
       " [1, 3, 5, 7, 9, 11, 13, 15, 17, 19, 21, 23, 25, 27, 29, 31],\n",
       " [1, 3, 5, 7, 9, 11, 13, 15, 17, 19, 21, 23, 25, 27, 29, 31]]"
      ]
     },
     "execution_count": 1,
     "metadata": {},
     "output_type": "execute_result"
    }
   ],
   "source": [
    "# CREAT A 16X16 ORDER MATRIX USING LIST COMPREHENSION METHOD AND ALL MATRIX VALUES MUST BE ODD NUMBERS REPETATION ALLOWED\n",
    "\n",
    "M2=[[i for i in range(32) if(i%2!=0)]for j in range(16)]\n",
    "M2"
   ]
  },
  {
   "attachments": {},
   "cell_type": "markdown",
   "metadata": {},
   "source": [
    "ASSIGNMENT "
   ]
  },
  {
   "cell_type": "code",
   "execution_count": null,
   "metadata": {},
   "outputs": [],
   "source": [
    "#  WRITE A PROGRAM TO FIND THE ELDEST AMOUNG THREE PERSON AGE RECEVIED FROM THE USER\n",
    "AGE1=int(input(\"Enter the age1\" ))\n",
    "AGE2=int(input(\"Enter the age1\" ))\n",
    "AGE3=int(input(\"Enter the age1\" ))\n",
    "if  AGE1>AGE2 and AGE1>AGE3:\n",
    "     print(\"AGE1 is eldest\")\n",
    "elif AGE2>AGE1 and AGE2>AGE3:\n",
    "    print(\"AGE2 is eldest\")\n",
    "else:\n",
    "    print(\"AGE3 is eldest\")\n"
   ]
  },
  {
   "cell_type": "code",
   "execution_count": null,
   "metadata": {},
   "outputs": [],
   "source": [
    "2# WRITE A PROGRAM TO PRINT CHECK THE NUMBER RECORDED FROM USER IS POSITIVE OR NEGATIVE\n",
    "\n",
    "num=int(input(\"ENTER THE VALUE\"))\n",
    "if (num>0):\n",
    "    print(\"ENTER THE VALUE IS POSITIVE\",num)\n",
    "else:\n",
    "    print(\"ENTER THE VALUE IS NEGATIVE\",num)"
   ]
  },
  {
   "cell_type": "code",
   "execution_count": null,
   "metadata": {},
   "outputs": [],
   "source": [
    "4#  WRITE A PROGRAM TO ACCEPT TWO NUMBERS AND MATHEMATICAL OPREATORS AND PERFORM OPERATIONS ACORDINGLY\n",
    "A=int(input(\"ENTER THE VALUE  A \"))\n",
    "B=int(input(\"ENTER THE VALUE  B \"))\n",
    "print(\" ADDITION OF NUMBER IS\" ,A+B)\n",
    "print(\" SUBTACTION OF NUMBER IS\" ,A-B)\n",
    "print(\" MULTIPLICATION OF NUMBER IS\" ,A*B)\n",
    "print(\" DIVISION OF NUMBER IS\" ,A/B)\n",
    "print(\" MOUDUL OF NUMBER IS\" ,A%B)\n",
    "print(\" SQUARE OF NUMBER\" ,A**B)\n",
    "print(\" FLOOR DIVISION OF NUMBER\",A//B)\n",
    "print(\" CAP OF NUMBER\",A^B)"
   ]
  },
  {
   "cell_type": "code",
   "execution_count": null,
   "metadata": {},
   "outputs": [],
   "source": [
    "#  WRITE A PROGRAM IF YOU HAVE WRITTEN AN EXAM FOR A TOTAL SCORE OF 100 AND IF YOU SCORE IS ABOVE OR EQUAL TO 60 THEN YOU WILL BE CONSIDERED AS PASSS IN EXAM\n",
    "T=int(input(\"Enter the total score\"))\n",
    "print(T)\n",
    "result=int(input(\"ENTER THE RESULT\"))\n",
    "print(\"SCORED MARKS IS\",result)\n",
    "if(result<=59):\n",
    "    print(\"FAIL\")\n",
    "else:\n",
    "    print(\"PASS\")\n"
   ]
  },
  {
   "cell_type": "code",
   "execution_count": 1,
   "metadata": {},
   "outputs": [
    {
     "name": "stdout",
     "output_type": "stream",
     "text": [
      "[('gourav', 1), ('shanker', 2), ('samarth', 3), ('raju', 4)]\n"
     ]
    }
   ],
   "source": [
    "# ZIP METHOD\n",
    "name  = ('gourav','shanker','samarth','raju')\n",
    "roll_no = (1,2,3,4)\n",
    "added = zip(name,roll_no)\n",
    " \n",
    "print(list(added))\n"
   ]
  },
  {
   "cell_type": "code",
   "execution_count": 10,
   "metadata": {},
   "outputs": [
    {
     "name": "stdout",
     "output_type": "stream",
     "text": [
      "s ur ans is 2\n"
     ]
    }
   ],
   "source": [
    "\n",
    "def divided(x,y):\n",
    "    try:\n",
    "           result=x//y\n",
    "           print(\"s ur ans is\",result)\n",
    "    except :\n",
    "            print(\"sorry ur is not corect\")    \n",
    "divided(4,2)"
   ]
  },
  {
   "cell_type": "code",
   "execution_count": 9,
   "metadata": {},
   "outputs": [
    {
     "name": "stdout",
     "output_type": "stream",
     "text": [
      "second number%d 3\n",
      " u get an erreor\n"
     ]
    }
   ],
   "source": [
    "a=[1,2,3]\n",
    "try:\n",
    "    print(\"second number%d\",a[2])\n",
    "    print(\"fourth index%d\",a[3])\n",
    "except :\n",
    "    print(\" u get an erreor\")"
   ]
  },
  {
   "cell_type": "code",
   "execution_count": 47,
   "metadata": {},
   "outputs": [
    {
     "name": "stdout",
     "output_type": "stream",
     "text": [
      "value error\n"
     ]
    }
   ],
   "source": [
    "a={1:\"gourav\",2:\"a\",3:\"s\",4:\"none\"}\n",
    "try:\n",
    "    print(a.keys(1))\n",
    "except  :\n",
    "    print(\"value error\")"
   ]
  },
  {
   "cell_type": "code",
   "execution_count": null,
   "metadata": {},
   "outputs": [],
   "source": []
  }
 ],
 "metadata": {
  "kernelspec": {
   "display_name": "base",
   "language": "python",
   "name": "python3"
  },
  "language_info": {
   "codemirror_mode": {
    "name": "ipython",
    "version": 3
   },
   "file_extension": ".py",
   "mimetype": "text/x-python",
   "name": "python",
   "nbconvert_exporter": "python",
   "pygments_lexer": "ipython3",
   "version": "3.11.2"
  },
  "orig_nbformat": 4
 },
 "nbformat": 4,
 "nbformat_minor": 2
}
