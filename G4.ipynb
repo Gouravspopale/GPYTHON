{
 "cells": [
  {
   "attachments": {},
   "cell_type": "markdown",
   "metadata": {},
   "source": [
    "Assingment"
   ]
  },
  {
   "attachments": {},
   "cell_type": "markdown",
   "metadata": {},
   "source": [
    " Program on List"
   ]
  },
  {
   "cell_type": "code",
   "execution_count": 11,
   "metadata": {},
   "outputs": [
    {
     "name": "stdout",
     "output_type": "stream",
     "text": [
      "100\n"
     ]
    }
   ],
   "source": [
    "#  picking paticular string from list by using index number\n",
    "list = [10,15,20,[100,200],\"gourav\"]\n",
    "print(list[3][0])"
   ]
  },
  {
   "cell_type": "code",
   "execution_count": 14,
   "metadata": {},
   "outputs": [
    {
     "name": "stdout",
     "output_type": "stream",
     "text": [
      "['gou', 'rav', 's', 'pop', 'ale']\n"
     ]
    }
   ],
   "source": [
    "# spliting values by entered in list\n",
    "list1 = input(\"Enter the value\")\n",
    "list2 = list1.split()\n",
    "print(list2)\n"
   ]
  },
  {
   "cell_type": "code",
   "execution_count": 17,
   "metadata": {},
   "outputs": [
    {
     "data": {
      "text/plain": [
       "['20', '30', [20, 30, 40, 50]]"
      ]
     },
     "execution_count": 17,
     "metadata": {},
     "output_type": "execute_result"
    }
   ],
   "source": [
    "# using append to add the values in the list\n",
    "list=[]\n",
    "list.append(input(\"Enter the value\"))\n",
    "list.append(input(\"Enter the value\"))\n",
    "list.append([20,30,40,50])\n",
    "list"
   ]
  },
  {
   "cell_type": "code",
   "execution_count": 21,
   "metadata": {},
   "outputs": [
    {
     "data": {
      "text/plain": [
       "['Hi well come', 'Gourav']"
      ]
     },
     "execution_count": 21,
     "metadata": {},
     "output_type": "execute_result"
    }
   ],
   "source": [
    "# using extend in the list\n",
    "list1=[\"Hi well come\"]\n",
    "list1.extend([\"Gourav\"])\n",
    "list1"
   ]
  },
  {
   "cell_type": "code",
   "execution_count": 72,
   "metadata": {},
   "outputs": [
    {
     "data": {
      "text/plain": [
       "['Good', 'Is', 'Gourav']"
      ]
     },
     "execution_count": 72,
     "metadata": {},
     "output_type": "execute_result"
    }
   ],
   "source": [
    "# Using revers. in list\n",
    "list = [\"Gourav\",\"Is\",\"Good\"]\n",
    "list.reverse()\n",
    "list"
   ]
  },
  {
   "cell_type": "code",
   "execution_count": 77,
   "metadata": {},
   "outputs": [
    {
     "data": {
      "text/plain": [
       "['Gourav', 'popale']"
      ]
     },
     "execution_count": 77,
     "metadata": {},
     "output_type": "execute_result"
    }
   ],
   "source": [
    "# Using remove. in list\n",
    "list = [\"Gourav\",'s',\"popale\"]\n",
    "list.remove(\"s\")\n",
    "list"
   ]
  },
  {
   "cell_type": "code",
   "execution_count": 78,
   "metadata": {},
   "outputs": [
    {
     "data": {
      "text/plain": [
       "[10, 20, 30, 40, 50]"
      ]
     },
     "execution_count": 78,
     "metadata": {},
     "output_type": "execute_result"
    }
   ],
   "source": [
    "#Using pop. in list # it is paticular to (remove last one,)\n",
    "list = [10,20,30,40,50,60]\n",
    "list.pop()\n",
    "list"
   ]
  },
  {
   "attachments": {},
   "cell_type": "markdown",
   "metadata": {},
   "source": [
    "Tuple"
   ]
  },
  {
   "cell_type": "code",
   "execution_count": 66,
   "metadata": {},
   "outputs": [
    {
     "data": {
      "text/plain": [
       "'Hi Gourav'"
      ]
     },
     "execution_count": 66,
     "metadata": {},
     "output_type": "execute_result"
    }
   ],
   "source": [
    "# Adding string by tuple\n",
    "tuple1 = (\"Hi \")\n",
    "tuple2 = (\"Gourav\")\n",
    "tuple3 = tuple1+tuple2\n",
    "tuple3"
   ]
  },
  {
   "cell_type": "code",
   "execution_count": 56,
   "metadata": {},
   "outputs": [
    {
     "name": "stdout",
     "output_type": "stream",
     "text": [
      "g\n",
      "v\n"
     ]
    }
   ],
   "source": [
    "\n",
    "# Accessing the lement using positive indexing\n",
    "t1 = (\"g\",\"o\",\"r\",\"a\",\"v\")\n",
    "print(t1[0])    #print \"g\"\n",
    "print(t1[4])    #print \"v\""
   ]
  },
  {
   "cell_type": "code",
   "execution_count": 57,
   "metadata": {},
   "outputs": [
    {
     "name": "stdout",
     "output_type": "stream",
     "text": [
      "a\n",
      "o\n"
     ]
    }
   ],
   "source": [
    "# Accessing the lement using negative indexing\n",
    "t1 = (\"g\",\"o\",\"r\",\"a\",\"v\")\n",
    "print(t1[-2])    #print \"a\"\n",
    "print(t1[-4])    #print \"o\""
   ]
  },
  {
   "cell_type": "code",
   "execution_count": 62,
   "metadata": {},
   "outputs": [
    {
     "name": "stdout",
     "output_type": "stream",
     "text": [
      "(2, 3, 4, 5)\n",
      "(1, 2)\n",
      "(8, 9)\n"
     ]
    }
   ],
   "source": [
    "# Accessing tuple element using slicing\n",
    "my_tuple = (1,2,3,4,5,6,7,8,9)\n",
    "print(my_tuple[1:5])    #(2,3,4,5)\n",
    "print(my_tuple[:-7])    #(1,2)\n",
    "print(my_tuple[7:])     #(8,9)\n",
    "print(my_tuple[:])      # returns all the tuples items"
   ]
  },
  {
   "cell_type": "code",
   "execution_count": 71,
   "metadata": {},
   "outputs": [
    {
     "name": "stdout",
     "output_type": "stream",
     "text": [
      "2\n",
      "1\n",
      "5\n"
     ]
    }
   ],
   "source": [
    "# Using count and index in tuple\n",
    "my_tuple = (\"h\",\"u\",\"b\",\"l\",\"i\",\"k\",\"e\",\"o\",\"n\",\"i\",\"c\",\"s\")\n",
    "print(my_tuple.count(\"i\"))   #2\n",
    "print(my_tuple.count(\"n\"))   #1\n",
    "print(my_tuple.index(\"k\"))   #5"
   ]
  },
  {
   "cell_type": "code",
   "execution_count": 70,
   "metadata": {},
   "outputs": [
    {
     "name": "stdout",
     "output_type": "stream",
     "text": [
      "False\n",
      "True\n"
     ]
    }
   ],
   "source": [
    "# Check if an item exists in the python Tuple\n",
    "\n",
    "my_tuple = (\"Gourav\",\"keonics\",\"student\")\n",
    "print(\"hubli\" in my_tuple)   #FALSE\n",
    "print(\"Gourav\" in my_tuple)  #TRUE\n"
   ]
  },
  {
   "attachments": {},
   "cell_type": "markdown",
   "metadata": {},
   "source": [
    "program on set"
   ]
  },
  {
   "cell_type": "code",
   "execution_count": 5,
   "metadata": {},
   "outputs": [
    {
     "name": "stdout",
     "output_type": "stream",
     "text": [
      "{'geek', 'for'}\n",
      "{'h', 'l', 'e', 'o'}\n"
     ]
    }
   ],
   "source": [
    "# A set cannot have duplicate values\n",
    "myset={\"geek\",\"for\",\"geek\"} \n",
    "print(myset)\n",
    "myset={\"h\",\"e\",\"l\",\"l\",\"o\"}\n",
    "print(myset)"
   ]
  },
  {
   "cell_type": "code",
   "execution_count": 6,
   "metadata": {},
   "outputs": [
    {
     "name": "stdout",
     "output_type": "stream",
     "text": [
      "{'well', 'hi', 'come', 'keonics', 'center', 'to', 'traning'}\n"
     ]
    }
   ],
   "source": [
    "#  A set can store hetrogeneous elements\n",
    "myset={\"hi\",\"well\",\"come\",\"to\",\"keonics\",\"traning\",\"center\"}\n",
    "print(myset)"
   ]
  },
  {
   "cell_type": "code",
   "execution_count": 8,
   "metadata": {},
   "outputs": [
    {
     "name": "stdout",
     "output_type": "stream",
     "text": [
      "{'popale', 's', 'gourav'}\n"
     ]
    }
   ],
   "source": [
    "# Adding a string in a set\n",
    "myset={\"Gourav\",\"popale\"}\n",
    "myset.add(\"s\")\n",
    "print(myset)"
   ]
  },
  {
   "cell_type": "code",
   "execution_count": 9,
   "metadata": {},
   "outputs": [
    {
     "name": "stdout",
     "output_type": "stream",
     "text": [
      "{'apple', 'ralph lauren', 'google', 'lactose'}\n"
     ]
    }
   ],
   "source": [
    "# using update in set\n",
    "companies={'lactose','ralph lauren'}\n",
    "tec_companies={'apple','google','apple'}\n",
    "\n",
    "companies.update(tec_companies)\n",
    "\n",
    "print(companies)"
   ]
  },
  {
   "cell_type": "code",
   "execution_count": 10,
   "metadata": {},
   "outputs": [
    {
     "name": "stdout",
     "output_type": "stream",
     "text": [
      "{'Gourav', 'popale'}\n"
     ]
    }
   ],
   "source": [
    "# Using Discard in set\n",
    "myset={'Gourav','s','popale'}\n",
    "myset1=myset.discard('s')\n",
    "print(myset)"
   ]
  },
  {
   "cell_type": "code",
   "execution_count": 13,
   "metadata": {},
   "outputs": [
    {
     "name": "stdout",
     "output_type": "stream",
     "text": [
      "9\n"
     ]
    }
   ],
   "source": [
    "# Find Number of set Elements     #it will not count repeated value again and again\n",
    "even_number={1,2,3,4,5,6,7,8,9,1,2,3}\n",
    "print(len(even_number))"
   ]
  },
  {
   "cell_type": "code",
   "execution_count": 15,
   "metadata": {},
   "outputs": [
    {
     "name": "stdout",
     "output_type": "stream",
     "text": [
      "{2, 5}\n"
     ]
    }
   ],
   "source": [
    "# Using intersection in set\n",
    "A={1,2,3,4,5}\n",
    "B={7,6,2,5,8}\n",
    "print(A.intersection(B))"
   ]
  }
 ],
 "metadata": {
  "kernelspec": {
   "display_name": "GouravENV",
   "language": "python",
   "name": "python3"
  },
  "language_info": {
   "codemirror_mode": {
    "name": "ipython",
    "version": 3
   },
   "file_extension": ".py",
   "mimetype": "text/x-python",
   "name": "python",
   "nbconvert_exporter": "python",
   "pygments_lexer": "ipython3",
   "version": "3.9.13"
  },
  "orig_nbformat": 4
 },
 "nbformat": 4,
 "nbformat_minor": 2
}
