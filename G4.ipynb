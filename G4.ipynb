{
 "cells": [
  {
   "attachments": {},
   "cell_type": "markdown",
   "metadata": {},
   "source": [
    "ASSSIGNMENT ON SET"
   ]
  },
  {
   "cell_type": "code",
   "execution_count": 13,
   "metadata": {},
   "outputs": [
    {
     "name": "stdout",
     "output_type": "stream",
     "text": [
      "{50, 51, 52, 53, 54, 55, 56, 57, 58, 59}\n"
     ]
    }
   ],
   "source": [
    "SET1=set()\n",
    "SET2=set()\n",
    "SET3=set()\n",
    "for i in range(35,60) :\n",
    "    SET1.add(i)\n",
    "for j in range(40,75):\n",
    "    SET2.add(j)\n",
    "for k in range(50,99):\n",
    "     SET3.add(k)\n",
    "     SET4=SET1.intersection(SET2)\n",
    "     TOTAL=SET4.intersection(SET3)\n",
    "print(TOTAL)\n"
   ]
  },
  {
   "attachments": {},
   "cell_type": "markdown",
   "metadata": {},
   "source": [
    "ASSIGNMENT ON MATRIX"
   ]
  },
  {
   "cell_type": "code",
   "execution_count": 3,
   "metadata": {},
   "outputs": [
    {
     "data": {
      "text/plain": [
       "[[1, 3, 5, 7, 9, 11],\n",
       " [1, 3, 5, 7, 9, 11],\n",
       " [1, 3, 5, 7, 9, 11],\n",
       " [1, 3, 5, 7, 9, 11],\n",
       " [1, 3, 5, 7, 9, 11],\n",
       " [1, 3, 5, 7, 9, 11]]"
      ]
     },
     "execution_count": 3,
     "metadata": {},
     "output_type": "execute_result"
    }
   ],
   "source": [
    "# CREAT A 6X6 ORDER MATRIX USING LIST COMPREHENSION METHOD AND ALL MATRIX VALUES MUST BE ODD NUMBERS REPETATION ALLOWED\n",
    "\n",
    "M1= [[ i for i in range(12) if(i% 2 !=0)] for j in range(6)]\n",
    "M1"
   ]
  },
  {
   "cell_type": "code",
   "execution_count": 1,
   "metadata": {},
   "outputs": [
    {
     "data": {
      "text/plain": [
       "[[1, 3, 5, 7, 9, 11, 13, 15, 17, 19, 21, 23, 25, 27, 29, 31],\n",
       " [1, 3, 5, 7, 9, 11, 13, 15, 17, 19, 21, 23, 25, 27, 29, 31],\n",
       " [1, 3, 5, 7, 9, 11, 13, 15, 17, 19, 21, 23, 25, 27, 29, 31],\n",
       " [1, 3, 5, 7, 9, 11, 13, 15, 17, 19, 21, 23, 25, 27, 29, 31],\n",
       " [1, 3, 5, 7, 9, 11, 13, 15, 17, 19, 21, 23, 25, 27, 29, 31],\n",
       " [1, 3, 5, 7, 9, 11, 13, 15, 17, 19, 21, 23, 25, 27, 29, 31],\n",
       " [1, 3, 5, 7, 9, 11, 13, 15, 17, 19, 21, 23, 25, 27, 29, 31],\n",
       " [1, 3, 5, 7, 9, 11, 13, 15, 17, 19, 21, 23, 25, 27, 29, 31],\n",
       " [1, 3, 5, 7, 9, 11, 13, 15, 17, 19, 21, 23, 25, 27, 29, 31],\n",
       " [1, 3, 5, 7, 9, 11, 13, 15, 17, 19, 21, 23, 25, 27, 29, 31],\n",
       " [1, 3, 5, 7, 9, 11, 13, 15, 17, 19, 21, 23, 25, 27, 29, 31],\n",
       " [1, 3, 5, 7, 9, 11, 13, 15, 17, 19, 21, 23, 25, 27, 29, 31],\n",
       " [1, 3, 5, 7, 9, 11, 13, 15, 17, 19, 21, 23, 25, 27, 29, 31],\n",
       " [1, 3, 5, 7, 9, 11, 13, 15, 17, 19, 21, 23, 25, 27, 29, 31],\n",
       " [1, 3, 5, 7, 9, 11, 13, 15, 17, 19, 21, 23, 25, 27, 29, 31],\n",
       " [1, 3, 5, 7, 9, 11, 13, 15, 17, 19, 21, 23, 25, 27, 29, 31]]"
      ]
     },
     "execution_count": 1,
     "metadata": {},
     "output_type": "execute_result"
    }
   ],
   "source": [
    "# CREAT A 16X16 ORDER MATRIX USING LIST COMPREHENSION METHOD AND ALL MATRIX VALUES MUST BE ODD NUMBERS REPETATION ALLOWED\n",
    "\n",
    "M2=[[i for i in range(32) if(i%2!=0)]for j in range(16)]\n",
    "M2"
   ]
  },
  {
   "attachments": {},
   "cell_type": "markdown",
   "metadata": {},
   "source": [
    "ASSIGNMENT "
   ]
  },
  {
   "cell_type": "code",
   "execution_count": null,
   "metadata": {},
   "outputs": [],
   "source": [
    "#  WRITE A PROGRAM TO FIND THE ELDEST AMOUNG THREE PERSON AGE RECEVIED FROM THE USER\n",
    "AGE1=int(input(\"Enter the age1\" ))\n",
    "AGE2=int(input(\"Enter the age1\" ))\n",
    "AGE3=int(input(\"Enter the age1\" ))\n",
    "if  AGE1>AGE2 and AGE1>AGE3:\n",
    "     print(\"AGE1 is eldest\")\n",
    "elif AGE2>AGE1 and AGE2>AGE3:\n",
    "    print(\"AGE2 is eldest\")\n",
    "else:\n",
    "    print(\"AGE3 is eldest\")\n"
   ]
  },
  {
   "cell_type": "code",
   "execution_count": null,
   "metadata": {},
   "outputs": [],
   "source": [
    "2# WRITE A PROGRAM TO PRINT CHECK THE NUMBER RECORDED FROM USER IS POSITIVE OR NEGATIVE\n",
    "\n",
    "num=int(input(\"ENTER THE VALUE\"))\n",
    "if (num>0):\n",
    "    print(\"ENTER THE VALUE IS POSITIVE\",num)\n",
    "else:\n",
    "    print(\"ENTER THE VALUE IS NEGATIVE\",num)"
   ]
  },
  {
   "cell_type": "code",
   "execution_count": null,
   "metadata": {},
   "outputs": [],
   "source": [
    "4#  WRITE A PROGRAM TO ACCEPT TWO NUMBERS AND MATHEMATICAL OPREATORS AND PERFORM OPERATIONS ACORDINGLY\n",
    "A=int(input(\"ENTER THE VALUE  A \"))\n",
    "B=int(input(\"ENTER THE VALUE  B \"))\n",
    "print(\" ADDITION OF NUMBER IS\" ,A+B)\n",
    "print(\" SUBTACTION OF NUMBER IS\" ,A-B)\n",
    "print(\" MULTIPLICATION OF NUMBER IS\" ,A*B)\n",
    "print(\" DIVISION OF NUMBER IS\" ,A/B)\n",
    "print(\" MOUDUL OF NUMBER IS\" ,A%B)\n",
    "print(\" SQUARE OF NUMBER\" ,A**B)\n",
    "print(\" FLOOR DIVISION OF NUMBER\",A//B)\n",
    "print(\" CAP OF NUMBER\",A^B)"
   ]
  },
  {
   "cell_type": "code",
   "execution_count": null,
   "metadata": {},
   "outputs": [],
   "source": [
    "#  WRITE A PROGRAM IF YOU HAVE WRITTEN AN EXAM FOR A TOTAL SCORE OF 100 AND IF YOU SCORE IS ABOVE OR EQUAL TO 60 THEN YOU WILL BE CONSIDERED AS PASSS IN EXAM\n",
    "T=int(input(\"Enter the total score\"))\n",
    "print(T)\n",
    "result=int(input(\"ENTER THE RESULT\"))\n",
    "print(\"SCORED MARKS IS\",result)\n",
    "if(result<=59):\n",
    "    print(\"FAIL\")\n",
    "else:\n",
    "    print(\"PASS\")\n"
   ]
  },
  {
   "cell_type": "code",
   "execution_count": 1,
   "metadata": {},
   "outputs": [
    {
     "name": "stdout",
     "output_type": "stream",
     "text": [
      "[('gourav', 1), ('shanker', 2), ('samarth', 3), ('raju', 4)]\n"
     ]
    }
   ],
   "source": [
    "# ZIP METHOD\n",
    "name  = ('gourav','shanker','samarth','raju')\n",
    "roll_no = (1,2,3,4)\n",
    "added = zip(name,roll_no)\n",
    " \n",
    "print(list(added))\n"
   ]
  }
 ],
 "metadata": {
  "kernelspec": {
   "display_name": "base",
   "language": "python",
   "name": "python3"
  },
  "language_info": {
   "codemirror_mode": {
    "name": "ipython",
    "version": 3
   },
   "file_extension": ".py",
   "mimetype": "text/x-python",
   "name": "python",
   "nbconvert_exporter": "python",
   "pygments_lexer": "ipython3",
   "version": "3.9.13"
  },
  "orig_nbformat": 4
 },
 "nbformat": 4,
 "nbformat_minor": 2
}
