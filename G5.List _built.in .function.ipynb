{
 "cells": [
  {
   "attachments": {},
   "cell_type": "markdown",
   "metadata": {},
   "source": [
    "PROGRAM ON LIST WITH ALL BUILT-IN FUNCTION"
   ]
  },
  {
   "attachments": {},
   "cell_type": "markdown",
   "metadata": {},
   "source": [
    "USING INDEX()"
   ]
  },
  {
   "cell_type": "code",
   "execution_count": 24,
   "metadata": {},
   "outputs": [
    {
     "name": "stdout",
     "output_type": "stream",
     "text": [
      "100\n"
     ]
    }
   ],
   "source": [
    "# PICKING PATICULAR OBJECT BY USING INDEX (value)\n",
    "\n",
    "list = [10,15,20,[100,200],\"gourav\"]\n",
    "print(list[3] [0])"
   ]
  },
  {
   "attachments": {},
   "cell_type": "markdown",
   "metadata": {},
   "source": [
    "USING SPLIT( ) FUNCTION"
   ]
  },
  {
   "cell_type": "code",
   "execution_count": 26,
   "metadata": {},
   "outputs": [
    {
     "name": "stdout",
     "output_type": "stream",
     "text": [
      "['1', '2', '3']\n"
     ]
    }
   ],
   "source": [
    "# SPLITING VALUES BY ENTERED OBJECT BY \n",
    "\n",
    "# using. SPACE IN LIST\n",
    "\n",
    "list1 = input(\"Enter the value\")\n",
    "list2 = list1.split()\n",
    "print(list2)\n"
   ]
  },
  {
   "attachments": {},
   "cell_type": "markdown",
   "metadata": {},
   "source": [
    "USING APPEND FUNCTION"
   ]
  },
  {
   "cell_type": "code",
   "execution_count": 6,
   "metadata": {},
   "outputs": [
    {
     "data": {
      "text/plain": [
       "['10', '20', [30, 40, 50, 60]]"
      ]
     },
     "execution_count": 6,
     "metadata": {},
     "output_type": "execute_result"
    }
   ],
   "source": [
    "# USING APPEND IN LIST TO ADD OBJECT\n",
    "\n",
    "list=[]\n",
    "list.append(input(\"Enter the value\"))\n",
    "list.append(input(\"Enter the value\"))\n",
    "list.append([30,40,50,60])\n",
    "list"
   ]
  },
  {
   "attachments": {},
   "cell_type": "markdown",
   "metadata": {},
   "source": [
    "USING COUNT( ) FUNCTION"
   ]
  },
  {
   "cell_type": "code",
   "execution_count": 7,
   "metadata": {},
   "outputs": [
    {
     "name": "stdout",
     "output_type": "stream",
     "text": [
      "2\n"
     ]
    }
   ],
   "source": [
    "# USING COUNT() IN LIST \n",
    "\n",
    "# (Returns the count of how many times object occurs in the list.)\n",
    "\n",
    "list=['a','b','b','c','e','f']\n",
    "print(list.count('b'))\n"
   ]
  },
  {
   "attachments": {},
   "cell_type": "markdown",
   "metadata": {},
   "source": [
    "USING EXTEND( ) FUNCTION"
   ]
  },
  {
   "cell_type": "code",
   "execution_count": 8,
   "metadata": {},
   "outputs": [
    {
     "data": {
      "text/plain": [
       "['Hi well come', 'Gourav']"
      ]
     },
     "execution_count": 8,
     "metadata": {},
     "output_type": "execute_result"
    }
   ],
   "source": [
    "# USING EXTEND IN LIST TO (ADD WHOLE LIST) \n",
    "\n",
    "list1=[\"Hi well come\"]\n",
    "list1.extend([\"Gourav\"])\n",
    "list1"
   ]
  },
  {
   "attachments": {},
   "cell_type": "markdown",
   "metadata": {},
   "source": [
    "USING REVERSE( ) FUNCTION"
   ]
  },
  {
   "cell_type": "code",
   "execution_count": 9,
   "metadata": {},
   "outputs": [
    {
     "data": {
      "text/plain": [
       "['Good', 'Is', 'Gourav']"
      ]
     },
     "execution_count": 9,
     "metadata": {},
     "output_type": "execute_result"
    }
   ],
   "source": [
    "# USING REVERSE IN LIST\n",
    "# revers the whole list\n",
    "list = [\"Gourav\",\"Is\",\"Good\"]\n",
    "list.reverse()\n",
    "list"
   ]
  },
  {
   "attachments": {},
   "cell_type": "markdown",
   "metadata": {},
   "source": [
    "USING REMOVE( ) FUNCTION"
   ]
  },
  {
   "cell_type": "code",
   "execution_count": 10,
   "metadata": {},
   "outputs": [
    {
     "data": {
      "text/plain": [
       "['Gourav', 'popale']"
      ]
     },
     "execution_count": 10,
     "metadata": {},
     "output_type": "execute_result"
    }
   ],
   "source": [
    "# USING REMOVE IN LIST(IT WILL REMOVE ONLY DIRECT OBJECT)\n",
    "\n",
    "list = [\"Gourav\",'s',\"popale\"]\n",
    "list.remove(\"s\")\n",
    "list"
   ]
  },
  {
   "attachments": {},
   "cell_type": "markdown",
   "metadata": {},
   "source": [
    "USING POP( ) FUNCTION"
   ]
  },
  {
   "cell_type": "code",
   "execution_count": 11,
   "metadata": {},
   "outputs": [
    {
     "data": {
      "text/plain": [
       "[10, 20, 30, 40, 50]"
      ]
     },
     "execution_count": 11,
     "metadata": {},
     "output_type": "execute_result"
    }
   ],
   "source": [
    "# USING POP() IN LIST WHICH REMOVE\n",
    "# note: BY DEFAULT(-1)(LAST OBJECT)\n",
    "\n",
    "list = [10,20,30,40,50,60]\n",
    "list.pop()\n",
    "list"
   ]
  },
  {
   "attachments": {},
   "cell_type": "markdown",
   "metadata": {},
   "source": [
    "USING SORT( ) FUNCTION"
   ]
  },
  {
   "cell_type": "code",
   "execution_count": 12,
   "metadata": {},
   "outputs": [
    {
     "name": "stdout",
     "output_type": "stream",
     "text": [
      "[1, 3, 4, 5, 6, 7, 8, 9, 10]\n"
     ]
    }
   ],
   "source": [
    "#  USING SORT() IN LIST\n",
    "LIST=[1,5,3,6,9,4,7,8,10]  # note:\n",
    "LIST.sort()                # sort  will arange in accending order\n",
    "# LIST.sort(reverse=True)  # reverse=True will sort the list in descending.\n",
    "print(LIST)"
   ]
  },
  {
   "attachments": {},
   "cell_type": "markdown",
   "metadata": {},
   "source": [
    "USING INSERT( ) FUNCTION "
   ]
  },
  {
   "cell_type": "code",
   "execution_count": 13,
   "metadata": {},
   "outputs": [
    {
     "data": {
      "text/plain": [
       "[0, 1, 2, 3, 4, 5, 6]"
      ]
     },
     "execution_count": 13,
     "metadata": {},
     "output_type": "execute_result"
    }
   ],
   "source": [
    "#  USING INSERT() IN LIST\n",
    "\n",
    "list=[1,2,3,4,5,6]  \n",
    "list.insert(0,0)  #ndex: the index at which the element has to be inserted.\n",
    "list"
   ]
  },
  {
   "attachments": {},
   "cell_type": "markdown",
   "metadata": {},
   "source": [
    "USING INDEX AND (%d)TO PRINT PATICULAR  VALUES"
   ]
  },
  {
   "cell_type": "code",
   "execution_count": 1,
   "metadata": {},
   "outputs": [
    {
     "name": "stdout",
     "output_type": "stream",
     "text": [
      "total list= [10, 20, 30, 40, 50]\n",
      "first=10 ,last=50\n"
     ]
    }
   ],
   "source": [
    "#  program to print elements by using index and (%d))\n",
    "\n",
    "num=[10,20,30,40,50]\n",
    "print('total list=',num)\n",
    "print('first=%d ,last=%d' % (num[0],num[4]))\n",
    "# print(num[4])"
   ]
  },
  {
   "attachments": {},
   "cell_type": "markdown",
   "metadata": {},
   "source": [
    "LIST PROGRTAM ON COMPREHENSION METHOD"
   ]
  },
  {
   "cell_type": "code",
   "execution_count": 2,
   "metadata": {},
   "outputs": [
    {
     "name": "stdout",
     "output_type": "stream",
     "text": [
      "[0, 2, 4, 6, 8, 10]\n",
      "[[0, 1, 2], [0, 1, 2], [0, 1, 2]]\n"
     ]
    }
   ],
   "source": [
    "#  python list program on Comprehension method\n",
    "\n",
    "list = [i for i in range(11) if i % 2 == 0]# condition to print even numbers\n",
    "print(list)\n",
    "\n",
    "# matrix in comprehension\n",
    "matrix = [[j for j in range(3)] for i in range(3)]\n",
    "   \n",
    "print(matrix)"
   ]
  },
  {
   "cell_type": "code",
   "execution_count": 2,
   "metadata": {},
   "outputs": [
    {
     "name": "stdout",
     "output_type": "stream",
     "text": [
      "Initial List: \n",
      "['G', 'O', 'U', 'R', 'A', 'V', 'S', 'P', 'O', 'P', 'A', 'L', 'E']\n",
      "\n",
      "Elements sliced till 6th element from last: \n",
      "['G', 'O', 'U', 'R', 'A', 'V', 'S']\n",
      "\n",
      "Elements sliced from index -6 to -1\n",
      "['P', 'O', 'P', 'A', 'L']\n",
      "\n",
      "Printing List in reverse: \n",
      "['E', 'L', 'A', 'P', 'O', 'P', 'S', 'V', 'A', 'R', 'U', 'O', 'G']\n"
     ]
    }
   ],
   "source": [
    "# Creating a List\n",
    "List = ['G', 'O', 'U', 'R', 'A', 'V',\n",
    "        'S', 'P', 'O', 'P', 'A', 'L', 'E']\n",
    "print(\"Initial List: \")\n",
    "print(List)\n",
    "  \n",
    "# Print elements from beginning\n",
    "# to a pre-defined point using Slice\n",
    "Sliced_List = List[:-6]\n",
    "print(\"\\nElements sliced till 6th element from last: \")\n",
    "print(Sliced_List)\n",
    "  \n",
    "# Print elements of a range\n",
    "# using negative index List slicing\n",
    "Sliced_List = List[-6:-1]\n",
    "print(\"\\nElements sliced from index -6 to -1\")\n",
    "print(Sliced_List)\n",
    "  \n",
    "# Printing elements in reverse\n",
    "# using Slice operation\n",
    "Sliced_List = List[::-1]\n",
    "print(\"\\nPrinting List in reverse: \")\n",
    "print(Sliced_List)"
   ]
  }
 ],
 "metadata": {
  "kernelspec": {
   "display_name": "GouravENV",
   "language": "python",
   "name": "python3"
  },
  "language_info": {
   "codemirror_mode": {
    "name": "ipython",
    "version": 3
   },
   "file_extension": ".py",
   "mimetype": "text/x-python",
   "name": "python",
   "nbconvert_exporter": "python",
   "pygments_lexer": "ipython3",
   "version": "3.11.2"
  },
  "orig_nbformat": 4
 },
 "nbformat": 4,
 "nbformat_minor": 2
}
