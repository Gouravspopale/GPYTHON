{
 "cells": [
  {
   "attachments": {},
   "cell_type": "markdown",
   "metadata": {},
   "source": [
    "PROGRAM ON LIST WITH ALL BUILT-IN FUNCTION"
   ]
  },
  {
   "cell_type": "code",
   "execution_count": 4,
   "metadata": {},
   "outputs": [
    {
     "name": "stdout",
     "output_type": "stream",
     "text": [
      "100\n"
     ]
    }
   ],
   "source": [
    "# PICKING PATICULAR OBJECT BY USING INDEX (value)\n",
    "\n",
    "list = [10,15,20,[100,200],\"gourav\"]\n",
    "print(list[3] [0])"
   ]
  },
  {
   "cell_type": "code",
   "execution_count": 3,
   "metadata": {},
   "outputs": [
    {
     "name": "stdout",
     "output_type": "stream",
     "text": [
      "['g', 'o', 'u', 'r', 'a', 'v']\n"
     ]
    }
   ],
   "source": [
    "# SPLITING VALUES BY ENTERED OBJECT BY \n",
    "\n",
    "# using. SPACE IN LIST\n",
    "\n",
    "list1 = input(\"Enter the value\")\n",
    "list2 = list1.split()\n",
    "print(list2)\n"
   ]
  },
  {
   "cell_type": "code",
   "execution_count": 6,
   "metadata": {},
   "outputs": [
    {
     "data": {
      "text/plain": [
       "['10', '20', [30, 40, 50, 60]]"
      ]
     },
     "execution_count": 6,
     "metadata": {},
     "output_type": "execute_result"
    }
   ],
   "source": [
    "# USING APPEND IN LIST TO ADD OBJECT\n",
    "\n",
    "list=[]\n",
    "list.append(input(\"Enter the value\"))\n",
    "list.append(input(\"Enter the value\"))\n",
    "list.append([30,40,50,60])\n",
    "list"
   ]
  },
  {
   "cell_type": "code",
   "execution_count": 7,
   "metadata": {},
   "outputs": [
    {
     "name": "stdout",
     "output_type": "stream",
     "text": [
      "2\n"
     ]
    }
   ],
   "source": [
    "# USING COUNT() IN LIST \n",
    "\n",
    "# (Returns the count of how many times object occurs in the list.)\n",
    "\n",
    "list=['a','b','b','c','e','f']\n",
    "print(list.count('b'))\n"
   ]
  },
  {
   "cell_type": "code",
   "execution_count": 8,
   "metadata": {},
   "outputs": [
    {
     "data": {
      "text/plain": [
       "['Hi well come', 'Gourav']"
      ]
     },
     "execution_count": 8,
     "metadata": {},
     "output_type": "execute_result"
    }
   ],
   "source": [
    "# USING EXTEND IN LIST TO (ADD WHOLE LIST) \n",
    "\n",
    "list1=[\"Hi well come\"]\n",
    "list1.extend([\"Gourav\"])\n",
    "list1"
   ]
  },
  {
   "cell_type": "code",
   "execution_count": 9,
   "metadata": {},
   "outputs": [
    {
     "data": {
      "text/plain": [
       "['Good', 'Is', 'Gourav']"
      ]
     },
     "execution_count": 9,
     "metadata": {},
     "output_type": "execute_result"
    }
   ],
   "source": [
    "# USING REVERSE IN LIST\n",
    "# revers the whole list\n",
    "list = [\"Gourav\",\"Is\",\"Good\"]\n",
    "list.reverse()\n",
    "list"
   ]
  },
  {
   "cell_type": "code",
   "execution_count": 10,
   "metadata": {},
   "outputs": [
    {
     "data": {
      "text/plain": [
       "['Gourav', 'popale']"
      ]
     },
     "execution_count": 10,
     "metadata": {},
     "output_type": "execute_result"
    }
   ],
   "source": [
    "# USING REMOVE IN LIST(IT WILL REMOVE ONLY DIRECT OBJECT)\n",
    "\n",
    "list = [\"Gourav\",'s',\"popale\"]\n",
    "list.remove(\"s\")\n",
    "list"
   ]
  },
  {
   "cell_type": "code",
   "execution_count": 11,
   "metadata": {},
   "outputs": [
    {
     "data": {
      "text/plain": [
       "[10, 20, 30, 40, 50]"
      ]
     },
     "execution_count": 11,
     "metadata": {},
     "output_type": "execute_result"
    }
   ],
   "source": [
    "# USING POP() IN LIST WHICH REMOVE\n",
    "# note: BY DEFAULT(-1)(LAST OBJECT)\n",
    "\n",
    "list = [10,20,30,40,50,60]\n",
    "list.pop()\n",
    "list"
   ]
  },
  {
   "cell_type": "code",
   "execution_count": 12,
   "metadata": {},
   "outputs": [
    {
     "name": "stdout",
     "output_type": "stream",
     "text": [
      "[1, 3, 4, 5, 6, 7, 8, 9, 10]\n"
     ]
    }
   ],
   "source": [
    "#  USING SORT() IN LIST\n",
    "LIST=[1,5,3,6,9,4,7,8,10]  # note:\n",
    "LIST.sort()                # sort  will arange in accending order\n",
    "# LIST.sort(reverse=True)  # reverse=True will sort the list in descending.\n",
    "print(LIST)"
   ]
  },
  {
   "cell_type": "code",
   "execution_count": 13,
   "metadata": {},
   "outputs": [
    {
     "data": {
      "text/plain": [
       "[0, 1, 2, 3, 4, 5, 6]"
      ]
     },
     "execution_count": 13,
     "metadata": {},
     "output_type": "execute_result"
    }
   ],
   "source": [
    "#  USING INSERT() IN LIST\n",
    "\n",
    "list=[1,2,3,4,5,6]  \n",
    "list.insert(0,0)  #ndex: the index at which the element has to be inserted.\n",
    "list"
   ]
  },
  {
   "cell_type": "code",
   "execution_count": 37,
   "metadata": {},
   "outputs": [
    {
     "name": "stdout",
     "output_type": "stream",
     "text": [
      "50\n"
     ]
    }
   ],
   "source": [
    "#  program to print elements by using index and (%d))\n",
    "\n",
    "num=[10,20,30,40,50]\n",
    "print('total list=',num)\n",
    "print('first=%d ,last=%d' % (num[0],num[4]))\n",
    "# print(num[4])"
   ]
  },
  {
   "cell_type": "code",
   "execution_count": 2,
   "metadata": {},
   "outputs": [
    {
     "name": "stdout",
     "output_type": "stream",
     "text": [
      "[0, 2, 4, 6, 8, 10]\n",
      "[[0, 1, 2], [0, 1, 2], [0, 1, 2]]\n"
     ]
    }
   ],
   "source": [
    "#  python list program on Comprehension method\n",
    "\n",
    "list = [i for i in range(11) if i % 2 == 0]# condition to print even numbers\n",
    "print(list)\n",
    "\n",
    "# matrix in comprehension\n",
    "matrix = [[j for j in range(3)] for i in range(3)]\n",
    "   \n",
    "print(matrix)"
   ]
  },
  {
   "attachments": {},
   "cell_type": "markdown",
   "metadata": {},
   "source": [
    "PROGRAM ON DICTIONARY"
   ]
  },
  {
   "cell_type": "code",
   "execution_count": null,
   "metadata": {},
   "outputs": [
    {
     "name": "stdout",
     "output_type": "stream",
     "text": [
      "<class 'dict'>\n"
     ]
    }
   ],
   "source": [
    "# <class type>(dictionary)\n",
    "dict={}\n",
    "print(type(dict))"
   ]
  },
  {
   "cell_type": "code",
   "execution_count": null,
   "metadata": {},
   "outputs": [
    {
     "data": {
      "text/plain": [
       "{'name': 'Gourav', 'from': 'hubli'}"
      ]
     },
     "execution_count": 2,
     "metadata": {},
     "output_type": "execute_result"
    }
   ],
   "source": [
    "# simple progam to print dictionary\n",
    "dict = {\"name\":(\"Gourav\"),\"from\":(\"hubli\")}\n",
    "dict"
   ]
  },
  {
   "cell_type": "code",
   "execution_count": null,
   "metadata": {},
   "outputs": [
    {
     "name": "stdout",
     "output_type": "stream",
     "text": [
      "Empty Dictionary: \n",
      "{}\n"
     ]
    }
   ],
   "source": [
    "# Creating an empty Dictionary\n",
    "Dict = {}\n",
    "print(\"Empty Dictionary: \")\n",
    "print(Dict)"
   ]
  },
  {
   "cell_type": "code",
   "execution_count": null,
   "metadata": {},
   "outputs": [
    {
     "name": "stdout",
     "output_type": "stream",
     "text": [
      "{}\n",
      "{1: 'gourav', 2: 'hubli', 3: 'karnataka'}\n",
      "{'a': 'gourav', 'b': 'gourav'}\n"
     ]
    },
    {
     "data": {
      "text/plain": [
       "{1: 'gourav', 2: 'hubli', 3: 'karnataka'}"
      ]
     },
     "execution_count": 12,
     "metadata": {},
     "output_type": "execute_result"
    }
   ],
   "source": [
    "#  using clear() in dictionary to remove all iteams from dictionary\n",
    "dict1={1:'gourav',2:'hubli',3:'karnataka'}\n",
    "dict1.clear()\n",
    "print(dict1)\n",
    "\n",
    "#  using copy() in return a shallow copy of the dictionary\n",
    "dict2={1:'gourav',2:'hubli',3:'karnataka'}\n",
    "dict2.copy()\n",
    "print(dict2)\n",
    "\n",
    "# creat a dictionary from a given sequence\n",
    "seq=('a','b')\n",
    "print(dict.fromkeys(seq,\"gourav\"))\n",
    "\n",
    "#  using get() to return (value) for the given key\n",
    "dict={1:'gourav',2:'hubli',3:'karnataka'}\n",
    "dict1=dict.get(1)\n",
    "dict"
   ]
  },
  {
   "cell_type": "code",
   "execution_count": null,
   "metadata": {},
   "outputs": [
    {
     "name": "stdout",
     "output_type": "stream",
     "text": [
      "dict_keys([1, 2, 3, 4, 5, 6])\n",
      "gourav\n",
      "(6, 'india')\n",
      "{2: 's', 3: 'popale', 4: 'hubli', 5: 'karnataka', 7: 'jai shre ram'}\n",
      "dict_values(['s', 'popale', 'hubli', 'karnataka', 'jai shre ram'])\n"
     ]
    }
   ],
   "source": [
    "d1={1:\"gourav\",2:\"s\",3:\"popale\",4:\"hubli\",5:\"karnataka\",6:\"india\"}\n",
    "d2={7:\"jai shre ram\"}\n",
    "# it will return all the keys present in dictionary\n",
    "print(d1.keys())\n",
    "\n",
    "# return and removes the element by the given key by using pop() method\n",
    "print(d1.pop(1))     # we can also use paticular index to remove\n",
    "print(d1.popitem())  # it remove by default(-1) last pair\n",
    "\n",
    "#  using (update()) to add another dictionary\n",
    "d1.update(d2)\n",
    "print(d1)\n",
    "\n",
    "print(d1.values())  #  only returning values"
   ]
  }
 ],
 "metadata": {
  "kernelspec": {
   "display_name": "GouravENV",
   "language": "python",
   "name": "python3"
  },
  "language_info": {
   "codemirror_mode": {
    "name": "ipython",
    "version": 3
   },
   "file_extension": ".py",
   "mimetype": "text/x-python",
   "name": "python",
   "nbconvert_exporter": "python",
   "pygments_lexer": "ipython3",
   "version": "3.11.2"
  },
  "orig_nbformat": 4
 },
 "nbformat": 4,
 "nbformat_minor": 2
}
