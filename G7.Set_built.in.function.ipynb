{
 "cells": [
  {
   "attachments": {},
   "cell_type": "markdown",
   "metadata": {},
   "source": [
    "PROGRAM ON SET"
   ]
  },
  {
   "cell_type": "code",
   "execution_count": 4,
   "metadata": {},
   "outputs": [
    {
     "name": "stdout",
     "output_type": "stream",
     "text": [
      "{'for', 'geek'}\n",
      "{'e', 'h', 'l', 'o'}\n"
     ]
    }
   ],
   "source": [
    "# A set cannot have duplicate values( it will hold only unique values).\n",
    "set={\"geek\",\"for\",\"geek\"} \n",
    "print(set)\n",
    "set={\"h\",\"e\",\"l\",\"l\",\"o\"}\n",
    "print(set)"
   ]
  },
  {
   "cell_type": "code",
   "execution_count": 5,
   "metadata": {},
   "outputs": [
    {
     "name": "stdout",
     "output_type": "stream",
     "text": [
      "{'traning', 'to', 'center', 'well', 'hi', 'keonics', 'come'}\n"
     ]
    }
   ],
   "source": [
    "#  A set can store hetrogeneous elements(set are unorder in seq.) \n",
    "myset={\"hi\",\"well\",\"come\",\"to\",\"keonics\",\"traning\",\"center\"}\n",
    "print(myset)"
   ]
  },
  {
   "cell_type": "code",
   "execution_count": 6,
   "metadata": {},
   "outputs": [
    {
     "name": "stdout",
     "output_type": "stream",
     "text": [
      "{'popale', 's', 'Gourav'}\n"
     ]
    }
   ],
   "source": [
    "# Adding a string in a set,\n",
    "set ={\"Gourav\",\"popale\"}\n",
    "set.add(\"s\")\n",
    "print(set)"
   ]
  },
  {
   "cell_type": "code",
   "execution_count": 7,
   "metadata": {},
   "outputs": [
    {
     "name": "stdout",
     "output_type": "stream",
     "text": [
      "{'apple', 'google', 'lactose', 'ralph lauren'}\n"
     ]
    }
   ],
   "source": [
    "# using update in set\n",
    "set1={'lactose','ralph lauren'}\n",
    "set2={'apple','google','apple'}\n",
    "\n",
    "set1.update(set2)\n",
    "#  whole set2 will update in set1\n",
    "print(set1)"
   ]
  },
  {
   "cell_type": "code",
   "execution_count": 8,
   "metadata": {},
   "outputs": [
    {
     "name": "stdout",
     "output_type": "stream",
     "text": [
      "{'Gourav', 'popale'}\n"
     ]
    }
   ],
   "source": [
    "# Using Discard in set\n",
    "set1={'Gourav','s','popale'}\n",
    "set1.discard('s')\n",
    "#  and also we can use remove().function\n",
    "print(set1)"
   ]
  },
  {
   "cell_type": "code",
   "execution_count": 1,
   "metadata": {},
   "outputs": [
    {
     "name": "stdout",
     "output_type": "stream",
     "text": [
      "9\n"
     ]
    }
   ],
   "source": [
    "# Find Number of set Elements     \n",
    "set_number={1,2,3,4,5,6,7,8,9,1,2,3}\n",
    "#it will not count repeated value again and again\n",
    "print(len(set_number))"
   ]
  },
  {
   "cell_type": "code",
   "execution_count": 2,
   "metadata": {},
   "outputs": [
    {
     "name": "stdout",
     "output_type": "stream",
     "text": [
      "{2, 5}\n"
     ]
    }
   ],
   "source": [
    "# Using intersection in set  \n",
    "set1={1,2,3,4,5}\n",
    "set2={7,6,2,5,8}\n",
    "print(set1.intersection(set2))\n",
    "# it will just take (common) values"
   ]
  },
  {
   "cell_type": "code",
   "execution_count": 3,
   "metadata": {},
   "outputs": [
    {
     "name": "stdout",
     "output_type": "stream",
     "text": [
      "{1, 3, 4, 6, 7, 8}\n"
     ]
    }
   ],
   "source": [
    "#  Using Symmetric_difference in set  \n",
    "setA={1,2,3,4,5}\n",
    "setB={7,6,2,5,8}\n",
    "print(setA.symmetric_difference(setB))\n",
    "#the common values will not print"
   ]
  },
  {
   "cell_type": "code",
   "execution_count": 4,
   "metadata": {},
   "outputs": [
    {
     "name": "stdout",
     "output_type": "stream",
     "text": [
      "{1, 2, 3, 4, 5, 6}\n"
     ]
    }
   ],
   "source": [
    "# Adding values in set using for loop\n",
    "set1=set()\n",
    "set1.add(6)\n",
    "for i in range(1,6):\n",
    "    set1.add(i)\n",
    "print(set1)"
   ]
  }
 ],
 "metadata": {
  "kernelspec": {
   "display_name": "Python 3",
   "language": "python",
   "name": "python3"
  },
  "language_info": {
   "codemirror_mode": {
    "name": "ipython",
    "version": 3
   },
   "file_extension": ".py",
   "mimetype": "text/x-python",
   "name": "python",
   "nbconvert_exporter": "python",
   "pygments_lexer": "ipython3",
   "version": "3.11.2"
  },
  "orig_nbformat": 4
 },
 "nbformat": 4,
 "nbformat_minor": 2
}
