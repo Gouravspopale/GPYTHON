{
 "cells": [
  {
   "attachments": {},
   "cell_type": "markdown",
   "metadata": {},
   "source": [
    "50 marks test"
   ]
  },
  {
   "cell_type": "code",
   "execution_count": 1,
   "metadata": {},
   "outputs": [
    {
     "name": "stdout",
     "output_type": "stream",
     "text": [
      "entered value is odd\n"
     ]
    }
   ],
   "source": [
    "#  program to print odd and even number\n",
    "n=int(input(\"enter the values\"))\n",
    "if (n%2==0):\n",
    "    print(\"entered value is even\")\n",
    "else:\n",
    "    print(\"entered value is odd\")"
   ]
  },
  {
   "cell_type": "code",
   "execution_count": 16,
   "metadata": {},
   "outputs": [
    {
     "name": "stdout",
     "output_type": "stream",
     "text": [
      "1125.0\n"
     ]
    }
   ],
   "source": [
    "# python program to print simple intrest\n",
    "p=7500\n",
    "t=int(input(\"enter the time period\"))\n",
    "r=int(input(\"enter the rate amount\"))\n",
    "si=(p*t*r/100)\n",
    "print(si)"
   ]
  },
  {
   "cell_type": "code",
   "execution_count": 10,
   "metadata": {},
   "outputs": [
    {
     "name": "stdout",
     "output_type": "stream",
     "text": [
      "c is largest 30\n"
     ]
    }
   ],
   "source": [
    "#  largest of three number\n",
    "a=int(input(\"ENTER THE a VALUE\"))\n",
    "b=int(input('ENTER THE b VALUE'))\n",
    "c=int(input('ENTER THE c VALUE'))\n",
    "  \n",
    "if(a>b & a>c):  # LOGIC TO COMPARE THE VALUES\n",
    "  print(\"a is largest\",a)\n",
    "elif(b>a & b>c):\n",
    "  print(\"b is largest\",b)\n",
    "else:\n",
    "  print(\"c is largest\",c)\n",
    "\n"
   ]
  },
  {
   "cell_type": "code",
   "execution_count": 17,
   "metadata": {},
   "outputs": [
    {
     "data": {
      "text/plain": [
       "[[0, 1, 2, 3], [0, 1, 2, 3], [0, 1, 2, 3], [0, 1, 2, 3]]"
      ]
     },
     "execution_count": 17,
     "metadata": {},
     "output_type": "execute_result"
    }
   ],
   "source": [
    "#  program to print matrix 4*4\n",
    "M2=[[i for i in range(4) ]for j in range(4)]\n",
    "M2"
   ]
  },
  {
   "cell_type": "code",
   "execution_count": 27,
   "metadata": {},
   "outputs": [
    {
     "name": "stdout",
     "output_type": "stream",
     "text": [
      "{1, 2, 3, 4, 33, 8, 9, 11, 44, 22}\n"
     ]
    }
   ],
   "source": [
    "# program to print uniqe values \n",
    "set1= (1,2,3,4,4,8,9)\n",
    "set2 = (1,11,22,33,44,3,4)\n",
    "res = (set(set1+set2))\n",
    "print(res)"
   ]
  }
 ],
 "metadata": {
  "kernelspec": {
   "display_name": "Python 3",
   "language": "python",
   "name": "python3"
  },
  "language_info": {
   "codemirror_mode": {
    "name": "ipython",
    "version": 3
   },
   "file_extension": ".py",
   "mimetype": "text/x-python",
   "name": "python",
   "nbconvert_exporter": "python",
   "pygments_lexer": "ipython3",
   "version": "3.11.2"
  },
  "orig_nbformat": 4
 },
 "nbformat": 4,
 "nbformat_minor": 2
}
