{
 "cells": [
  {
   "attachments": {},
   "cell_type": "markdown",
   "metadata": {},
   "source": [
    "PROGRAM ON DICTIONARY BY USING BUILT IN FUNCTION "
   ]
  },
  {
   "cell_type": "code",
   "execution_count": 1,
   "metadata": {},
   "outputs": [
    {
     "name": "stdout",
     "output_type": "stream",
     "text": [
      "<class 'dict'>\n"
     ]
    }
   ],
   "source": [
    "# <class type>(dictionary)\n",
    "\n",
    "dict={}\n",
    "print(type(dict))"
   ]
  },
  {
   "cell_type": "code",
   "execution_count": 2,
   "metadata": {},
   "outputs": [
    {
     "data": {
      "text/plain": [
       "{}"
      ]
     },
     "execution_count": 2,
     "metadata": {},
     "output_type": "execute_result"
    }
   ],
   "source": [
    "# simple progam to print dictionary\n",
    "\n",
    "ict = {\"name\":(\"Gourav\"),\"from\":(\"hubli\")}\n",
    "dict"
   ]
  },
  {
   "cell_type": "code",
   "execution_count": 3,
   "metadata": {},
   "outputs": [
    {
     "name": "stdout",
     "output_type": "stream",
     "text": [
      "Empty Dictionary: \n",
      "{}\n"
     ]
    }
   ],
   "source": [
    "# Creating an empty Dictionary\n",
    "\n",
    "Dict = {}\n",
    "print(\"Empty Dictionary: \")\n",
    "print(Dict)"
   ]
  },
  {
   "cell_type": "code",
   "execution_count": 4,
   "metadata": {},
   "outputs": [
    {
     "name": "stdout",
     "output_type": "stream",
     "text": [
      "{}\n",
      "{1: 'gourav', 2: 'hubli', 3: 'karnataka', 4: 'india'}\n",
      "{'a': 'gourav', 'b': 'gourav'}\n"
     ]
    },
    {
     "data": {
      "text/plain": [
       "{1: 'gourav', 2: 'hubli', 3: 'karnataka'}"
      ]
     },
     "execution_count": 4,
     "metadata": {},
     "output_type": "execute_result"
    }
   ],
   "source": [
    "#  using clear() in dictionary to remove all iteams from dictionary\n",
    "\n",
    "dict1={1:'gourav',2:'hubli',3:'karnataka',4:'india'}\n",
    "dict1.clear()\n",
    "print(dict1)\n",
    "\n",
    "#  using copy() in return a shallow copy of the dictionary\n",
    "\n",
    "dict2={1:'gourav',2:'hubli',3:'karnataka',4:'india'}\n",
    "dict2.copy()\n",
    "print(dict2)\n",
    "\n",
    "# creat a dictionary from a given (sequence)\n",
    "\n",
    "seq=('a','b')\n",
    "print(dict.fromkeys(seq,\"gourav\"))\n",
    "\n",
    "#  using get() to return (value) for the given key\n",
    "\n",
    "dict={1:'gourav',2:'hubli',3:'karnataka'}\n",
    "dict1=dict.get(1)\n",
    "dict"
   ]
  },
  {
   "cell_type": "code",
   "execution_count": 1,
   "metadata": {},
   "outputs": [
    {
     "data": {
      "text/plain": [
       "{'Name': 'Gourav', 'age': 19, 'city': 'Hubli'}"
      ]
     },
     "execution_count": 1,
     "metadata": {},
     "output_type": "execute_result"
    }
   ],
   "source": [
    "# Using update() method\n",
    "\n",
    "D1={\"Name\":\"Gourav\",\"age\":18,\"city\":\"Hubli\",}\n",
    "\n",
    "D1.update({\"age\":19})\n",
    "\n",
    "D1"
   ]
  },
  {
   "cell_type": "code",
   "execution_count": 1,
   "metadata": {},
   "outputs": [
    {
     "name": "stdout",
     "output_type": "stream",
     "text": [
      "Indian\n",
      "{'Name': 'Gourav', 'age': 18, 'country': 'Indian'}\n"
     ]
    }
   ],
   "source": [
    "# using Setdefault method\n",
    "\n",
    "D2={\"Name\":\"Gourav\",\"age\":18}\n",
    "\n",
    "country=D2.setdefault(\"country\",\"Indian\")\n",
    "\n",
    "print(country)\n",
    "print(D2)"
   ]
  }
 ],
 "metadata": {
  "kernelspec": {
   "display_name": "Python 3",
   "language": "python",
   "name": "python3"
  },
  "language_info": {
   "codemirror_mode": {
    "name": "ipython",
    "version": 3
   },
   "file_extension": ".py",
   "mimetype": "text/x-python",
   "name": "python",
   "nbconvert_exporter": "python",
   "pygments_lexer": "ipython3",
   "version": "3.11.2"
  },
  "orig_nbformat": 4
 },
 "nbformat": 4,
 "nbformat_minor": 2
}
