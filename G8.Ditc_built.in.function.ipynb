{
 "cells": [
  {
   "attachments": {},
   "cell_type": "markdown",
   "metadata": {},
   "source": [
    "PROGRAM ON DICTIONARY BY USING BUILT IN FUNCTION "
   ]
  },
  {
   "cell_type": "code",
   "execution_count": 1,
   "metadata": {},
   "outputs": [
    {
     "name": "stdout",
     "output_type": "stream",
     "text": [
      "<class 'dict'>\n"
     ]
    }
   ],
   "source": [
    "# <class type>(dictionary)\n",
    "dict={}\n",
    "print(type(dict))"
   ]
  },
  {
   "cell_type": "code",
   "execution_count": 2,
   "metadata": {},
   "outputs": [
    {
     "data": {
      "text/plain": [
       "{'name': 'Gourav', 'from': 'hubli'}"
      ]
     },
     "execution_count": 2,
     "metadata": {},
     "output_type": "execute_result"
    }
   ],
   "source": [
    "# simple progam to print dictionary\n",
    "dict = {\"name\":(\"Gourav\"),\"from\":(\"hubli\")}\n",
    "dict"
   ]
  },
  {
   "cell_type": "code",
   "execution_count": 3,
   "metadata": {},
   "outputs": [
    {
     "name": "stdout",
     "output_type": "stream",
     "text": [
      "Empty Dictionary: \n",
      "{}\n"
     ]
    }
   ],
   "source": [
    "# Creating an empty Dictionary\n",
    "Dict = {}\n",
    "print(\"Empty Dictionary: \")\n",
    "print(Dict)"
   ]
  },
  {
   "cell_type": "code",
   "execution_count": 3,
   "metadata": {},
   "outputs": [
    {
     "name": "stdout",
     "output_type": "stream",
     "text": [
      "{}\n",
      "{1: 'gourav', 2: 'hubli', 3: 'karnataka', 4: 'india'}\n",
      "{'a': 'gourav', 'b': 'gourav'}\n"
     ]
    },
    {
     "data": {
      "text/plain": [
       "{1: 'gourav', 2: 'hubli', 3: 'karnataka'}"
      ]
     },
     "execution_count": 3,
     "metadata": {},
     "output_type": "execute_result"
    }
   ],
   "source": [
    "#  using clear() in dictionary to remove all iteams from dictionary\n",
    "dict1={1:'gourav',2:'hubli',3:'karnataka',4:'india'}\n",
    "dict1.clear()\n",
    "print(dict1)\n",
    "\n",
    "#  using copy() in return a shallow copy of the dictionary\n",
    "dict2={1:'gourav',2:'hubli',3:'karnataka',4:'india'}\n",
    "dict2.copy()\n",
    "print(dict2)\n",
    "\n",
    "# creat a dictionary from a given sequence\n",
    "seq=('a','b')\n",
    "print(dict.fromkeys(seq,\"gourav\"))\n",
    "\n",
    "#  using get() to return (value) for the given key\n",
    "dict={1:'gourav',2:'hubli',3:'karnataka'}\n",
    "dict1=dict.get(1)\n",
    "dict"
   ]
  }
 ],
 "metadata": {
  "kernelspec": {
   "display_name": "Python 3",
   "language": "python",
   "name": "python3"
  },
  "language_info": {
   "codemirror_mode": {
    "name": "ipython",
    "version": 3
   },
   "file_extension": ".py",
   "mimetype": "text/x-python",
   "name": "python",
   "nbconvert_exporter": "python",
   "pygments_lexer": "ipython3",
   "version": "3.11.2"
  },
  "orig_nbformat": 4
 },
 "nbformat": 4,
 "nbformat_minor": 2
}
