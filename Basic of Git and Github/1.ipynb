{
 "cells": [
  {
   "cell_type": "markdown",
   "metadata": {},
   "source": [
    "# Git  and  Github"
   ]
  },
  {
   "cell_type": "markdown",
   "metadata": {},
   "source": [
    "GIT"
   ]
  },
  {
   "cell_type": "markdown",
   "metadata": {},
   "source": [
    "git is software\n",
    "\n",
    "git is version control system to mange source codde history\n",
    "\n",
    "git is mantained by linux \n",
    "\n",
    "git is installed by locally on the system\n",
    "\n",
    "git has no user management feature\n",
    "\n",
    "git is open-source licensed\n",
    "\n",
    "git has minimal external tool configration"
   ]
  },
  {
   "cell_type": "markdown",
   "metadata": {},
   "source": [
    "GITHUB"
   ]
  },
  {
   "cell_type": "markdown",
   "metadata": {},
   "source": [
    "github is a service\n",
    "\n",
    "github is a hosting for git repositories\n",
    "\n",
    "github is mantained by microsoft\n",
    "\n",
    "github is hosted on web\n",
    "\n",
    "github has a built-in user management feature\n",
    "\n",
    "github includes a free tier and pay-for-user tier\n",
    "\n",
    "github has an active marketplace for tool integration"
   ]
  },
  {
   "cell_type": "markdown",
   "metadata": {},
   "source": [
    "# click on link to get Git commands Cheatsheet"
   ]
  },
  {
   "cell_type": "markdown",
   "metadata": {},
   "source": [
    "https://www.freecodecamp.org/news/git-cheat-sheet"
   ]
  },
  {
   "cell_type": "markdown",
   "metadata": {},
   "source": [
    "![Alt text](image.png)"
   ]
  }
 ],
 "metadata": {
  "language_info": {
   "name": "python"
  },
  "orig_nbformat": 4
 },
 "nbformat": 4,
 "nbformat_minor": 2
}
