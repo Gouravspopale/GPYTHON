{
 "cells": [
  {
   "cell_type": "code",
   "execution_count": 47,
   "metadata": {},
   "outputs": [
    {
     "name": "stdout",
     "output_type": "stream",
     "text": [
      "45\n",
      "Entered value is odd\n"
     ]
    }
   ],
   "source": [
    "#FINDING SUM OF TWO NUMBER AND IDENTYFING WETHER IT IS EVEN OR ODD BY USING THERR FUNCTION..\n",
    "def readdata():\n",
    "    a = int(input(\"Enter the data\"))\n",
    "    b = int(input(\"Enter the data\"))\n",
    "    addition(a,b)\n",
    "\n",
    "def addition(a,b):\n",
    "    sum = a+b\n",
    "    print(sum)\n",
    "    oddeven(sum)\n",
    "    \n",
    "\n",
    "def oddeven(sum):\n",
    "    if(sum % 2 == 0):\n",
    "        print(\"Entered value is even\")\n",
    "    else:\n",
    "        print(\"Entered value is odd\")\n",
    "\n",
    "readdata()"
   ]
  },
  {
   "attachments": {},
   "cell_type": "markdown",
   "metadata": {},
   "source": [
    "Assingment"
   ]
  },
  {
   "cell_type": "code",
   "execution_count": 59,
   "metadata": {},
   "outputs": [
    {
     "name": "stdout",
     "output_type": "stream",
     "text": [
      "AGE3 is eldest\n"
     ]
    }
   ],
   "source": [
    "#  WRITE A PROGRAM TO FIND THE ELDEST AMOUNG THREE PERSON AGE RECEVIED FROM THE USER\n",
    "AGE1=int(input(\"Enter the age1\" ))\n",
    "AGE2=int(input(\"Enter the age1\" ))\n",
    "AGE3=int(input(\"Enter the age1\" ))\n",
    "if  AGE1>AGE2 and AGE1>AGE3:\n",
    "     print(\"AGE1 is eldest\")\n",
    "elif AGE2>AGE1 and AGE2>AGE3:\n",
    "    print(\"AGE2 is eldest\")\n",
    "else:\n",
    "    print(\"AGE3 is eldest\")\n"
   ]
  },
  {
   "cell_type": "code",
   "execution_count": 3,
   "metadata": {},
   "outputs": [
    {
     "name": "stdout",
     "output_type": "stream",
     "text": [
      "ENTER THE VALUE IS POSITIVE 20\n"
     ]
    }
   ],
   "source": [
    "2# WRITE A PROGRAM TO PRINT CHECK THE NUMBER RECORDED FROM USER IS POSITIVE OR NEGATIVE\n",
    "\n",
    "num=int(input(\"ENTER THE VALUE\"))\n",
    "if (num>0):\n",
    "    print(\"ENTER THE VALUE IS POSITIVE\",num)\n",
    "else:\n",
    "    print(\"ENTER THE VALUE IS NEGATIVE\",num)"
   ]
  },
  {
   "cell_type": "code",
   "execution_count": 19,
   "metadata": {},
   "outputs": [
    {
     "name": "stdout",
     "output_type": "stream",
     "text": [
      " ADDITION OF NUMBER IS 6\n",
      " SUBTACTION OF NUMBER IS -2\n",
      " MULTIPLICATION OF NUMBER IS 8\n",
      " DIVISION OF NUMBER IS 0.5\n",
      " MOUDUL OF NUMBER IS 2\n",
      "SQUAREROOT OF NUMBER 16\n",
      "FLOOR DIVISION OF NUMBER 0\n",
      "CAP OF NUMBER 6\n"
     ]
    }
   ],
   "source": [
    "4#  WRITE A PROGRAM TO ACCEPT TWO NUMBERS AND MATHEMATICAL OPREATORS AND PERFORM OPERATIONS ACORDINGLY\n",
    "A=int(input(\"ENTER THE VALUE  A \"))\n",
    "B=int(input(\"ENTER THE VALUE  B \"))\n",
    "print(\" ADDITION OF NUMBER IS\" ,A+B)\n",
    "print(\" SUBTACTION OF NUMBER IS\" ,A-B)\n",
    "print(\" MULTIPLICATION OF NUMBER IS\" ,A*B)\n",
    "print(\" DIVISION OF NUMBER IS\" ,A/B)\n",
    "print(\" MOUDUL OF NUMBER IS\" ,A%B)\n",
    "print(\"SQUAREROOT OF NUMBER\" ,A**B)\n",
    "print(\"FLOOR DIVISION OF NUMBER\",A//B)\n",
    "print(\"CAP OF NUMBER\",A^B)\n"
   ]
  },
  {
   "cell_type": "code",
   "execution_count": 4,
   "metadata": {},
   "outputs": [
    {
     "name": "stdout",
     "output_type": "stream",
     "text": [
      "100\n",
      "SCORED MARKS 60\n",
      "PASS\n"
     ]
    }
   ],
   "source": [
    "#  WRITE A PROGRAM IF YOU HAVE WRITTEN AN EXAM FOR A TOTAL SCORE OF 100 AND IF YOU SCORE IS ABOVE OR EQUAL TO 60 THEN YOU WILL BE CONSIDERED AS PASSS IN EXAM\n",
    "T=int(input(\"Enter the total score\"))\n",
    "print(T)\n",
    "result=int(input(\"ENTER THE RESULT\"))\n",
    "print(\"SCORED MARKS IS\",result)\n",
    "if(result<=59):\n",
    "    print(\"FAIL\")\n",
    "else:\n",
    "    print(\"PASS\")\n"
   ]
  }
 ],
 "metadata": {
  "kernelspec": {
   "display_name": "Python 3",
   "language": "python",
   "name": "python3"
  },
  "language_info": {
   "codemirror_mode": {
    "name": "ipython",
    "version": 3
   },
   "file_extension": ".py",
   "mimetype": "text/x-python",
   "name": "python",
   "nbconvert_exporter": "python",
   "pygments_lexer": "ipython3",
   "version": "3.9.13"
  },
  "orig_nbformat": 4
 },
 "nbformat": 4,
 "nbformat_minor": 2
}
