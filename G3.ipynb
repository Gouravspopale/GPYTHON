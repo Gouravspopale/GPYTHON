{
 "cells": [
  {
   "cell_type": "code",
   "execution_count": 16,
   "metadata": {},
   "outputs": [
    {
     "name": "stdout",
     "output_type": "stream",
     "text": [
      "('after joining of', 10, ' is even=', True)\n"
     ]
    }
   ],
   "source": [
    "def main():\n",
    "    a = 10\n",
    "    \n",
    "    result= concat_funtion(a)\n",
    "    my_string = \"after joining of\" , a , \" is even\"  \"=\", result\n",
    "    display_result(my_string)\n",
    "\n",
    "\n",
    "def concat_funtion(x):\n",
    "    result = x%2==0\n",
    "    return result\n",
    "\n",
    "def display_result(my_string):\n",
    "    print(my_string)\n",
    "\n",
    "main()\n",
    "        "
   ]
  }
 ],
 "metadata": {
  "kernelspec": {
   "display_name": "Python 3",
   "language": "python",
   "name": "python3"
  },
  "language_info": {
   "codemirror_mode": {
    "name": "ipython",
    "version": 3
   },
   "file_extension": ".py",
   "mimetype": "text/x-python",
   "name": "python",
   "nbconvert_exporter": "python",
   "pygments_lexer": "ipython3",
   "version": "3.9.13"
  },
  "orig_nbformat": 4
 },
 "nbformat": 4,
 "nbformat_minor": 2
}
