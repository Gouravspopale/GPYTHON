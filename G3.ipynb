{
 "cells": [
  {
   "cell_type": "code",
   "execution_count": 23,
   "metadata": {},
   "outputs": [
    {
     "name": "stdout",
     "output_type": "stream",
     "text": [
      "('the entered value', 10, 'and', 5, '=', 15)\n"
     ]
    }
   ],
   "source": [
    "def main():\n",
    "    a = 10\n",
    "    b = 5\n",
    "    result= concat_funtion(a,b)\n",
    "    my_string = \"the entered value\" , a , \"and\" , b ,  \"=\", result\n",
    "    display_result(my_string)\n",
    "\n",
    "\n",
    "def concat_funtion(x,y):\n",
    "    result = x + y\n",
    "    return result\n",
    "\n",
    "def display_result(my_string):\n",
    "    print(my_string)\n",
    "\n",
    "main()\n",
    "        "
   ]
  }
 ],
 "metadata": {
  "kernelspec": {
   "display_name": "Python 3",
   "language": "python",
   "name": "python3"
  },
  "language_info": {
   "codemirror_mode": {
    "name": "ipython",
    "version": 3
   },
   "file_extension": ".py",
   "mimetype": "text/x-python",
   "name": "python",
   "nbconvert_exporter": "python",
   "pygments_lexer": "ipython3",
   "version": "3.9.13"
  },
  "orig_nbformat": 4
 },
 "nbformat": 4,
 "nbformat_minor": 2
}
