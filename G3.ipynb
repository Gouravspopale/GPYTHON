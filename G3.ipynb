{
 "cells": [
  {
   "attachments": {},
   "cell_type": "markdown",
   "metadata": {},
   "source": [
    "FINDING SUM OF TWO NUMBER AND IDENTYFING WETHER IT IS EVEN OR ODD BY USING THERR FUNCTION.."
   ]
  },
  {
   "cell_type": "code",
   "execution_count": 20,
   "metadata": {},
   "outputs": [
    {
     "name": "stdout",
     "output_type": "stream",
     "text": [
      "6\n",
      "Entered value is even\n"
     ]
    }
   ],
   "source": [
    "#FINDING SUM OF TWO NUMBER AND IDENTYFING WETHER IT IS EVEN OR ODD BY USING THERR FUNCTION..\n",
    "\n",
    "def readdata():\n",
    "    a = int(input(\"Enter the data\"))\n",
    "    b = int(input(\"Enter the data\"))\n",
    "    addition(a,b)\n",
    "\n",
    "def addition(a,b):\n",
    "    sum = a+b\n",
    "    print(sum)\n",
    "    oddeven(sum)\n",
    "    \n",
    "\n",
    "def oddeven(sum):\n",
    "    if(sum % 2 == 0):\n",
    "        print(\"Entered value is even\")\n",
    "    else:\n",
    "        print(\"Entered value is odd\")\n",
    "\n",
    "readdata()"
   ]
  },
  {
   "attachments": {},
   "cell_type": "markdown",
   "metadata": {},
   "source": [
    "PROGRAM TO FIND EVEN AND ODD BU USING FUNCTION"
   ]
  },
  {
   "cell_type": "code",
   "execution_count": 19,
   "metadata": {},
   "outputs": [
    {
     "name": "stdout",
     "output_type": "stream",
     "text": [
      "Even\n"
     ]
    }
   ],
   "source": [
    "#  PROGRM TO FIND EVEN AND ODD BU USING FUNCTION\n",
    "\n",
    "x=int(input(\"enter the value\"))\n",
    "def evod(x):\n",
    "    if x%2==0:\n",
    "     print(\"Even\")\n",
    "    else:\n",
    "       print(\"Odd\")\n",
    "evod(x)"
   ]
  },
  {
   "attachments": {},
   "cell_type": "markdown",
   "metadata": {},
   "source": [
    "PROGRAM TO FIND POSITIVE AND NEGATIVE NUMBER BY USING FUNCTION"
   ]
  },
  {
   "cell_type": "code",
   "execution_count": 21,
   "metadata": {},
   "outputs": [
    {
     "name": "stdout",
     "output_type": "stream",
     "text": [
      "6  IS POSITIVE\n"
     ]
    }
   ],
   "source": [
    "#  PROGRAM TO FIND POSITIVE AND NEGATIVE NUMBER BY USING FUNCTION\n",
    "\n",
    "x=int(input(\"enter the value\"))\n",
    "def posneg(x):\n",
    "    if(x>0):\n",
    "        print(x,\" IS POSITIVE\",)\n",
    "    else:\n",
    "        print(x,\" IS NEGATIVE\")\n",
    "posneg(x)        "
   ]
  },
  {
   "attachments": {},
   "cell_type": "markdown",
   "metadata": {},
   "source": [
    " PROGRAM TO FIND SIMPLE INTREST BY USING BY FUNCTION"
   ]
  },
  {
   "cell_type": "code",
   "execution_count": 2,
   "metadata": {},
   "outputs": [
    {
     "name": "stdout",
     "output_type": "stream",
     "text": [
      "1000.0\n"
     ]
    }
   ],
   "source": [
    "# PROGRAM TO FIND SIMPLE INTREST BY USING BY FUNCTION\n",
    "p=int(input('ENTER THE PRINCIPLE AMOUNT'))\n",
    "t=int(input('ENTER THE TIME'))\n",
    "r=int(input('ENTER THE RATE'))\n",
    "\n",
    "\n",
    "def simp(p,t,r):\n",
    "    result=p*(t*r)/100\n",
    "    return result\n",
    "\n",
    "ans=simp(p,t,r)\n",
    "print(ans)"
   ]
  },
  {
   "attachments": {},
   "cell_type": "markdown",
   "metadata": {},
   "source": [
    "PROGRAM TO PRINT COMPOUND INTERST BY USING FUNCTION"
   ]
  },
  {
   "cell_type": "code",
   "execution_count": 4,
   "metadata": {},
   "outputs": [
    {
     "name": "stdout",
     "output_type": "stream",
     "text": [
      "61200.0\n"
     ]
    }
   ],
   "source": [
    "#  PROGRAM TO PRINT COMPOUND INTERST BY USING FUNCTION\n",
    "p=int(input('ENTER THE PRINCIPLE AMOUNT'))\n",
    "t=int(input('ENTER THE TIME'))\n",
    "r=int(input('ENTER THE RATE'))\n",
    "\n",
    "\n",
    "def compint(p,t,r):\n",
    "    result=p*(1+(r/100))*t\n",
    "    return result\n",
    "\n",
    "ans=compint(p,t,r)\n",
    "print(ans)"
   ]
  },
  {
   "attachments": {},
   "cell_type": "markdown",
   "metadata": {},
   "source": [
    "PROGRAN TO FIND AREA OF TRIANGLE BY USING FUNCTION"
   ]
  },
  {
   "cell_type": "code",
   "execution_count": 22,
   "metadata": {},
   "outputs": [
    {
     "name": "stdout",
     "output_type": "stream",
     "text": [
      "3.0\n"
     ]
    }
   ],
   "source": [
    "#  PROGRAN TO FIND AREA OF TRIANGLE BY USING FUNCTION\n",
    "\n",
    "B=float(input(\"enter the base value\"))\n",
    "H=float(input(\"enter the base value\"))\n",
    "\n",
    "\n",
    "def Areatri(B,H):\n",
    "    tri1=1/2*B*H\n",
    "    return tri1\n",
    "\n",
    "ans=Areatri(B,H)\n",
    "print(ans)"
   ]
  },
  {
   "attachments": {},
   "cell_type": "markdown",
   "metadata": {},
   "source": [
    "Assingment"
   ]
  },
  {
   "cell_type": "code",
   "execution_count": 59,
   "metadata": {},
   "outputs": [
    {
     "name": "stdout",
     "output_type": "stream",
     "text": [
      "AGE3 is eldest\n"
     ]
    }
   ],
   "source": [
    "#  WRITE A PROGRAM TO FIND THE ELDEST AMOUNG THREE PERSON AGE RECEVIED FROM THE USER\n",
    "AGE1=int(input(\"Enter the age1\" ))\n",
    "AGE2=int(input(\"Enter the age1\" ))\n",
    "AGE3=int(input(\"Enter the age1\" ))\n",
    "if  AGE1>AGE2 and AGE1>AGE3:\n",
    "     print(\"AGE1 is eldest\")\n",
    "elif AGE2>AGE1 and AGE2>AGE3:\n",
    "    print(\"AGE2 is eldest\")\n",
    "else:\n",
    "    print(\"AGE3 is eldest\")\n"
   ]
  },
  {
   "cell_type": "code",
   "execution_count": 3,
   "metadata": {},
   "outputs": [
    {
     "name": "stdout",
     "output_type": "stream",
     "text": [
      "ENTER THE VALUE IS POSITIVE 20\n"
     ]
    }
   ],
   "source": [
    "2# WRITE A PROGRAM TO PRINT CHECK THE NUMBER RECORDED FROM USER IS POSITIVE OR NEGATIVE\n",
    "\n",
    "num=int(input(\"ENTER THE VALUE\"))\n",
    "if (num>0):\n",
    "    print(\"ENTER THE VALUE IS POSITIVE\",num)\n",
    "else:\n",
    "    print(\"ENTER THE VALUE IS NEGATIVE\",num)"
   ]
  },
  {
   "cell_type": "code",
   "execution_count": 19,
   "metadata": {},
   "outputs": [
    {
     "name": "stdout",
     "output_type": "stream",
     "text": [
      " ADDITION OF NUMBER IS 6\n",
      " SUBTACTION OF NUMBER IS -2\n",
      " MULTIPLICATION OF NUMBER IS 8\n",
      " DIVISION OF NUMBER IS 0.5\n",
      " MOUDUL OF NUMBER IS 2\n",
      "SQUAREROOT OF NUMBER 16\n",
      "FLOOR DIVISION OF NUMBER 0\n",
      "CAP OF NUMBER 6\n"
     ]
    }
   ],
   "source": [
    "4#  WRITE A PROGRAM TO ACCEPT TWO NUMBERS AND MATHEMATICAL OPREATORS AND PERFORM OPERATIONS ACORDINGLY\n",
    "A=int(input(\"ENTER THE VALUE  A \"))\n",
    "B=int(input(\"ENTER THE VALUE  B \"))\n",
    "print(\" ADDITION OF NUMBER IS\" ,A+B)\n",
    "print(\" SUBTACTION OF NUMBER IS\" ,A-B)\n",
    "print(\" MULTIPLICATION OF NUMBER IS\" ,A*B)\n",
    "print(\" DIVISION OF NUMBER IS\" ,A/B)\n",
    "print(\" MOUDUL OF NUMBER IS\" ,A%B)\n",
    "print(\" SQUARE OF NUMBER\" ,A**B)\n",
    "print(\" FLOOR DIVISION OF NUMBER\",A//B)\n",
    "print(\" CAP OF NUMBER\",A^B)\n"
   ]
  },
  {
   "cell_type": "code",
   "execution_count": 5,
   "metadata": {},
   "outputs": [
    {
     "name": "stdout",
     "output_type": "stream",
     "text": [
      "100\n",
      "SCORED MARKS IS 60\n",
      "PASS\n"
     ]
    }
   ],
   "source": [
    "#  WRITE A PROGRAM IF YOU HAVE WRITTEN AN EXAM FOR A TOTAL SCORE OF 100 AND IF YOU SCORE IS ABOVE OR EQUAL TO 60 THEN YOU WILL BE CONSIDERED AS PASSS IN EXAM\n",
    "T=int(input(\"Enter the total score\"))\n",
    "print(T)\n",
    "result=int(input(\"ENTER THE RESULT\"))\n",
    "print(\"SCORED MARKS IS\",result)\n",
    "if(result<=59):\n",
    "    print(\"FAIL\")\n",
    "else:\n",
    "    print(\"PASS\")\n"
   ]
  },
  {
   "cell_type": "code",
   "execution_count": 14,
   "metadata": {},
   "outputs": [
    {
     "name": "stdout",
     "output_type": "stream",
     "text": [
      "[('gourav', 1), ('shanker', 2), ('samarth', 3), ('raju', 4)]\n"
     ]
    }
   ],
   "source": [
    "# ZIP METHOD\n",
    "name  = ('gourav','shanker','samarth','raju')\n",
    "roll_no = (1,2,3,4)\n",
    "added = zip(name,roll_no)\n",
    " \n",
    "print(list(added))\n"
   ]
  }
 ],
 "metadata": {
  "kernelspec": {
   "display_name": "Python 3",
   "language": "python",
   "name": "python3"
  },
  "language_info": {
   "codemirror_mode": {
    "name": "ipython",
    "version": 3
   },
   "file_extension": ".py",
   "mimetype": "text/x-python",
   "name": "python",
   "nbconvert_exporter": "python",
   "pygments_lexer": "ipython3",
   "version": "3.9.13"
  },
  "orig_nbformat": 4
 },
 "nbformat": 4,
 "nbformat_minor": 2
}
