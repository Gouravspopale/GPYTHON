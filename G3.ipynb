{
 "cells": [
  {
   "attachments": {},
   "cell_type": "markdown",
   "metadata": {},
   "source": [
    "FINDING SUM OF TWO NUMBER AND IDENTYFING WETHER IT IS EVEN OR ODD BY USING THERR FUNCTION.."
   ]
  },
  {
   "cell_type": "code",
   "execution_count": 1,
   "metadata": {},
   "outputs": [
    {
     "name": "stdout",
     "output_type": "stream",
     "text": [
      "10\n",
      "Entered value is even\n"
     ]
    }
   ],
   "source": [
    "#FINDING SUM OF TWO NUMBER AND IDENTYFING WETHER IT IS EVEN OR ODD BY USING THERR FUNCTION..\n",
    "\n",
    "def readdata():\n",
    "    a = int(input(\"Enter the data\"))\n",
    "    b = int(input(\"Enter the data\"))\n",
    "    addition(a,b)\n",
    "\n",
    "def addition(a,b):\n",
    "    sum = a+b\n",
    "    print(sum)\n",
    "    oddeven(sum)\n",
    "    \n",
    "\n",
    "def oddeven(sum):\n",
    "    if(sum % 2 == 0):\n",
    "        print(\"Entered value is even\")\n",
    "    else:\n",
    "        print(\"Entered value is odd\")\n",
    "\n",
    "readdata()"
   ]
  },
  {
   "attachments": {},
   "cell_type": "markdown",
   "metadata": {},
   "source": [
    "PYTHON PROGRAM TO FIND SQUAREROOT OF NUMBERS"
   ]
  },
  {
   "cell_type": "code",
   "execution_count": 31,
   "metadata": {},
   "outputs": [
    {
     "name": "stdout",
     "output_type": "stream",
     "text": [
      "2.23606797749979\n",
      "2.23606797749979\n"
     ]
    }
   ],
   "source": [
    "#  PROGRAM TO FIND SQUAREROOT OF NUMBER\n",
    "import math\n",
    "x=int(input(\"ENTER THE NUMBER\"))\n",
    "def squareroot(x):\n",
    "    result=math.sqrt(x)\n",
    "    return result\n",
    "\n",
    "ans = squareroot(x)\n",
    "print(ans)\n",
    "\n",
    "\n",
    "# simple method to find squareroot of single number\n",
    "import math\n",
    "print(math.sqrt(5))"
   ]
  },
  {
   "attachments": {},
   "cell_type": "markdown",
   "metadata": {},
   "source": [
    " PYTHON PROGRAN TO FIND AREA OF TRIANGLE BY USING FUNCTION"
   ]
  },
  {
   "cell_type": "code",
   "execution_count": null,
   "metadata": {},
   "outputs": [],
   "source": [
    "#  PROGRAN TO FIND AREA OF TRIANGLE BY USING FUNCTION\n",
    "#  FORMULA OF AREA OF TRIANGLE =(HALF*BASE*HIGHT)\n",
    "\n",
    "B=float(input(\"enter the base value\"))\n",
    "H=float(input(\"enter the hight value\"))\n",
    "\n",
    "\n",
    "def Areatri(B,H):\n",
    "    tri1=1/2*B*H\n",
    "    return tri1\n",
    "\n",
    "ans=Areatri(B,H)\n",
    "print(ans)"
   ]
  },
  {
   "attachments": {},
   "cell_type": "markdown",
   "metadata": {},
   "source": [
    " PYTHON PROGRAM TO FIND SIMPLE INTREST BY USING BY FUNCTION"
   ]
  },
  {
   "cell_type": "code",
   "execution_count": 6,
   "metadata": {},
   "outputs": [
    {
     "name": "stdout",
     "output_type": "stream",
     "text": [
      "4000.0\n"
     ]
    }
   ],
   "source": [
    "# PROGRAM TO FIND SIMPLE INTREST BY USING BY FUNCTION\n",
    "#  FORMULA OF SIMPLE INTREST=PRINCIPLE AMOUNT*(TIME*RATE OF INTREST)/100 \n",
    "\n",
    "p=int(input('ENTER THE PRINCIPLE AMOUNT'))\n",
    "t=int(input('ENTER THE TIME'))\n",
    "r=int(input('ENTER THE RATE OF AMOUNT'))\n",
    "\n",
    "\n",
    "def simp(p,t,r):\n",
    "    result=p*(t*r)/100 #FORMULA\n",
    "    return result\n",
    "\n",
    "ans=simp(p,t,r)\n",
    "print(ans)"
   ]
  },
  {
   "attachments": {},
   "cell_type": "markdown",
   "metadata": {},
   "source": [
    " PYTHON PROGRAM TO PRINT COMPOUND INTREST BY USING FUNCTION"
   ]
  },
  {
   "cell_type": "code",
   "execution_count": null,
   "metadata": {},
   "outputs": [],
   "source": [
    "#  PROGRAM TO PRINT COMPOUND INTREST BY USING FUNCTION\n",
    "#  FORMULA OF COMPOUND INTREST = PRINCIPLE AMOUNT(1+(RATE OF AMOUNT/100))**TIME\n",
    "\n",
    "p=int(input('ENTER THE PRINCIPLE AMOUNT'))\n",
    "t=int(input('ENTER THE TIME'))\n",
    "r=int(input('ENTER THE RATE OF AMOUNT'))\n",
    "\n",
    "   \n",
    "def compint(p,t,r):\n",
    "    a=p*(1+(r/100))**t #FORMULA\n",
    "    ci=a-p\n",
    "    return ci\n",
    "\n",
    "ans=compint(p,t,r)\n",
    "print(ans)"
   ]
  },
  {
   "attachments": {},
   "cell_type": "markdown",
   "metadata": {},
   "source": [
    " PYTHON PROGRAM TO FIND AREA OF CIRCLE"
   ]
  },
  {
   "cell_type": "code",
   "execution_count": null,
   "metadata": {},
   "outputs": [],
   "source": [
    "# PROGRAM TO FIND AREA OF CIRCLE # FORMULA=PI=3.14*R*R\n",
    "\n",
    "r=int(input('ENTER THE AREA OF CIRCLE'))\n",
    "def circle(r):\n",
    "    result=3.14*r*r\n",
    "    return result\n",
    "\n",
    "ans=circle(r)\n",
    "print(ans)\n"
   ]
  },
  {
   "attachments": {},
   "cell_type": "markdown",
   "metadata": {},
   "source": [
    "PROGRAM TO PRINT SWAPING OF NUMBERS"
   ]
  },
  {
   "cell_type": "code",
   "execution_count": null,
   "metadata": {},
   "outputs": [],
   "source": [
    "# PROGRAM TO PRINT SWAPING OF NUMBERS\n",
    "\n",
    "a=int(input('Enter the value of A'))\n",
    "b=int(input('Enter the value of B'))\n",
    "\n",
    "def swap(a,b):\n",
    "    result=a,b=b,a\n",
    "    return result\n",
    "\n",
    "ans=swap(a,b)\n",
    "print(ans)"
   ]
  },
  {
   "attachments": {},
   "cell_type": "markdown",
   "metadata": {},
   "source": [
    "PROGRAM TO CONVERT KILOMETER TO MILES"
   ]
  },
  {
   "cell_type": "code",
   "execution_count": null,
   "metadata": {},
   "outputs": [],
   "source": [
    "#  PROGRAM TO CONVERT KILOMETER TO MILES\n",
    "# 1 KILOMETER =0.621371\n",
    "\n",
    "k=float(input('ENTER THE VALUE IN KILOMETER'))\n",
    "\n",
    "def kilometer(k):\n",
    "    result=k*0.621371\n",
    "    return result\n",
    "\n",
    "ans=kilometer(k)\n",
    "print(ans)"
   ]
  },
  {
   "attachments": {},
   "cell_type": "markdown",
   "metadata": {},
   "source": [
    "PROGRAM TO FIND POSITIVE AND NEGATIVE NUMBER BY USING FUNCTION"
   ]
  },
  {
   "cell_type": "code",
   "execution_count": null,
   "metadata": {},
   "outputs": [],
   "source": [
    "#  PROGRAM TO FIND POSITIVE AND NEGATIVE NUMBER BY USING FUNCTION\n",
    "# (X>0)=ALL THE GRETEST VALUE TTHAN THE,  ZERO\n",
    "\n",
    "x=int(input(\"enter the value\"))\n",
    "def posneg(x):\n",
    "    if(x>0):\n",
    "        print(x,\" IS POSITIVE\",)\n",
    "    else:\n",
    "        print(x,\" IS NEGATIVE\")\n",
    "posneg(x)        "
   ]
  },
  {
   "attachments": {},
   "cell_type": "markdown",
   "metadata": {},
   "source": [
    "PROGRAM TO FIND EVEN AND ODD BU USING FUNCTION"
   ]
  },
  {
   "cell_type": "code",
   "execution_count": 19,
   "metadata": {},
   "outputs": [
    {
     "name": "stdout",
     "output_type": "stream",
     "text": [
      "Even\n"
     ]
    }
   ],
   "source": [
    "#  PROGRM TO FIND EVEN AND ODD BU USING FUNCTION\n",
    "\n",
    "x=int(input(\"enter the value\"))\n",
    "def evod(x):\n",
    "    if x%2==0:\n",
    "     print(\"Even\")\n",
    "    else:\n",
    "       print(\"Odd\")\n",
    "evod(x)"
   ]
  },
  {
   "attachments": {},
   "cell_type": "markdown",
   "metadata": {},
   "source": [
    "FIND LARGEST AMOUNG THREE NUMBER"
   ]
  },
  {
   "cell_type": "code",
   "execution_count": 4,
   "metadata": {},
   "outputs": [
    {
     "name": "stdout",
     "output_type": "stream",
     "text": [
      "c is largest 30\n"
     ]
    }
   ],
   "source": [
    "#  find largest amoung three numbers\n",
    "\n",
    "a=int(input(\"ENTER THE a VALUE\"))\n",
    "b=int(input('ENTER THE b VALUE'))\n",
    "c=int(input('ENTER THE c VALUE'))\n",
    "  \n",
    "if(a>b & a>c):\n",
    "  print(\"a is largest\",a)\n",
    "elif(b>a & b>c):\n",
    "  print(\"b is largest\",b)\n",
    "else:\n",
    "  print(\"c is largest\",c)\n"
   ]
  },
  {
   "attachments": {},
   "cell_type": "markdown",
   "metadata": {},
   "source": [
    "PROGRAM  TO FIND FACTORIAL OF NUMBER"
   ]
  },
  {
   "cell_type": "code",
   "execution_count": 5,
   "metadata": {},
   "outputs": [
    {
     "name": "stdout",
     "output_type": "stream",
     "text": [
      "The factorial of 5 is 120\n"
     ]
    }
   ],
   "source": [
    "\n",
    "\n",
    "num = int(input(\"Enter a number: \"))\n",
    "\n",
    "factorial = 1\n",
    "\n",
    "# check if the number is negative, positive or zero\n",
    "if num < 0:\n",
    "   print(\"Sorry, factorial does not exist for negative numbers\")\n",
    "elif num == 0:\n",
    "   print(\"The factorial of 0 is 1\")\n",
    "else:\n",
    "   for i in range(1,num + 1):\n",
    "       factorial = factorial*i\n",
    "   print(\"The factorial of\",num,\"is\",factorial)"
   ]
  },
  {
   "attachments": {},
   "cell_type": "markdown",
   "metadata": {},
   "source": [
    "PROGRAM TO CONVERT DECIMAL TO BINARY ,OCTA AND HEXADECIMAL"
   ]
  },
  {
   "cell_type": "code",
   "execution_count": 1,
   "metadata": {},
   "outputs": [
    {
     "name": "stdout",
     "output_type": "stream",
     "text": [
      "0b1100\n",
      "0xc\n",
      "0o14\n"
     ]
    }
   ],
   "source": [
    "# PROGRAM TO CONVERT DECIMAL TO BINARY ,OCTA AND HEXADECIMAL\n",
    " \n",
    "N=int(input('Enter the value'))\n",
    "print(bin(N))\n",
    "print(hex(N))\n",
    "print(oct(N))\n"
   ]
  },
  {
   "attachments": {},
   "cell_type": "markdown",
   "metadata": {},
   "source": [
    "PROGRAM TO FIND ASCII VALUE"
   ]
  },
  {
   "cell_type": "code",
   "execution_count": 2,
   "metadata": {},
   "outputs": [
    {
     "name": "stdout",
     "output_type": "stream",
     "text": [
      "The ASCII value of 'a' is 97\n"
     ]
    }
   ],
   "source": [
    "# PROGRAM TO FIND ASCII VALUE\n",
    "\n",
    "c = input(\"Enter The character\")\n",
    "print(\"The ASCII value of '\" + c + \"' is\", ord(c))\n",
    "#Python ord() function returns the Unicode code from a given character"
   ]
  },
  {
   "attachments": {},
   "cell_type": "markdown",
   "metadata": {},
   "source": [
    "PROGRAM TO PRINT SIMPLE CALCULATOR"
   ]
  },
  {
   "cell_type": "code",
   "execution_count": 4,
   "metadata": {},
   "outputs": [
    {
     "name": "stdout",
     "output_type": "stream",
     "text": [
      "11 -1 30 0.8333333333333334\n"
     ]
    }
   ],
   "source": [
    "#  PROGRAM OT PRINT SIMPLE CALCULATOR\n",
    "\n",
    "a=int(input(\"ENTER THE VALUE OF A\"))\n",
    "b=int(input(\"ENTER THE VALUE OF B\"))\n",
    "sum=a+b\n",
    "diff=a-b\n",
    "multi=a*b\n",
    "div=a/b\n",
    "print(sum,diff,multi,div)\n",
    "    "
   ]
  },
  {
   "attachments": {},
   "cell_type": "markdown",
   "metadata": {},
   "source": [
    "PYTHON PROGRAM TO CHECK WHETHER THE STRING IS PALINDROME OR NOT"
   ]
  },
  {
   "cell_type": "code",
   "execution_count": 7,
   "metadata": {},
   "outputs": [
    {
     "name": "stdout",
     "output_type": "stream",
     "text": [
      "Yes it is a palindrome\n"
     ]
    }
   ],
   "source": [
    "#  PYTHON PROGRAM TO CHECK WHETHER THE STRING IS PALINDROME OR NOT\n",
    "\n",
    "def isPalindrome(s):\n",
    "    return s == s[::-1] #I want to reverse it and found a solution like\n",
    "  \n",
    "  \n",
    "# Driver code\n",
    "s = \"malayalam\"\n",
    "ans = isPalindrome(s)\n",
    "  \n",
    "if ans:\n",
    "    print(\"Yes it is a palindrome\")\n",
    "else:\n",
    "    print(\"No it is not a palindrome\")"
   ]
  },
  {
   "attachments": {},
   "cell_type": "markdown",
   "metadata": {},
   "source": [
    "PYTHON PROGRAM TO MERGE TWO DICTIONARIES"
   ]
  },
  {
   "cell_type": "code",
   "execution_count": 33,
   "metadata": {},
   "outputs": [
    {
     "name": "stdout",
     "output_type": "stream",
     "text": [
      "None\n",
      "{'a': 10, 'b': 20, 'c': 30}\n"
     ]
    }
   ],
   "source": [
    "#  PYTHON PROGRAM TO MERGE TWO DICTIONARIES\n",
    "\n",
    "dict1={'a':10,'b':20,'c':30}\n",
    "dict2={'d':40,'e':50,'f':60}\n",
    "print(dict2.update(dict1))\n",
    "print(dict1)\n"
   ]
  },
  {
   "attachments": {},
   "cell_type": "markdown",
   "metadata": {},
   "source": [
    "PROGRAM TO PRINT CONCATEANATE OF TWO LIST"
   ]
  },
  {
   "cell_type": "code",
   "execution_count": 2,
   "metadata": {},
   "outputs": [
    {
     "data": {
      "text/plain": [
       "['gourav', 's', 'popale', 'is', 'student', 'of keonics center']"
      ]
     },
     "execution_count": 2,
     "metadata": {},
     "output_type": "execute_result"
    }
   ],
   "source": [
    "# PROGRAM TO PRINT CONCATEANATE OF TWO LIST\n",
    "\n",
    "list1=['gourav','s','popale']\n",
    "list2=['is','student','of keonics center']\n",
    "list3=list1+list2\n",
    "list3"
   ]
  },
  {
   "attachments": {},
   "cell_type": "markdown",
   "metadata": {},
   "source": [
    "Assingment"
   ]
  },
  {
   "cell_type": "code",
   "execution_count": 59,
   "metadata": {},
   "outputs": [
    {
     "name": "stdout",
     "output_type": "stream",
     "text": [
      "AGE3 is eldest\n"
     ]
    }
   ],
   "source": [
    "#  WRITE A PROGRAM TO FIND THE ELDEST AMOUNG THREE PERSON AGE RECEVIED FROM THE USER\n",
    "AGE1=int(input(\"Enter the age1\" ))\n",
    "AGE2=int(input(\"Enter the age1\" ))\n",
    "AGE3=int(input(\"Enter the age1\" ))\n",
    "if  AGE1>AGE2 and AGE1>AGE3:\n",
    "     print(\"AGE1 is eldest\")\n",
    "elif AGE2>AGE1 and AGE2>AGE3:\n",
    "    print(\"AGE2 is eldest\")\n",
    "else:\n",
    "    print(\"AGE3 is eldest\")\n"
   ]
  },
  {
   "cell_type": "code",
   "execution_count": 3,
   "metadata": {},
   "outputs": [
    {
     "name": "stdout",
     "output_type": "stream",
     "text": [
      "ENTER THE VALUE IS POSITIVE 20\n"
     ]
    }
   ],
   "source": [
    "2# WRITE A PROGRAM TO PRINT CHECK THE NUMBER RECORDED FROM USER IS POSITIVE OR NEGATIVE\n",
    "\n",
    "num=int(input(\"ENTER THE VALUE\"))\n",
    "if (num>0):\n",
    "    print(\"ENTER THE VALUE IS POSITIVE\",num)\n",
    "else:\n",
    "    print(\"ENTER THE VALUE IS NEGATIVE\",num)"
   ]
  },
  {
   "cell_type": "code",
   "execution_count": 19,
   "metadata": {},
   "outputs": [
    {
     "name": "stdout",
     "output_type": "stream",
     "text": [
      " ADDITION OF NUMBER IS 6\n",
      " SUBTACTION OF NUMBER IS -2\n",
      " MULTIPLICATION OF NUMBER IS 8\n",
      " DIVISION OF NUMBER IS 0.5\n",
      " MOUDUL OF NUMBER IS 2\n",
      "SQUAREROOT OF NUMBER 16\n",
      "FLOOR DIVISION OF NUMBER 0\n",
      "CAP OF NUMBER 6\n"
     ]
    }
   ],
   "source": [
    "4#  WRITE A PROGRAM TO ACCEPT TWO NUMBERS AND MATHEMATICAL OPREATORS AND PERFORM OPERATIONS ACORDINGLY\n",
    "A=int(input(\"ENTER THE VALUE  A \"))\n",
    "B=int(input(\"ENTER THE VALUE  B \"))\n",
    "print(\" ADDITION OF NUMBER IS\" ,A+B)\n",
    "print(\" SUBTACTION OF NUMBER IS\" ,A-B)\n",
    "print(\" MULTIPLICATION OF NUMBER IS\" ,A*B)\n",
    "print(\" DIVISION OF NUMBER IS\" ,A/B)\n",
    "print(\" MOUDUL OF NUMBER IS\" ,A%B)\n",
    "print(\" SQUARE OF NUMBER\" ,A**B)\n",
    "print(\" FLOOR DIVISION OF NUMBER\",A//B)\n",
    "print(\" CAP OF NUMBER\",A^B)\n"
   ]
  },
  {
   "cell_type": "code",
   "execution_count": 5,
   "metadata": {},
   "outputs": [
    {
     "name": "stdout",
     "output_type": "stream",
     "text": [
      "100\n",
      "SCORED MARKS IS 60\n",
      "PASS\n"
     ]
    }
   ],
   "source": [
    "#  WRITE A PROGRAM IF YOU HAVE WRITTEN AN EXAM FOR A TOTAL SCORE OF 100 AND IF YOU SCORE IS ABOVE OR EQUAL TO 60 THEN YOU WILL BE CONSIDERED AS PASSS IN EXAM\n",
    "T=int(input(\"Enter the total score\"))\n",
    "print(T)\n",
    "result=int(input(\"ENTER THE RESULT\"))\n",
    "print(\"SCORED MARKS IS\",result)\n",
    "if(result<=59):\n",
    "    print(\"FAIL\")\n",
    "else:\n",
    "    print(\"PASS\")\n"
   ]
  },
  {
   "cell_type": "code",
   "execution_count": 14,
   "metadata": {},
   "outputs": [
    {
     "name": "stdout",
     "output_type": "stream",
     "text": [
      "[('gourav', 1), ('shanker', 2), ('samarth', 3), ('raju', 4)]\n"
     ]
    }
   ],
   "source": [
    "# ZIP METHOD\n",
    "name  = ('gourav','shanker','samarth','raju')\n",
    "roll_no = (1,2,3,4)\n",
    "added = zip(name,roll_no)\n",
    " \n",
    "print(list(added))\n"
   ]
  }
 ],
 "metadata": {
  "kernelspec": {
   "display_name": "Python 3",
   "language": "python",
   "name": "python3"
  },
  "language_info": {
   "codemirror_mode": {
    "name": "ipython",
    "version": 3
   },
   "file_extension": ".py",
   "mimetype": "text/x-python",
   "name": "python",
   "nbconvert_exporter": "python",
   "pygments_lexer": "ipython3",
   "version": "3.9.13"
  },
  "orig_nbformat": 4
 },
 "nbformat": 4,
 "nbformat_minor": 2
}
