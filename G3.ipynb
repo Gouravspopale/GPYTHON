{
 "cells": [
  {
   "cell_type": "code",
   "execution_count": 47,
   "metadata": {},
   "outputs": [
    {
     "name": "stdout",
     "output_type": "stream",
     "text": [
      "45\n",
      "Entered value is odd\n"
     ]
    }
   ],
   "source": [
    "#FINDING SUM OF TWO NUMBER AND IDENTYFING WETHER IT IS EVEN OR ODD BY USING THERR FUNCTION..\n",
    "def readdata():\n",
    "    a = int(input(\"Enter the data\"))\n",
    "    b = int(input(\"Enter the data\"))\n",
    "    addition(a,b)\n",
    "\n",
    "def addition(a,b):\n",
    "    sum = a+b\n",
    "    print(sum)\n",
    "    oddeven(sum)\n",
    "    \n",
    "\n",
    "def oddeven(sum):\n",
    "    if(sum % 2 == 0):\n",
    "        print(\"Entered value is even\")\n",
    "    else:\n",
    "        print(\"Entered value is odd\")\n",
    "\n",
    "readdata()"
   ]
  }
 ],
 "metadata": {
  "kernelspec": {
   "display_name": "Python 3",
   "language": "python",
   "name": "python3"
  },
  "language_info": {
   "codemirror_mode": {
    "name": "ipython",
    "version": 3
   },
   "file_extension": ".py",
   "mimetype": "text/x-python",
   "name": "python",
   "nbconvert_exporter": "python",
   "pygments_lexer": "ipython3",
   "version": "3.9.13"
  },
  "orig_nbformat": 4
 },
 "nbformat": 4,
 "nbformat_minor": 2
}
