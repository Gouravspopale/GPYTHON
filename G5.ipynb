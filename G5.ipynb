{
 "cells": [
  {
   "attachments": {},
   "cell_type": "markdown",
   "metadata": {},
   "source": [
    "PROGRAM ON LIST WITH ALL BUILT-IN FUNCTION"
   ]
  },
  {
   "cell_type": "code",
   "execution_count": 4,
   "metadata": {},
   "outputs": [
    {
     "name": "stdout",
     "output_type": "stream",
     "text": [
      "100\n"
     ]
    }
   ],
   "source": [
    "# PICKING PATICULAR OBJECT BY USING INDEX (value)\n",
    "\n",
    "list = [10,15,20,[100,200],\"gourav\"]\n",
    "print(list[3][0])"
   ]
  },
  {
   "cell_type": "code",
   "execution_count": 3,
   "metadata": {},
   "outputs": [
    {
     "name": "stdout",
     "output_type": "stream",
     "text": [
      "['g', 'o', 'u', 'r', 'a', 'v']\n"
     ]
    }
   ],
   "source": [
    "# SPLITING VALUES BY ENTERED OBJECT BY \n",
    "\n",
    "# using. SPACE IN LIST\n",
    "\n",
    "list1 = input(\"Enter the value\")\n",
    "list2 = list1.split()\n",
    "print(list2)\n"
   ]
  },
  {
   "cell_type": "code",
   "execution_count": 6,
   "metadata": {},
   "outputs": [
    {
     "data": {
      "text/plain": [
       "['10', '20', [30, 40, 50, 60]]"
      ]
     },
     "execution_count": 6,
     "metadata": {},
     "output_type": "execute_result"
    }
   ],
   "source": [
    "# USING APPEND IN LIST TO ADD OBJECT\n",
    "\n",
    "list=[]\n",
    "list.append(input(\"Enter the value\"))\n",
    "list.append(input(\"Enter the value\"))\n",
    "list.append([30,40,50,60])\n",
    "list"
   ]
  },
  {
   "cell_type": "code",
   "execution_count": 7,
   "metadata": {},
   "outputs": [
    {
     "name": "stdout",
     "output_type": "stream",
     "text": [
      "2\n"
     ]
    }
   ],
   "source": [
    "# USING COUNT() IN LIST \n",
    "\n",
    "# (Returns the count of how many times object occurs in the list.)\n",
    "\n",
    "list=['a','b','b','c','e','f']\n",
    "print(list.count('b'))\n"
   ]
  },
  {
   "cell_type": "code",
   "execution_count": 8,
   "metadata": {},
   "outputs": [
    {
     "data": {
      "text/plain": [
       "['Hi well come', 'Gourav']"
      ]
     },
     "execution_count": 8,
     "metadata": {},
     "output_type": "execute_result"
    }
   ],
   "source": [
    "# USING EXTEND IN LIST TO (ADD WHOLE LIST) \n",
    "\n",
    "list1=[\"Hi well come\"]\n",
    "list1.extend([\"Gourav\"])\n",
    "list1"
   ]
  },
  {
   "cell_type": "code",
   "execution_count": 9,
   "metadata": {},
   "outputs": [
    {
     "data": {
      "text/plain": [
       "['Good', 'Is', 'Gourav']"
      ]
     },
     "execution_count": 9,
     "metadata": {},
     "output_type": "execute_result"
    }
   ],
   "source": [
    "# USING REVERSE IN LIST\n",
    "# revers the whole list\n",
    "list = [\"Gourav\",\"Is\",\"Good\"]\n",
    "list.reverse()\n",
    "list"
   ]
  },
  {
   "cell_type": "code",
   "execution_count": 10,
   "metadata": {},
   "outputs": [
    {
     "data": {
      "text/plain": [
       "['Gourav', 'popale']"
      ]
     },
     "execution_count": 10,
     "metadata": {},
     "output_type": "execute_result"
    }
   ],
   "source": [
    "# USING REMOVE IN LIST(IT WILL REMOVE ONLY DIRECT OBJECT)\n",
    "\n",
    "list = [\"Gourav\",'s',\"popale\"]\n",
    "list.remove(\"s\")\n",
    "list"
   ]
  },
  {
   "cell_type": "code",
   "execution_count": 11,
   "metadata": {},
   "outputs": [
    {
     "data": {
      "text/plain": [
       "[10, 20, 30, 40, 50]"
      ]
     },
     "execution_count": 11,
     "metadata": {},
     "output_type": "execute_result"
    }
   ],
   "source": [
    "# USING POP() IN LIST WHICH REMOVE\n",
    "# note: BY DEFAULT(-1)(LAST OBJECT)\n",
    "\n",
    "list = [10,20,30,40,50,60]\n",
    "list.pop()\n",
    "list"
   ]
  },
  {
   "cell_type": "code",
   "execution_count": 12,
   "metadata": {},
   "outputs": [
    {
     "name": "stdout",
     "output_type": "stream",
     "text": [
      "[1, 3, 4, 5, 6, 7, 8, 9, 10]\n"
     ]
    }
   ],
   "source": [
    "#  USING SORT() IN LIST\n",
    "LIST=[1,5,3,6,9,4,7,8,10]  # note:\n",
    "LIST.sort()                # sort  will arange in accending order\n",
    "# LIST.sort(reverse=True)  # reverse=True will sort the list in descending.\n",
    "print(LIST)"
   ]
  },
  {
   "cell_type": "code",
   "execution_count": 13,
   "metadata": {},
   "outputs": [
    {
     "data": {
      "text/plain": [
       "[0, 1, 2, 3, 4, 5, 6]"
      ]
     },
     "execution_count": 13,
     "metadata": {},
     "output_type": "execute_result"
    }
   ],
   "source": [
    "#  USING INSERT() IN LIST\n",
    "\n",
    "list=[1,2,3,4,5,6]  \n",
    "list.insert(0,0)  #ndex: the index at which the element has to be inserted.\n",
    "list"
   ]
  },
  {
   "cell_type": "code",
   "execution_count": 37,
   "metadata": {},
   "outputs": [
    {
     "name": "stdout",
     "output_type": "stream",
     "text": [
      "50\n"
     ]
    }
   ],
   "source": [
    "#  program to print elements by using index and (%d))\n",
    "\n",
    "num=[10,20,30,40,50]\n",
    "print('total list=',num)\n",
    "print('first=%d ,last=%d' % (num[0],num[4]))\n",
    "# print(num[4])"
   ]
  },
  {
   "cell_type": "code",
   "execution_count": 2,
   "metadata": {},
   "outputs": [
    {
     "name": "stdout",
     "output_type": "stream",
     "text": [
      "[0, 2, 4, 6, 8, 10]\n",
      "[[0, 1, 2], [0, 1, 2], [0, 1, 2]]\n"
     ]
    }
   ],
   "source": [
    "#  python list program on Comprehension method\n",
    "\n",
    "list = [i for i in range(11) if i % 2 == 0]# condition to print even numbers\n",
    "print(list)\n",
    "\n",
    "# matrix in comprehension\n",
    "matrix = [[j for j in range(3)] for i in range(3)]\n",
    "   \n",
    "print(matrix)"
   ]
  },
  {
   "attachments": {},
   "cell_type": "markdown",
   "metadata": {},
   "source": [
    "PROGRAM ON TUPLE BY USING IT'S BUILT IN FUNCTION"
   ]
  },
  {
   "cell_type": "code",
   "execution_count": 15,
   "metadata": {},
   "outputs": [
    {
     "name": "stdout",
     "output_type": "stream",
     "text": [
      "<class 'tuple'>\n"
     ]
    }
   ],
   "source": [
    "#  cerating a empty tuple\n",
    "\n",
    "Tuple1=()\n",
    "print(type(Tuple1))"
   ]
  },
  {
   "cell_type": "code",
   "execution_count": 16,
   "metadata": {},
   "outputs": [
    {
     "name": "stdout",
     "output_type": "stream",
     "text": [
      "\n",
      "Tuple using List: \n",
      "(1, 2, 4, 5, 6)\n"
     ]
    }
   ],
   "source": [
    "# Creating a Tuple with the use of list\n",
    "\n",
    "list1 = [1, 2, 4, 5, 6]\n",
    "print(\"\\nTuple using List: \")\n",
    "print(tuple(list1))"
   ]
  },
  {
   "cell_type": "code",
   "execution_count": 17,
   "metadata": {},
   "outputs": [
    {
     "name": "stdout",
     "output_type": "stream",
     "text": [
      "\n",
      "Tuple with the use of function: \n",
      "('G', 'e', 'e', 'k', 's')\n"
     ]
    }
   ],
   "source": [
    "# Creating a Tuple with the use of built-in function\n",
    "\n",
    "Tuple1 = tuple('Geeks')\n",
    "print(\"\\nTuple with the use of function: \")\n",
    "print(Tuple1)"
   ]
  },
  {
   "cell_type": "code",
   "execution_count": 18,
   "metadata": {},
   "outputs": [
    {
     "name": "stdout",
     "output_type": "stream",
     "text": [
      "\n",
      "Tuple with nested tuples: \n",
      "((0, 1, 2, 3), ('python', 'geek'))\n"
     ]
    }
   ],
   "source": [
    "# Creating a Tuple\n",
    "# with nested tuples\n",
    "Tuple1 = (0, 1, 2, 3)\n",
    "Tuple2 = ('python', 'geek')\n",
    "Tuple3 = (Tuple1,Tuple2)\n",
    "print(\"\\nTuple with nested tuples: \")\n",
    "print(Tuple3)"
   ]
  },
  {
   "cell_type": "code",
   "execution_count": 19,
   "metadata": {},
   "outputs": [
    {
     "name": "stdout",
     "output_type": "stream",
     "text": [
      "\n",
      "First element of Tuple: \n",
      "G\n"
     ]
    }
   ],
   "source": [
    "# Accessing Tuple with Indexing\n",
    "\n",
    "Tuple1 = tuple(\"Geeks\")\n",
    "print(\"\\nFirst element of Tuple: \")\n",
    "print(Tuple1[0])\n",
    " "
   ]
  },
  {
   "cell_type": "code",
   "execution_count": 20,
   "metadata": {},
   "outputs": [
    {
     "name": "stdout",
     "output_type": "stream",
     "text": [
      "g\n",
      "v\n"
     ]
    }
   ],
   "source": [
    "\n",
    "# Accessing the lement using positive indexing\n",
    "t1 = (\"g\",\"o\",\"r\",\"a\",\"v\")\n",
    "print(t1[0])    #print \"g\"\n",
    "print(t1[4])    #print \"v\""
   ]
  },
  {
   "cell_type": "code",
   "execution_count": 21,
   "metadata": {},
   "outputs": [
    {
     "name": "stdout",
     "output_type": "stream",
     "text": [
      "a\n",
      "o\n"
     ]
    }
   ],
   "source": [
    "# Accessing the lement using negative indexing\n",
    "t1 = (\"g\",\"o\",\"r\",\"a\",\"v\")\n",
    "print(t1[-2])    #print \"a\"\n",
    "print(t1[-4])    #print \"o\""
   ]
  },
  {
   "cell_type": "code",
   "execution_count": 22,
   "metadata": {},
   "outputs": [
    {
     "name": "stdout",
     "output_type": "stream",
     "text": [
      "(2, 3, 4, 5)\n",
      "(1, 2)\n",
      "(8, 9)\n",
      "(1, 2, 3, 4, 5, 6, 7, 8, 9)\n"
     ]
    }
   ],
   "source": [
    "# Accessing tuple element using slicing\n",
    "my_tuple = (1,2,3,4,5,6,7,8,9)\n",
    "print(my_tuple[1:5])    #(2,3,4,5)\n",
    "print(my_tuple[:-7])    #(1,2)\n",
    "print(my_tuple[7:])     #(8,9)\n",
    "print(my_tuple[:])      # returns all the tuples items"
   ]
  },
  {
   "cell_type": "code",
   "execution_count": 23,
   "metadata": {},
   "outputs": [
    {
     "name": "stdout",
     "output_type": "stream",
     "text": [
      "2\n",
      "1\n",
      "5\n"
     ]
    }
   ],
   "source": [
    "# Using count and index in tuple\n",
    "my_tuple = (\"h\",\"u\",\"b\",\"l\",\"i\",\"k\",\"e\",\"o\",\"n\",\"i\",\"c\",\"s\")\n",
    "print(my_tuple.count(\"i\"))   #2\n",
    "print(my_tuple.count(\"n\"))   #1\n",
    "print(my_tuple.index(\"k\"))   #5"
   ]
  },
  {
   "cell_type": "code",
   "execution_count": 24,
   "metadata": {},
   "outputs": [
    {
     "name": "stdout",
     "output_type": "stream",
     "text": [
      "False\n",
      "True\n"
     ]
    }
   ],
   "source": [
    "# Check if an item exists in the python Tuple\n",
    "\n",
    "my_tuple = (\"Gourav\",\"keonics\",\"student\")\n",
    "print(\"hubli\" in my_tuple)   #FALSE\n",
    "print(\"Gourav\" in my_tuple)  #TRUE\n"
   ]
  },
  {
   "cell_type": "code",
   "execution_count": 25,
   "metadata": {},
   "outputs": [
    {
     "name": "stdout",
     "output_type": "stream",
     "text": [
      "\n",
      "Values after unpacking: \n",
      "Geeks\n",
      "For\n",
      "Geeks\n"
     ]
    }
   ],
   "source": [
    "# Tuple unpacking\n",
    "Tuple1 = (\"Geeks\", \"For\", \"Geeks\")\n",
    " \n",
    "# This line unpack\n",
    "# values of Tuple1\n",
    "a, b, c = Tuple1\n",
    "print(\"\\nValues after unpacking: \")\n",
    "print(a)\n",
    "print(b)\n",
    "print(c)"
   ]
  },
  {
   "cell_type": "code",
   "execution_count": 26,
   "metadata": {},
   "outputs": [
    {
     "ename": "NameError",
     "evalue": "name 'Tuple1' is not defined",
     "output_type": "error",
     "traceback": [
      "\u001b[1;31m---------------------------------------------------------------------------\u001b[0m",
      "\u001b[1;31mNameError\u001b[0m                                 Traceback (most recent call last)",
      "Cell \u001b[1;32mIn[26], line 6\u001b[0m\n\u001b[0;32m      3\u001b[0m Tuple1 \u001b[39m=\u001b[39m (\u001b[39m0\u001b[39m, \u001b[39m1\u001b[39m, \u001b[39m2\u001b[39m, \u001b[39m3\u001b[39m, \u001b[39m4\u001b[39m)\n\u001b[0;32m      4\u001b[0m \u001b[39mdel\u001b[39;00m Tuple1\n\u001b[1;32m----> 6\u001b[0m \u001b[39mprint\u001b[39m(Tuple1)\n",
      "\u001b[1;31mNameError\u001b[0m: name 'Tuple1' is not defined"
     ]
    }
   ],
   "source": [
    "# Deleting a Tuple\n",
    " \n",
    "Tuple1 = (0, 1, 2, 3, 4)\n",
    "del Tuple1\n",
    " \n",
    "print(Tuple1)"
   ]
  },
  {
   "attachments": {},
   "cell_type": "markdown",
   "metadata": {},
   "source": [
    "PROGRAM ON SET"
   ]
  },
  {
   "cell_type": "code",
   "execution_count": null,
   "metadata": {},
   "outputs": [
    {
     "name": "stdout",
     "output_type": "stream",
     "text": [
      "{'geek', 'for'}\n",
      "{'h', 'e', 'o', 'l'}\n"
     ]
    }
   ],
   "source": [
    "# A set cannot have duplicate values( it will hold only unique values)\n",
    "set={\"geek\",\"for\",\"geek\"} \n",
    "print(set)\n",
    "set={\"h\",\"e\",\"l\",\"l\",\"o\"}\n",
    "print(set)"
   ]
  },
  {
   "cell_type": "code",
   "execution_count": null,
   "metadata": {},
   "outputs": [
    {
     "name": "stdout",
     "output_type": "stream",
     "text": [
      "{'to', 'come', 'traning', 'well', 'keonics', 'hi', 'center'}\n"
     ]
    }
   ],
   "source": [
    "#  A set can store hetrogeneous elements(set are unorder in seq.) \n",
    "myset={\"hi\",\"well\",\"come\",\"to\",\"keonics\",\"traning\",\"center\"}\n",
    "print(myset)"
   ]
  },
  {
   "cell_type": "code",
   "execution_count": null,
   "metadata": {},
   "outputs": [
    {
     "name": "stdout",
     "output_type": "stream",
     "text": [
      "{'s', 'Gourav', 'popale'}\n"
     ]
    }
   ],
   "source": [
    "# Adding a string in a set,\n",
    "set ={\"Gourav\",\"popale\"}\n",
    "set.add(\"s\")\n",
    "print(set)"
   ]
  },
  {
   "cell_type": "code",
   "execution_count": null,
   "metadata": {},
   "outputs": [
    {
     "name": "stdout",
     "output_type": "stream",
     "text": [
      "{'lactose', 'google', 'ralph lauren', 'apple'}\n"
     ]
    }
   ],
   "source": [
    "# using update in set\n",
    "set1={'lactose','ralph lauren'}\n",
    "set2={'apple','google','apple'}\n",
    "\n",
    "set1.update(set2)\n",
    "#  whole set2 will update in set1\n",
    "print(set1)"
   ]
  },
  {
   "cell_type": "code",
   "execution_count": null,
   "metadata": {},
   "outputs": [
    {
     "name": "stdout",
     "output_type": "stream",
     "text": [
      "{'Gourav', 'popale'}\n"
     ]
    }
   ],
   "source": [
    "# Using Discard in set\n",
    "set1={'Gourav','s','popale'}\n",
    "set1.discard('s')\n",
    "#  and also we can use remove().function\n",
    "print(set1)"
   ]
  },
  {
   "cell_type": "code",
   "execution_count": null,
   "metadata": {},
   "outputs": [
    {
     "name": "stdout",
     "output_type": "stream",
     "text": [
      "9\n"
     ]
    }
   ],
   "source": [
    "# Find Number of set Elements     \n",
    "set_number={1,2,3,4,5,6,7,8,9,1,2,3}\n",
    "#it will not count repeated value again and again\n",
    "print(len(set_number))"
   ]
  },
  {
   "cell_type": "code",
   "execution_count": null,
   "metadata": {},
   "outputs": [
    {
     "name": "stdout",
     "output_type": "stream",
     "text": [
      "{2, 5}\n"
     ]
    }
   ],
   "source": [
    "# Using intersection in set  \n",
    "set1={1,2,3,4,5}\n",
    "set2={7,6,2,5,8}\n",
    "print(set1.intersection(set2))\n",
    "# it will just take (common) values"
   ]
  },
  {
   "cell_type": "code",
   "execution_count": null,
   "metadata": {},
   "outputs": [
    {
     "name": "stdout",
     "output_type": "stream",
     "text": [
      "{1, 3, 4, 6, 7, 8}\n"
     ]
    }
   ],
   "source": [
    "#  Using Symmetric_difference in set  \n",
    "setA={1,2,3,4,5}\n",
    "setB={7,6,2,5,8}\n",
    "print(setA.symmetric_difference(setB))\n",
    "#the common values will not print"
   ]
  },
  {
   "cell_type": "code",
   "execution_count": null,
   "metadata": {},
   "outputs": [
    {
     "name": "stdout",
     "output_type": "stream",
     "text": [
      "{1, 2, 3, 4, 5, 6}\n"
     ]
    }
   ],
   "source": [
    "# Adding values in set using for loop\n",
    "set1=set()\n",
    "set1.add(6)\n",
    "for i in range(1,6):\n",
    "    set1.add(i)\n",
    "print(set1)"
   ]
  },
  {
   "cell_type": "code",
   "execution_count": null,
   "metadata": {},
   "outputs": [
    {
     "data": {
      "text/plain": [
       "set()"
      ]
     },
     "execution_count": 1,
     "metadata": {},
     "output_type": "execute_result"
    }
   ],
   "source": [
    "#  using clearing sets\n",
    "set1={1,2,3,4,5,6}\n",
    "# set1\n",
    "set1.clear()\n",
    "set1"
   ]
  },
  {
   "cell_type": "code",
   "execution_count": null,
   "metadata": {},
   "outputs": [
    {
     "name": "stdout",
     "output_type": "stream",
     "text": [
      "{1, 2, 3, 4, 5, 6, 7, 8, 9, 10}\n"
     ]
    }
   ],
   "source": [
    "# to print union set by using function and operator\n",
    "setg={1,2,3,4,5}\n",
    "sets={6,7,8,9,10}\n",
    "# by function\n",
    "set1=setg.union(sets)\n",
    "set1\n",
    "# by operator\n",
    "print(setg|sets)"
   ]
  },
  {
   "cell_type": "code",
   "execution_count": null,
   "metadata": {},
   "outputs": [
    {
     "name": "stdout",
     "output_type": "stream",
     "text": [
      "True\n",
      "True\n"
     ]
    }
   ],
   "source": [
    "#  program to check set1 is equivalent to set2 by using operator\n",
    "set1={1,2,3,4,5}\n",
    "set2={1,2,3,4,5}\n",
    "# if element are same thn it is equivalent\n",
    "# equivalent operator\n",
    "print(set1 == set2)\n",
    "# if it is equivalent it prints (True)\n",
    "\n",
    "# if set1 is not equivalent to set2 by using opreator\n",
    "\n",
    "set1={1,2,3,4,5}\n",
    "set2={6,7,8,9,10}\n",
    "#  if it is not equivalent to set2 (thn it prints True)\n",
    "print(set1!=set2)\n"
   ]
  },
  {
   "cell_type": "code",
   "execution_count": null,
   "metadata": {},
   "outputs": [
    {
     "name": "stdout",
     "output_type": "stream",
     "text": [
      "True\n",
      "True\n",
      "False\n"
     ]
    }
   ],
   "source": [
    "#  program to print (subset) of elements with operator\n",
    "# subset\n",
    "s1={\"gourav\",\"1650\",\"frooti\"}\n",
    "s2={\"gourav\",\"1650\",\"frooti\"}\n",
    "# A set A is a subset of another set B if all elements of the set A are elements of the set B.\n",
    "print(s1<=s2)\n",
    "\n",
    "#  program to print propersubset of element\n",
    "s1={1,2,3,4,5}\n",
    "s2={6,8,9,10,1,2,3,4,5}\n",
    "# A proper subset is one that contains a few elements of the original set\n",
    "print(s1<s2)\n",
    "\n",
    "# program to print (superset) \n",
    "s1={1,2,3,4}\n",
    "s2={1,2,3,4,5,6,7,8,9} # same has subset\n",
    "print(s1>=s2)\n",
    "\n",
    "\n"
   ]
  },
  {
   "attachments": {},
   "cell_type": "markdown",
   "metadata": {},
   "source": [
    "PROGRAM ON DICTIONARY"
   ]
  },
  {
   "cell_type": "code",
   "execution_count": null,
   "metadata": {},
   "outputs": [
    {
     "name": "stdout",
     "output_type": "stream",
     "text": [
      "<class 'dict'>\n"
     ]
    }
   ],
   "source": [
    "# <class type>(dictionary)\n",
    "dict={}\n",
    "print(type(dict))"
   ]
  },
  {
   "cell_type": "code",
   "execution_count": null,
   "metadata": {},
   "outputs": [
    {
     "data": {
      "text/plain": [
       "{'name': 'Gourav', 'from': 'hubli'}"
      ]
     },
     "execution_count": 2,
     "metadata": {},
     "output_type": "execute_result"
    }
   ],
   "source": [
    "# simple progam to print dictionary\n",
    "dict = {\"name\":(\"Gourav\"),\"from\":(\"hubli\")}\n",
    "dict"
   ]
  },
  {
   "cell_type": "code",
   "execution_count": null,
   "metadata": {},
   "outputs": [
    {
     "name": "stdout",
     "output_type": "stream",
     "text": [
      "Empty Dictionary: \n",
      "{}\n"
     ]
    }
   ],
   "source": [
    "# Creating an empty Dictionary\n",
    "Dict = {}\n",
    "print(\"Empty Dictionary: \")\n",
    "print(Dict)"
   ]
  },
  {
   "cell_type": "code",
   "execution_count": null,
   "metadata": {},
   "outputs": [
    {
     "name": "stdout",
     "output_type": "stream",
     "text": [
      "{}\n",
      "{1: 'gourav', 2: 'hubli', 3: 'karnataka'}\n",
      "{'a': 'gourav', 'b': 'gourav'}\n"
     ]
    },
    {
     "data": {
      "text/plain": [
       "{1: 'gourav', 2: 'hubli', 3: 'karnataka'}"
      ]
     },
     "execution_count": 12,
     "metadata": {},
     "output_type": "execute_result"
    }
   ],
   "source": [
    "#  using clear() in dictionary to remove all iteams from dictionary\n",
    "dict1={1:'gourav',2:'hubli',3:'karnataka'}\n",
    "dict1.clear()\n",
    "print(dict1)\n",
    "\n",
    "#  using copy() in return a shallow copy of the dictionary\n",
    "dict2={1:'gourav',2:'hubli',3:'karnataka'}\n",
    "dict2.copy()\n",
    "print(dict2)\n",
    "\n",
    "# creat a dictionary from a given sequence\n",
    "seq=('a','b')\n",
    "print(dict.fromkeys(seq,\"gourav\"))\n",
    "\n",
    "#  using get() to return (value) for the given key\n",
    "dict={1:'gourav',2:'hubli',3:'karnataka'}\n",
    "dict1=dict.get(1)\n",
    "dict"
   ]
  },
  {
   "cell_type": "code",
   "execution_count": null,
   "metadata": {},
   "outputs": [
    {
     "name": "stdout",
     "output_type": "stream",
     "text": [
      "dict_keys([1, 2, 3, 4, 5, 6])\n",
      "gourav\n",
      "(6, 'india')\n",
      "{2: 's', 3: 'popale', 4: 'hubli', 5: 'karnataka', 7: 'jai shre ram'}\n",
      "dict_values(['s', 'popale', 'hubli', 'karnataka', 'jai shre ram'])\n"
     ]
    }
   ],
   "source": [
    "d1={1:\"gourav\",2:\"s\",3:\"popale\",4:\"hubli\",5:\"karnataka\",6:\"india\"}\n",
    "d2={7:\"jai shre ram\"}\n",
    "# it will return all the keys present in dictionary\n",
    "print(d1.keys())\n",
    "\n",
    "# return and removes the element by the given key by using pop() method\n",
    "print(d1.pop(1))     # we can also use paticular index to remove\n",
    "print(d1.popitem())  # it remove by default(-1) last pair\n",
    "\n",
    "#  using (update()) to add another dictionary\n",
    "d1.update(d2)\n",
    "print(d1)\n",
    "\n",
    "print(d1.values())  #  only returning values"
   ]
  }
 ],
 "metadata": {
  "kernelspec": {
   "display_name": "GouravENV",
   "language": "python",
   "name": "python3"
  },
  "language_info": {
   "codemirror_mode": {
    "name": "ipython",
    "version": 3
   },
   "file_extension": ".py",
   "mimetype": "text/x-python",
   "name": "python",
   "nbconvert_exporter": "python",
   "pygments_lexer": "ipython3",
   "version": "3.11.2"
  },
  "orig_nbformat": 4
 },
 "nbformat": 4,
 "nbformat_minor": 2
}
